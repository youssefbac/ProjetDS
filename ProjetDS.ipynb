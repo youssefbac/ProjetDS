{
  "nbformat": 4,
  "nbformat_minor": 0,
  "metadata": {
    "colab": {
      "name": "ProjetDS.ipynb",
      "provenance": [],
      "collapsed_sections": []
    },
    "kernelspec": {
      "name": "python3",
      "display_name": "Python 3"
    },
    "language_info": {
      "name": "python"
    }
  },
  "cells": [
    {
      "cell_type": "code",
      "execution_count": 64,
      "metadata": {
        "id": "RmNOeSuLl5ce",
        "colab": {
          "base_uri": "https://localhost:8080/"
        },
        "outputId": "d3943729-5f95-4918-c217-fdb4d4ee2cb6"
      },
      "outputs": [
        {
          "output_type": "stream",
          "name": "stdout",
          "text": [
            "[nltk_data] Downloading package punkt to /root/nltk_data...\n",
            "[nltk_data]   Package punkt is already up-to-date!\n",
            "[nltk_data] Downloading package wordnet to /root/nltk_data...\n",
            "[nltk_data]   Package wordnet is already up-to-date!\n"
          ]
        }
      ],
      "source": [
        "import matplotlib.pyplot as plt\n",
        "import numpy as np\n",
        "import pandas as pd\n",
        "from collections import Counter\n",
        "from sklearn_pandas import CategoricalImputer\n",
        "import seaborn as sns\n",
        "import nltk\n",
        "nltk.download('punkt')\n",
        "nltk.download('wordnet')\n",
        "from nltk.tokenize import sent_tokenize, word_tokenize\n",
        "from nltk.stem import PorterStemmer, WordNetLemmatizer\n",
        "from sklearn.feature_extraction.text import TfidfTransformer, CountVectorizer\n",
        "import re"
      ]
    },
    {
      "cell_type": "markdown",
      "source": [
        "**Check list**\n",
        "\n",
        "**Rows and columns:** (311,130)\n",
        "\n",
        "**Variable Type: ** \n",
        "\n",
        "**Variable qualitative:**  Organization_1 à  Organization_6\n",
        "                           headline\n",
        "                           fullname\n",
        "                           location_name\n",
        "                           current_company_position\n",
        "                           current_company\n",
        "                           education_1 à education_3\n",
        "\n",
        "**Variable quantitative:** organization_start_1 à organization_start_6\n",
        "                           organization_end_1   à organization_end_1\n",
        "\n",
        "**Analysis of missing values:** we have a lot of missing values:\n",
        "               we have almost half of the variables >85% NAN\n",
        "\n"
      ],
      "metadata": {
        "id": "Q69PpFPVl-XQ"
      }
    },
    {
      "cell_type": "markdown",
      "source": [
        "**Data shape analysis**"
      ],
      "metadata": {
        "id": "30qJYfn-mCaz"
      }
    },
    {
      "cell_type": "code",
      "source": [
        "pd.set_option('display.max_row',130)"
      ],
      "metadata": {
        "id": "9XiNCqVwru4H"
      },
      "execution_count": 65,
      "outputs": []
    },
    {
      "cell_type": "code",
      "source": [
        "!python generate_ProjetDS.py --image_dir=CrowdHumanTrain --csv_input=DataBase.csv --output_path=ch_train.record --label \"head\""
      ],
      "metadata": {
        "colab": {
          "base_uri": "https://localhost:8080/"
        },
        "id": "fJB_0GRtW4fy",
        "outputId": "0728ecd1-5c1d-4d50-c8c2-e9de0812f816"
      },
      "execution_count": 66,
      "outputs": [
        {
          "output_type": "stream",
          "name": "stdout",
          "text": [
            "python3: can't open file 'generate_ProjetDS.py': [Errno 2] No such file or directory\n"
          ]
        }
      ]
    },
    {
      "cell_type": "code",
      "source": [
        "import io\n",
        "from google.colab import files\n",
        "data=files.upload()\n",
        "df=pd.read_csv(io.BytesIO(data['DataBase.csv']),sep=';',error_bad_lines=False,encoding='latin1')"
      ],
      "metadata": {
        "colab": {
          "resources": {
            "http://localhost:8080/nbextensions/google.colab/files.js": {
              "data": "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",
              "ok": true,
              "headers": [
                [
                  "content-type",
                  "application/javascript"
                ]
              ],
              "status": 200,
              "status_text": ""
            }
          },
          "base_uri": "https://localhost:8080/",
          "height": 162
        },
        "id": "L_VpwmVg5csj",
        "outputId": "a9560a89-6a2b-4bed-df5e-38aa5911e43a"
      },
      "execution_count": 67,
      "outputs": [
        {
          "output_type": "display_data",
          "data": {
            "text/plain": [
              "<IPython.core.display.HTML object>"
            ],
            "text/html": [
              "\n",
              "     <input type=\"file\" id=\"files-cbc9d79f-182a-41d7-baba-50c34bd8e9f0\" name=\"files[]\" multiple disabled\n",
              "        style=\"border:none\" />\n",
              "     <output id=\"result-cbc9d79f-182a-41d7-baba-50c34bd8e9f0\">\n",
              "      Upload widget is only available when the cell has been executed in the\n",
              "      current browser session. Please rerun this cell to enable.\n",
              "      </output>\n",
              "      <script src=\"/nbextensions/google.colab/files.js\"></script> "
            ]
          },
          "metadata": {}
        },
        {
          "output_type": "stream",
          "name": "stdout",
          "text": [
            "Saving DataBase.csv to DataBase (1).csv\n"
          ]
        },
        {
          "output_type": "stream",
          "name": "stderr",
          "text": [
            "/usr/local/lib/python3.7/dist-packages/IPython/core/interactiveshell.py:2882: FutureWarning: The error_bad_lines argument has been deprecated and will be removed in a future version.\n",
            "\n",
            "\n",
            "  exec(code_obj, self.user_global_ns, self.user_ns)\n"
          ]
        }
      ]
    },
    {
      "cell_type": "code",
      "source": [
        "#url = 'https://raw.githubusercontent.com/OmarHeni/VIPartum/master/EspritDataStudentDB.csv'\n",
        "#df = pd.read_csv(url,sep = ';')\n",
        "\n",
        "#df=pd.read_csv('../DataBase.csv',sep=';',error_bad_lines=False,encoding='latin1')\n"
      ],
      "metadata": {
        "id": "Qq-sGWfzl79I"
      },
      "execution_count": 68,
      "outputs": []
    },
    {
      "cell_type": "code",
      "source": [
        "df.shape\n"
      ],
      "metadata": {
        "colab": {
          "base_uri": "https://localhost:8080/"
        },
        "id": "gGv1pQB5mHDq",
        "outputId": "b6573a6f-19bb-4536-93c9-5fda4b05e20e"
      },
      "execution_count": 69,
      "outputs": [
        {
          "output_type": "execute_result",
          "data": {
            "text/plain": [
              "(608, 130)"
            ]
          },
          "metadata": {},
          "execution_count": 69
        }
      ]
    },
    {
      "cell_type": "code",
      "source": [
        "df.dtypes.value_counts().plot.pie()"
      ],
      "metadata": {
        "colab": {
          "base_uri": "https://localhost:8080/",
          "height": 674
        },
        "id": "t1jLktlkpUqT",
        "outputId": "0117effa-ea36-48ca-8e7b-33c26a151b21"
      },
      "execution_count": 70,
      "outputs": [
        {
          "output_type": "execute_result",
          "data": {
            "text/plain": [
              "<matplotlib.axes._subplots.AxesSubplot at 0x7f56b1301410>"
            ]
          },
          "metadata": {},
          "execution_count": 70
        },
        {
          "output_type": "display_data",
          "data": {
            "text/plain": [
              "<Figure size 2160x648 with 1 Axes>"
            ],
            "image/png": "[encoded data removed]"
          },
          "metadata": {}
        }
      ]
    },
    {
      "cell_type": "code",
      "source": [
        "df.head(5)"
      ],
      "metadata": {
        "colab": {
          "base_uri": "https://localhost:8080/",
          "height": 647
        },
        "id": "k9qhbgJymOhA",
        "outputId": "d65a0383-97cb-4278-981e-8c96444ec356"
      },
      "execution_count": 71,
      "outputs": [
        {
          "output_type": "execute_result",
          "data": {
            "text/plain": [
              "   member_id                                        profile_url  \\\n",
              "0  550489359                https://www.linkedin.com/in/baycii/   \n",
              "1  698923074  https://www.linkedin.com/in/ichrak-houidi-4560...   \n",
              "2  595214386  https://www.linkedin.com/in/oussama-sassi-92a4...   \n",
              "3  766616182  https://www.linkedin.com/in/skander-haddad-75a...   \n",
              "4  621761804  https://www.linkedin.com/in/kais-ben-youssef-a...   \n",
              "\n",
              "              full_name                                           headline  \\\n",
              "0  Baycii Wassim Derbel  Computer Engineer & Data Scientist | Specializ...   \n",
              "1         Ichrak Houidi                    Data scientist intern at Keyrus   \n",
              "2         Oussama Sassi                        Data Scientist chez RUTILEA   \n",
              "3        Skander Haddad  Data Scientist | Deeplearning.ai ambassador | ...   \n",
              "4          Kais Youssef                          Data Scientist chez ENGIE   \n",
              "\n",
              "                            location_name  \\\n",
              "0  Ville de Paris, Ãle-de-France, France   \n",
              "1                         Sousse, Tunisie   \n",
              "2                         Ariana, Tunisie   \n",
              "3                       Monastir, Tunisie   \n",
              "4           Paris, Ãle-de-France, France   \n",
              "\n",
              "                                             summary  \\\n",
              "0  Computer Engineer & Data Scientist | Specializ...   \n",
              "1  There is always more to learn about statistics...   \n",
              "2  Je suis Oussama Sassi actuellement Ã©tudiant e...   \n",
              "3                                                NaN   \n",
              "4                                                NaN   \n",
              "\n",
              "                                  address     current_company  \\\n",
              "0  Ville de Paris, Ãle-de-France, France        Kaisens Data   \n",
              "1                         Sousse, Tunisie              Keyrus   \n",
              "2                         Ariana, Tunisie       Rutilea, Inc.   \n",
              "3                       Monastir, Tunisie  Enactus Esprit ICT   \n",
              "4           Paris, Ãle-de-France, France               ENGIE   \n",
              "\n",
              "  current_company_position      organization_1  ...  \\\n",
              "0    Data Scientist Intern        Kaisens Data  ...   \n",
              "1           Data scientist              Keyrus  ...   \n",
              "2           Data Scientist       Rutilea, Inc.  ...   \n",
              "3                   Alumni  Enactus Esprit ICT  ...   \n",
              "4           Data Scientist               ENGIE  ...   \n",
              "\n",
              "      language_proficiency_1 language_2               language_proficiency_2  \\\n",
              "0                        NaN        NaN                                  NaN   \n",
              "1                        NaN        NaN                                  NaN   \n",
              "2                        NaN        NaN                                  NaN   \n",
              "3  Bilingue ou langue natale    English  CapacitÃ© professionnelle complÃ¨te   \n",
              "4                        NaN        NaN                                  NaN   \n",
              "\n",
              "   language_3               language_proficiency_3              languages  \\\n",
              "0         NaN                                  NaN                    NaN   \n",
              "1         NaN                                  NaN                    NaN   \n",
              "2         NaN                                  NaN                    NaN   \n",
              "3      French  CapacitÃ© professionnelle complÃ¨te  Arabic,English,French   \n",
              "4         NaN                                  NaN                    NaN   \n",
              "\n",
              "                                              skills tags  note mutual_count  \n",
              "0  Artificial Intelligence (AI) : 2,Web Solutions...  NaN   NaN         19.0  \n",
              "1  Python (langage de programmation) : 2,Deep lea...  NaN   NaN         13.0  \n",
              "2  R : null,MySQL : null,Java : null,NoSQL : null...  NaN   NaN          9.0  \n",
              "3  JavaScript : 1,HTML : 1,Python : 1,MySQL : 1,J...  NaN   NaN          6.0  \n",
              "4                                                NaN  NaN   NaN          2.0  \n",
              "\n",
              "[5 rows x 130 columns]"
            ],
            "text/html": [
              "\n",
              "  <div id=\"df-e7271aa6-9027-403e-90d2-0c855c1f3b13\">\n",
              "    <div class=\"colab-df-container\">\n",
              "      <div>\n",
              "<style scoped>\n",
              "    .dataframe tbody tr th:only-of-type {\n",
              "        vertical-align: middle;\n",
              "    }\n",
              "\n",
              "    .dataframe tbody tr th {\n",
              "        vertical-align: top;\n",
              "    }\n",
              "\n",
              "    .dataframe thead th {\n",
              "        text-align: right;\n",
              "    }\n",
              "</style>\n",
              "<table border=\"1\" class=\"dataframe\">\n",
              "  <thead>\n",
              "    <tr style=\"text-align: right;\">\n",
              "      <th></th>\n",
              "      <th>member_id</th>\n",
              "      <th>profile_url</th>\n",
              "      <th>full_name</th>\n",
              "      <th>headline</th>\n",
              "      <th>location_name</th>\n",
              "      <th>summary</th>\n",
              "      <th>address</th>\n",
              "      <th>current_company</th>\n",
              "      <th>current_company_position</th>\n",
              "      <th>organization_1</th>\n",
              "      <th>...</th>\n",
              "      <th>language_proficiency_1</th>\n",
              "      <th>language_2</th>\n",
              "      <th>language_proficiency_2</th>\n",
              "      <th>language_3</th>\n",
              "      <th>language_proficiency_3</th>\n",
              "      <th>languages</th>\n",
              "      <th>skills</th>\n",
              "      <th>tags</th>\n",
              "      <th>note</th>\n",
              "      <th>mutual_count</th>\n",
              "    </tr>\n",
              "  </thead>\n",
              "  <tbody>\n",
              "    <tr>\n",
              "      <th>0</th>\n",
              "      <td>550489359</td>\n",
              "      <td>https://www.linkedin.com/in/baycii/</td>\n",
              "      <td>Baycii Wassim Derbel</td>\n",
              "      <td>Computer Engineer &amp; Data Scientist | Specializ...</td>\n",
              "      <td>Ville de Paris, Ãle-de-France, France</td>\n",
              "      <td>Computer Engineer &amp; Data Scientist | Specializ...</td>\n",
              "      <td>Ville de Paris, Ãle-de-France, France</td>\n",
              "      <td>Kaisens Data</td>\n",
              "      <td>Data Scientist Intern</td>\n",
              "      <td>Kaisens Data</td>\n",
              "      <td>...</td>\n",
              "      <td>NaN</td>\n",
              "      <td>NaN</td>\n",
              "      <td>NaN</td>\n",
              "      <td>NaN</td>\n",
              "      <td>NaN</td>\n",
              "      <td>NaN</td>\n",
              "      <td>Artificial Intelligence (AI) : 2,Web Solutions...</td>\n",
              "      <td>NaN</td>\n",
              "      <td>NaN</td>\n",
              "      <td>19.0</td>\n",
              "    </tr>\n",
              "    <tr>\n",
              "      <th>1</th>\n",
              "      <td>698923074</td>\n",
              "      <td>https://www.linkedin.com/in/ichrak-houidi-4560...</td>\n",
              "      <td>Ichrak Houidi</td>\n",
              "      <td>Data scientist intern at Keyrus</td>\n",
              "      <td>Sousse, Tunisie</td>\n",
              "      <td>There is always more to learn about statistics...</td>\n",
              "      <td>Sousse, Tunisie</td>\n",
              "      <td>Keyrus</td>\n",
              "      <td>Data scientist</td>\n",
              "      <td>Keyrus</td>\n",
              "      <td>...</td>\n",
              "      <td>NaN</td>\n",
              "      <td>NaN</td>\n",
              "      <td>NaN</td>\n",
              "      <td>NaN</td>\n",
              "      <td>NaN</td>\n",
              "      <td>NaN</td>\n",
              "      <td>Python (langage de programmation) : 2,Deep lea...</td>\n",
              "      <td>NaN</td>\n",
              "      <td>NaN</td>\n",
              "      <td>13.0</td>\n",
              "    </tr>\n",
              "    <tr>\n",
              "      <th>2</th>\n",
              "      <td>595214386</td>\n",
              "      <td>https://www.linkedin.com/in/oussama-sassi-92a4...</td>\n",
              "      <td>Oussama Sassi</td>\n",
              "      <td>Data Scientist chez RUTILEA</td>\n",
              "      <td>Ariana, Tunisie</td>\n",
              "      <td>Je suis Oussama Sassi actuellement Ã©tudiant e...</td>\n",
              "      <td>Ariana, Tunisie</td>\n",
              "      <td>Rutilea, Inc.</td>\n",
              "      <td>Data Scientist</td>\n",
              "      <td>Rutilea, Inc.</td>\n",
              "      <td>...</td>\n",
              "      <td>NaN</td>\n",
              "      <td>NaN</td>\n",
              "      <td>NaN</td>\n",
              "      <td>NaN</td>\n",
              "      <td>NaN</td>\n",
              "      <td>NaN</td>\n",
              "      <td>R : null,MySQL : null,Java : null,NoSQL : null...</td>\n",
              "      <td>NaN</td>\n",
              "      <td>NaN</td>\n",
              "      <td>9.0</td>\n",
              "    </tr>\n",
              "    <tr>\n",
              "      <th>3</th>\n",
              "      <td>766616182</td>\n",
              "      <td>https://www.linkedin.com/in/skander-haddad-75a...</td>\n",
              "      <td>Skander Haddad</td>\n",
              "      <td>Data Scientist | Deeplearning.ai ambassador | ...</td>\n",
              "      <td>Monastir, Tunisie</td>\n",
              "      <td>NaN</td>\n",
              "      <td>Monastir, Tunisie</td>\n",
              "      <td>Enactus Esprit ICT</td>\n",
              "      <td>Alumni</td>\n",
              "      <td>Enactus Esprit ICT</td>\n",
              "      <td>...</td>\n",
              "      <td>Bilingue ou langue natale</td>\n",
              "      <td>English</td>\n",
              "      <td>CapacitÃ© professionnelle complÃ¨te</td>\n",
              "      <td>French</td>\n",
              "      <td>CapacitÃ© professionnelle complÃ¨te</td>\n",
              "      <td>Arabic,English,French</td>\n",
              "      <td>JavaScript : 1,HTML : 1,Python : 1,MySQL : 1,J...</td>\n",
              "      <td>NaN</td>\n",
              "      <td>NaN</td>\n",
              "      <td>6.0</td>\n",
              "    </tr>\n",
              "    <tr>\n",
              "      <th>4</th>\n",
              "      <td>621761804</td>\n",
              "      <td>https://www.linkedin.com/in/kais-ben-youssef-a...</td>\n",
              "      <td>Kais Youssef</td>\n",
              "      <td>Data Scientist chez ENGIE</td>\n",
              "      <td>Paris, Ãle-de-France, France</td>\n",
              "      <td>NaN</td>\n",
              "      <td>Paris, Ãle-de-France, France</td>\n",
              "      <td>ENGIE</td>\n",
              "      <td>Data Scientist</td>\n",
              "      <td>ENGIE</td>\n",
              "      <td>...</td>\n",
              "      <td>NaN</td>\n",
              "      <td>NaN</td>\n",
              "      <td>NaN</td>\n",
              "      <td>NaN</td>\n",
              "      <td>NaN</td>\n",
              "      <td>NaN</td>\n",
              "      <td>NaN</td>\n",
              "      <td>NaN</td>\n",
              "      <td>NaN</td>\n",
              "      <td>2.0</td>\n",
              "    </tr>\n",
              "  </tbody>\n",
              "</table>\n",
              "<p>5 rows × 130 columns</p>\n",
              "</div>\n",
              "      <button class=\"colab-df-convert\" onclick=\"convertToInteractive('df-e7271aa6-9027-403e-90d2-0c855c1f3b13')\"\n",
              "              title=\"Convert this dataframe to an interactive table.\"\n",
              "              style=\"display:none;\">\n",
              "        \n",
              "  <svg xmlns=\"http://www.w3.org/2000/svg\" height=\"24px\"viewBox=\"0 0 24 24\"\n",
              "       width=\"24px\">\n",
              "    <path d=\"M0 0h24v24H0V0z\" fill=\"none\"/>\n",
              "    <path d=\"M18.56 5.44l.94 2.06.94-2.06 2.06-.94-2.06-.94-.94-2.06-.94 2.06-2.06.94zm-11 1L8.5 8.5l.94-2.06 2.06-.94-2.06-.94L8.5 2.5l-.94 2.06-2.06.94zm10 10l.94 2.06.94-2.06 2.06-.94-2.06-.94-.94-2.06-.94 2.06-2.06.94z\"/><path d=\"M17.41 7.96l-1.37-1.37c-.4-.4-.92-.59-1.43-.59-.52 0-1.04.2-1.43.59L10.3 9.45l-7.72 7.72c-.78.78-.78 2.05 0 2.83L4 21.41c.39.39.9.59 1.41.59.51 0 1.02-.2 1.41-.59l7.78-7.78 2.81-2.81c.8-.78.8-2.07 0-2.86zM5.41 20L4 18.59l7.72-7.72 1.47 1.35L5.41 20z\"/>\n",
              "  </svg>\n",
              "      </button>\n",
              "      \n",
              "  <style>\n",
              "    .colab-df-container {\n",
              "      display:flex;\n",
              "      flex-wrap:wrap;\n",
              "      gap: 12px;\n",
              "    }\n",
              "\n",
              "    .colab-df-convert {\n",
              "      background-color: #E8F0FE;\n",
              "      border: none;\n",
              "      border-radius: 50%;\n",
              "      cursor: pointer;\n",
              "      display: none;\n",
              "      fill: #1967D2;\n",
              "      height: 32px;\n",
              "      padding: 0 0 0 0;\n",
              "      width: 32px;\n",
              "    }\n",
              "\n",
              "    .colab-df-convert:hover {\n",
              "      background-color: #E2EBFA;\n",
              "      box-shadow: 0px 1px 2px rgba(60, 64, 67, 0.3), 0px 1px 3px 1px rgba(60, 64, 67, 0.15);\n",
              "      fill: #174EA6;\n",
              "    }\n",
              "\n",
              "    [theme=dark] .colab-df-convert {\n",
              "      background-color: #3B4455;\n",
              "      fill: #D2E3FC;\n",
              "    }\n",
              "\n",
              "    [theme=dark] .colab-df-convert:hover {\n",
              "      background-color: #434B5C;\n",
              "      box-shadow: 0px 1px 3px 1px rgba(0, 0, 0, 0.15);\n",
              "      filter: drop-shadow(0px 1px 2px rgba(0, 0, 0, 0.3));\n",
              "      fill: #FFFFFF;\n",
              "    }\n",
              "  </style>\n",
              "\n",
              "      <script>\n",
              "        const buttonEl =\n",
              "          document.querySelector('#df-e7271aa6-9027-403e-90d2-0c855c1f3b13 button.colab-df-convert');\n",
              "        buttonEl.style.display =\n",
              "          google.colab.kernel.accessAllowed ? 'block' : 'none';\n",
              "\n",
              "        async function convertToInteractive(key) {\n",
              "          const element = document.querySelector('#df-e7271aa6-9027-403e-90d2-0c855c1f3b13');\n",
              "          const dataTable =\n",
              "            await google.colab.kernel.invokeFunction('convertToInteractive',\n",
              "                                                     [key], {});\n",
              "          if (!dataTable) return;\n",
              "\n",
              "          const docLinkHtml = 'Like what you see? Visit the ' +\n",
              "            '<a target=\"_blank\" href=https://colab.research.google.com/notebooks/data_table.ipynb>data table notebook</a>'\n",
              "            + ' to learn more about interactive tables.';\n",
              "          element.innerHTML = '';\n",
              "          dataTable['output_type'] = 'display_data';\n",
              "          await google.colab.output.renderOutput(dataTable, element);\n",
              "          const docLink = document.createElement('div');\n",
              "          docLink.innerHTML = docLinkHtml;\n",
              "          element.appendChild(docLink);\n",
              "        }\n",
              "      </script>\n",
              "    </div>\n",
              "  </div>\n",
              "  "
            ]
          },
          "metadata": {},
          "execution_count": 71
        }
      ]
    },
    {
      "cell_type": "code",
      "source": [
        "plt.figure(figsize=(15,10))\n",
        "sns.heatmap(df.isna(),cbar=False)"
      ],
      "metadata": {
        "colab": {
          "base_uri": "https://localhost:8080/",
          "height": 661
        },
        "id": "oYef2kyqmQZO",
        "outputId": "98eb15e8-292d-4d16-ddfd-34da6b29ad26"
      },
      "execution_count": 72,
      "outputs": [
        {
          "output_type": "execute_result",
          "data": {
            "text/plain": [
              "<matplotlib.axes._subplots.AxesSubplot at 0x7f56b115ad90>"
            ]
          },
          "metadata": {},
          "execution_count": 72
        },
        {
          "output_type": "display_data",
          "data": {
            "text/plain": [
              "<Figure size 1080x720 with 1 Axes>"
            ],
            "image/png": "[encoded data removed]"
          },
          "metadata": {
            "needs_background": "light"
          }
        }
      ]
    },
    {
      "cell_type": "code",
      "source": [
        "(df.isna().sum()/df.shape[0]).sort_values()"
      ],
      "metadata": {
        "colab": {
          "base_uri": "https://localhost:8080/"
        },
        "id": "KK9Yc_LjmTKl",
        "outputId": "63d96c45-86b6-4a50-f89f-0532dd58f37b"
      },
      "execution_count": 73,
      "outputs": [
        {
          "output_type": "execute_result",
          "data": {
            "text/plain": [
              "member_id                      0.000000\n",
              "profile_url                    0.000000\n",
              "full_name                      0.000000\n",
              "headline                       0.000000\n",
              "address                        0.097039\n",
              "mutual_count                   0.097039\n",
              "location_name                  0.097039\n",
              "education_1                    0.098684\n",
              "education_start_1              0.123355\n",
              "education_end_1                0.123355\n",
              "organization_1                 0.125000\n",
              "organization_title_1           0.125000\n",
              "organization_start_1           0.125000\n",
              "skills                         0.154605\n",
              "education_degree_1             0.162829\n",
              "organization_2                 0.179276\n",
              "organization_start_2           0.179276\n",
              "organization_title_2           0.179276\n",
              "organization_end_2             0.226974\n",
              "education_2                    0.228618\n",
              "current_company                0.238487\n",
              "current_company_position       0.238487\n",
              "education_start_2              0.286184\n",
              "education_end_2                0.286184\n",
              "organization_location_1        0.291118\n",
              "organization_url_1             0.302632\n",
              "organization_id_1              0.302632\n",
              "organization_3                 0.314145\n",
              "organization_title_3           0.314145\n",
              "organization_start_3           0.314145\n",
              "organization_location_2        0.324013\n",
              "organization_end_3             0.327303\n",
              "education_degree_2             0.340461\n",
              "organization_id_2              0.401316\n",
              "organization_url_2             0.401316\n",
              "organization_location_3        0.444079\n",
              "organization_title_4           0.476974\n",
              "organization_start_4           0.476974\n",
              "organization_4                 0.476974\n",
              "organization_end_4             0.480263\n",
              "organization_description_2     0.488487\n",
              "organization_id_3              0.519737\n",
              "organization_url_3             0.519737\n",
              "organization_description_3     0.521382\n",
              "summary                        0.550987\n",
              "organization_description_1     0.572368\n",
              "languages                      0.578947\n",
              "language_1                     0.578947\n",
              "language_2                     0.582237\n",
              "organization_location_4        0.583882\n",
              "education_3                    0.603618\n",
              "language_3                     0.605263\n",
              "organization_description_4     0.610197\n",
              "organization_id_4              0.639803\n",
              "organization_url_4             0.639803\n",
              "language_proficiency_2         0.639803\n",
              "organization_end_5             0.646382\n",
              "organization_5                 0.646382\n",
              "organization_title_5           0.646382\n",
              "organization_start_5           0.646382\n",
              "organization_end_1             0.648026\n",
              "education_degree_3             0.649671\n",
              "education_start_3              0.652961\n",
              "language_proficiency_1         0.652961\n",
              "education_end_3                0.652961\n",
              "language_proficiency_3         0.667763\n",
              "organization_location_5        0.736842\n",
              "organization_description_5     0.751645\n",
              "organization_url_5             0.756579\n",
              "organization_id_5              0.756579\n",
              "organization_end_6             0.796053\n",
              "organization_start_6           0.796053\n",
              "organization_6                 0.796053\n",
              "organization_title_6           0.796053\n",
              "organization_location_6        0.851974\n",
              "organization_description_6     0.856908\n",
              "organization_url_6             0.870066\n",
              "organization_title_7           0.879934\n",
              "organization_7                 0.879934\n",
              "organization_start_7           0.879934\n",
              "organization_end_7             0.879934\n",
              "education_description_1        0.881579\n",
              "organization_location_7        0.902961\n",
              "organization_description_7     0.909539\n",
              "organization_id_7              0.924342\n",
              "organization_url_7             0.924342\n",
              "education_description_2        0.927632\n",
              "organization_8                 0.929276\n",
              "organization_title_8           0.929276\n",
              "organization_start_8           0.929276\n",
              "organization_end_8             0.929276\n",
              "organization_location_8        0.944079\n",
              "organization_description_8     0.947368\n",
              "organization_id_8              0.957237\n",
              "organization_url_8             0.957237\n",
              "education_description_3        0.963816\n",
              "organization_9                 0.967105\n",
              "organization_end_9             0.967105\n",
              "organization_start_9           0.967105\n",
              "organization_title_9           0.967105\n",
              "organization_description_9     0.973684\n",
              "organization_location_9        0.973684\n",
              "organization_url_9             0.976974\n",
              "organization_id_9              0.976974\n",
              "organization_start_10          0.980263\n",
              "organization_title_10          0.980263\n",
              "organization_10                0.980263\n",
              "organization_end_10            0.980263\n",
              "organization_description_10    0.981908\n",
              "organization_url_10            0.990132\n",
              "organization_id_10             0.990132\n",
              "organization_domain_2          1.000000\n",
              "organization_website_6         1.000000\n",
              "organization_domain_3          1.000000\n",
              "organization_website_4         1.000000\n",
              "organization_website_2         1.000000\n",
              "tags                           1.000000\n",
              "organization_domain_4          1.000000\n",
              "organization_website_3         1.000000\n",
              "education_fos_2                1.000000\n",
              "note                           1.000000\n",
              "education_fos_3                1.000000\n",
              "organization_website_8         1.000000\n",
              "organization_domain_8          1.000000\n",
              "organization_website_7         1.000000\n",
              "organization_domain_7          1.000000\n",
              "organization_domain_9          1.000000\n",
              "organization_website_9         1.000000\n",
              "organization_domain_6          1.000000\n",
              "education_fos_1                1.000000\n",
              "dtype: float64"
            ]
          },
          "metadata": {},
          "execution_count": 73
        }
      ]
    },
    {
      "cell_type": "markdown",
      "source": [
        "We observe that:\n",
        "member_id,profile_url,full_name,headline columns have no missing values\n"
      ],
      "metadata": {
        "id": "eeREcSIdpoKN"
      }
    },
    {
      "cell_type": "markdown",
      "source": [
        "**Fund Analysis**\n",
        "\n"
      ],
      "metadata": {
        "id": "1i6GL1Jyr2Rh"
      }
    },
    {
      "cell_type": "markdown",
      "source": [
        " **Elimination of unnecessary columns**"
      ],
      "metadata": {
        "id": "3_jOur29slMc"
      }
    },
    {
      "cell_type": "code",
      "source": [
        "#prendre les columnes dont les valeurs manquantes moins de 85% \n",
        "df=df[df.columns[df.isna().sum()/df.shape[0] <0.85]]"
      ],
      "metadata": {
        "id": "kQOXGWgZmVag"
      },
      "execution_count": 74,
      "outputs": []
    },
    {
      "cell_type": "code",
      "source": [
        "plt.figure(figsize=(15,10))\n",
        "sns.heatmap(df.isna(),cbar=False)"
      ],
      "metadata": {
        "colab": {
          "base_uri": "https://localhost:8080/",
          "height": 661
        },
        "id": "8vSSysK-uVGt",
        "outputId": "19b511a4-6dd0-49ca-d011-7f1b210b7693"
      },
      "execution_count": 75,
      "outputs": [
        {
          "output_type": "execute_result",
          "data": {
            "text/plain": [
              "<matplotlib.axes._subplots.AxesSubplot at 0x7f56b0f85590>"
            ]
          },
          "metadata": {},
          "execution_count": 75
        },
        {
          "output_type": "display_data",
          "data": {
            "text/plain": [
              "<Figure size 1080x720 with 1 Axes>"
            ],
            "image/png": "[encoded data removed]"
          },
          "metadata": {
            "needs_background": "light"
          }
        }
      ]
    },
    {
      "cell_type": "code",
      "source": [
        "df.shape"
      ],
      "metadata": {
        "colab": {
          "base_uri": "https://localhost:8080/"
        },
        "id": "as001eclwDG2",
        "outputId": "d86b03cb-865f-45c2-bfff-86f6574cbb34"
      },
      "execution_count": 76,
      "outputs": [
        {
          "output_type": "execute_result",
          "data": {
            "text/plain": [
              "(608, 74)"
            ]
          },
          "metadata": {},
          "execution_count": 76
        }
      ]
    },
    {
      "cell_type": "code",
      "source": [
        "df.columns"
      ],
      "metadata": {
        "colab": {
          "base_uri": "https://localhost:8080/"
        },
        "id": "QV0EBsTL3zMV",
        "outputId": "43b415b8-3688-4766-cf34-e19ba7f4fef4"
      },
      "execution_count": 77,
      "outputs": [
        {
          "output_type": "execute_result",
          "data": {
            "text/plain": [
              "Index(['member_id', 'profile_url', 'full_name', 'headline', 'location_name',\n",
              "       'summary', 'address', 'current_company', 'current_company_position',\n",
              "       'organization_1', 'organization_id_1', 'organization_url_1',\n",
              "       'organization_title_1', 'organization_start_1', 'organization_end_1',\n",
              "       'organization_description_1', 'organization_location_1',\n",
              "       'organization_2', 'organization_id_2', 'organization_url_2',\n",
              "       'organization_title_2', 'organization_start_2', 'organization_end_2',\n",
              "       'organization_description_2', 'organization_location_2',\n",
              "       'organization_3', 'organization_id_3', 'organization_url_3',\n",
              "       'organization_title_3', 'organization_start_3', 'organization_end_3',\n",
              "       'organization_description_3', 'organization_location_3',\n",
              "       'organization_4', 'organization_id_4', 'organization_url_4',\n",
              "       'organization_title_4', 'organization_start_4', 'organization_end_4',\n",
              "       'organization_description_4', 'organization_location_4',\n",
              "       'organization_5', 'organization_id_5', 'organization_url_5',\n",
              "       'organization_title_5', 'organization_start_5', 'organization_end_5',\n",
              "       'organization_description_5', 'organization_location_5',\n",
              "       'organization_6', 'organization_title_6', 'organization_start_6',\n",
              "       'organization_end_6', 'education_1', 'education_degree_1',\n",
              "       'education_start_1', 'education_end_1', 'education_2',\n",
              "       'education_degree_2', 'education_start_2', 'education_end_2',\n",
              "       'education_3', 'education_degree_3', 'education_start_3',\n",
              "       'education_end_3', 'language_1', 'language_proficiency_1', 'language_2',\n",
              "       'language_proficiency_2', 'language_3', 'language_proficiency_3',\n",
              "       'languages', 'skills', 'mutual_count'],\n",
              "      dtype='object')"
            ]
          },
          "metadata": {},
          "execution_count": 77
        }
      ]
    },
    {
      "cell_type": "code",
      "source": [
        "df=df.drop(['organization_id_1','organization_id_2','organization_id_3','organization_id_4','organization_id_5'],axis=1)"
      ],
      "metadata": {
        "id": "rN6ftRqn3b_h"
      },
      "execution_count": 78,
      "outputs": []
    },
    {
      "cell_type": "code",
      "source": [
        "\n",
        "df=df.drop(['language_1','language_proficiency_1','language_2','language_proficiency_2','language_3','language_proficiency_3','languages'],axis=1)"
      ],
      "metadata": {
        "id": "_jnCQ5hO3-lK"
      },
      "execution_count": 79,
      "outputs": []
    },
    {
      "cell_type": "code",
      "source": [
        "\n",
        "df =df.drop(['education_start_1','education_start_2','education_start_3'],axis=1)"
      ],
      "metadata": {
        "id": "jcorV1VN4A-f"
      },
      "execution_count": 80,
      "outputs": []
    },
    {
      "cell_type": "code",
      "source": [
        "df =df.drop(['education_end_1','education_end_2','education_end_3'],axis=1)"
      ],
      "metadata": {
        "id": "4LGdWKrw4HAb"
      },
      "execution_count": 81,
      "outputs": []
    },
    {
      "cell_type": "code",
      "source": [
        "df =df.drop(['member_id','summary','mutual_count'],axis=1)"
      ],
      "metadata": {
        "id": "yGKiCAezuc_g"
      },
      "execution_count": 82,
      "outputs": []
    },
    {
      "cell_type": "code",
      "source": [
        "#df =df.drop(df.index[102:162],inplace=True)\n",
        "\n",
        "# index_with_nan = df.index[df.isnull().any(axis=1)]\n",
        "# df.drop(index_with_nan,0, inplace=True)"
      ],
      "metadata": {
        "id": "djej0g8r6G6K"
      },
      "execution_count": 83,
      "outputs": []
    },
    {
      "cell_type": "code",
      "source": [
        "df.shape\n"
      ],
      "metadata": {
        "colab": {
          "base_uri": "https://localhost:8080/"
        },
        "id": "c19G94CN2VbE",
        "outputId": "45b73875-cc0d-4c21-f70a-f70fab85d807"
      },
      "execution_count": 84,
      "outputs": [
        {
          "output_type": "execute_result",
          "data": {
            "text/plain": [
              "(608, 53)"
            ]
          },
          "metadata": {},
          "execution_count": 84
        }
      ]
    },
    {
      "cell_type": "markdown",
      "source": [
        "**Histogrammes des variables continues**"
      ],
      "metadata": {
        "id": "70HdQljg4-bZ"
      }
    },
    {
      "cell_type": "code",
      "source": [
        "for col in df.select_dtypes('float'):\n",
        "  plt.figure()\n",
        "  sns.displot(df[col])\n"
      ],
      "metadata": {
        "colab": {
          "base_uri": "https://localhost:8080/",
          "height": 1000
        },
        "id": "3uFoI98947KH",
        "outputId": "ef3be6ea-ad3d-4269-b504-1d027edb9e77"
      },
      "execution_count": 85,
      "outputs": [
        {
          "output_type": "stream",
          "name": "stderr",
          "text": [
            "/usr/local/lib/python3.7/dist-packages/ipykernel_launcher.py:2: RuntimeWarning: More than 20 figures have been opened. Figures created through the pyplot interface (`matplotlib.pyplot.figure`) are retained until explicitly closed and may consume too much memory. (To control this warning, see the rcParam `figure.max_open_warning`).\n",
            "  \n",
            "/usr/local/lib/python3.7/dist-packages/seaborn/axisgrid.py:409: RuntimeWarning: More than 20 figures have been opened. Figures created through the pyplot interface (`matplotlib.pyplot.figure`) are retained until explicitly closed and may consume too much memory. (To control this warning, see the rcParam `figure.max_open_warning`).\n",
            "  fig = plt.figure(figsize=figsize)\n",
            "/usr/local/lib/python3.7/dist-packages/ipykernel_launcher.py:2: RuntimeWarning: More than 20 figures have been opened. Figures created through the pyplot interface (`matplotlib.pyplot.figure`) are retained until explicitly closed and may consume too much memory. (To control this warning, see the rcParam `figure.max_open_warning`).\n",
            "  \n",
            "/usr/local/lib/python3.7/dist-packages/seaborn/axisgrid.py:409: RuntimeWarning: More than 20 figures have been opened. Figures created through the pyplot interface (`matplotlib.pyplot.figure`) are retained until explicitly closed and may consume too much memory. (To control this warning, see the rcParam `figure.max_open_warning`).\n",
            "  fig = plt.figure(figsize=figsize)\n"
          ]
        },
        {
          "output_type": "display_data",
          "data": {
            "text/plain": [
              "<Figure size 2160x648 with 0 Axes>"
            ]
          },
          "metadata": {}
        },
        {
          "output_type": "display_data",
          "data": {
            "text/plain": [
              "<Figure size 360x360 with 1 Axes>"
            ],
            "image/png": "[encoded data removed]"
          },
          "metadata": {
            "needs_background": "light"
          }
        },
        {
          "output_type": "display_data",
          "data": {
            "text/plain": [
              "<Figure size 2160x648 with 0 Axes>"
            ]
          },
          "metadata": {}
        },
        {
          "output_type": "display_data",
          "data": {
            "text/plain": [
              "<Figure size 360x360 with 1 Axes>"
            ],
            "image/png": "[encoded data removed]"
          },
          "metadata": {
            "needs_background": "light"
          }
        },
        {
          "output_type": "display_data",
          "data": {
            "text/plain": [
              "<Figure size 2160x648 with 0 Axes>"
            ]
          },
          "metadata": {}
        },
        {
          "output_type": "display_data",
          "data": {
            "text/plain": [
              "<Figure size 360x360 with 1 Axes>"
            ],
            "image/png": "[encoded data removed]"
          },
          "metadata": {
            "needs_background": "light"
          }
        },
        {
          "output_type": "display_data",
          "data": {
            "text/plain": [
              "<Figure size 2160x648 with 0 Axes>"
            ]
          },
          "metadata": {}
        },
        {
          "output_type": "display_data",
          "data": {
            "text/plain": [
              "<Figure size 360x360 with 1 Axes>"
            ],
            "image/png": "[encoded data removed]"
          },
          "metadata": {
            "needs_background": "light"
          }
        },
        {
          "output_type": "display_data",
          "data": {
            "text/plain": [
              "<Figure size 2160x648 with 0 Axes>"
            ]
          },
          "metadata": {}
        },
        {
          "output_type": "display_data",
          "data": {
            "text/plain": [
              "<Figure size 360x360 with 1 Axes>"
            ],
            "image/png": "[encoded data removed]"
          },
          "metadata": {
            "needs_background": "light"
          }
        },
        {
          "output_type": "display_data",
          "data": {
            "text/plain": [
              "<Figure size 2160x648 with 0 Axes>"
            ]
          },
          "metadata": {}
        },
        {
          "output_type": "display_data",
          "data": {
            "text/plain": [
              "<Figure size 360x360 with 1 Axes>"
            ],
            "image/png": "[encoded data removed]"
          },
          "metadata": {
            "needs_background": "light"
          }
        },
        {
          "output_type": "display_data",
          "data": {
            "text/plain": [
              "<Figure size 2160x648 with 0 Axes>"
            ]
          },
          "metadata": {}
        },
        {
          "output_type": "display_data",
          "data": {
            "text/plain": [
              "<Figure size 360x360 with 1 Axes>"
            ],
            "image/png": "[encoded data removed]"
          },
          "metadata": {
            "needs_background": "light"
          }
        },
        {
          "output_type": "display_data",
          "data": {
            "text/plain": [
              "<Figure size 2160x648 with 0 Axes>"
            ]
          },
          "metadata": {}
        },
        {
          "output_type": "display_data",
          "data": {
            "text/plain": [
              "<Figure size 360x360 with 1 Axes>"
            ],
            "image/png": "[encoded data removed]"
          },
          "metadata": {
            "needs_background": "light"
          }
        },
        {
          "output_type": "display_data",
          "data": {
            "text/plain": [
              "<Figure size 2160x648 with 0 Axes>"
            ]
          },
          "metadata": {}
        },
        {
          "output_type": "display_data",
          "data": {
            "text/plain": [
              "<Figure size 360x360 with 1 Axes>"
            ],
            "image/png": "[encoded data removed]"
          },
          "metadata": {
            "needs_background": "light"
          }
        },
        {
          "output_type": "display_data",
          "data": {
            "text/plain": [
              "<Figure size 2160x648 with 0 Axes>"
            ]
          },
          "metadata": {}
        },
        {
          "output_type": "display_data",
          "data": {
            "text/plain": [
              "<Figure size 360x360 with 1 Axes>"
            ],
            "image/png": "[encoded data removed]"
          },
          "metadata": {
            "needs_background": "light"
          }
        },
        {
          "output_type": "display_data",
          "data": {
            "text/plain": [
              "<Figure size 2160x648 with 0 Axes>"
            ]
          },
          "metadata": {}
        },
        {
          "output_type": "display_data",
          "data": {
            "text/plain": [
              "<Figure size 360x360 with 1 Axes>"
            ],
            "image/png": "[encoded data removed]"
          },
          "metadata": {
            "needs_background": "light"
          }
        },
        {
          "output_type": "display_data",
          "data": {
            "text/plain": [
              "<Figure size 2160x648 with 0 Axes>"
            ]
          },
          "metadata": {}
        },
        {
          "output_type": "display_data",
          "data": {
            "text/plain": [
              "<Figure size 360x360 with 1 Axes>"
            ],
            "image/png": "[encoded data removed]"
          },
          "metadata": {
            "needs_background": "light"
          }
        }
      ]
    },
    {
      "cell_type": "markdown",
      "source": [
        "**Varaibles Quanlitatives**"
      ],
      "metadata": {
        "id": "MUBiSnPm7o-c"
      }
    },
    {
      "cell_type": "markdown",
      "source": [
        "**Organisation**"
      ],
      "metadata": {
        "id": "TW-uVk2l9Ivt"
      }
    },
    {
      "cell_type": "code",
      "source": [
        "orgs = ['organization_1','organization_2','organization_3','organization_4','organization_5','organization_6']\n",
        "final_count = Counter()\n",
        "for org in orgs:\n",
        "  final_count = final_count + Counter(df.groupby([org]).size().to_dict())\n",
        "print(final_count)"
      ],
      "metadata": {
        "colab": {
          "base_uri": "https://localhost:8080/"
        },
        "id": "beRG_1VX8Jsk",
        "outputId": "fc35ebbb-3fe2-4a83-8b9a-24bc045b50bb"
      },
      "execution_count": 86,
      "outputs": [
        {
          "output_type": "stream",
          "name": "stdout",
          "text": [
            "Counter({'Tunisie TÃ©lÃ©com': 51, 'Sagemcom': 34, \"SociÃ©tÃ© Tunisienne de l'ElectricitÃ© et du Gaz (STEG)\": 28, 'Sofrecom Tunisie': 28, \"Ecole Nationale d'IngÃ©nieurs de Tunis\": 26, \"ENSI - Ecole Nationale des Sciences de l'Informatique\": 17, 'ACTIA Engineering Services': 14, \"ESPRIT (Ecole SupÃ©rieure PrivÃ©e d'IngÃ©nierie et de Technologies)\": 14, 'Valeo': 14, 'WEVIOO': 13, 'BIAT': 12, 'SONEDE': 12, 'ODDO BHF': 11, 'Telnet': 11, \"Ecole Nationale d'Ingenieurs de Tunis\": 10, 'TUNICAST FOUNDRY': 10, \"Ecole SupÃ©rieure PrivÃ©e d'IngÃ©nierie et de Technologies - ESPRIT\": 9, 'Safran': 9, 'VERMEG for Banking & Insurance Software': 9, 'axefinance': 9, 'Cognira': 8, 'Ooredoo Tunisie': 8, 'Orange Tunisie': 8, 'SAGEMCOM': 8, 'SERS INGENIERIE': 8, 'Talan Tunisie': 8, 'Mitakus analytics': 8, 'ONAS': 8, 'ESPRIT': 8, '3S Standard Sharing Software': 7, 'EPAC Technologies': 7, 'ESI Group': 7, 'IT SERV': 7, 'STUDI International': 7, 'ENIT Junior Entreprise': 7, 'Altran': 6, 'ENSI Junior Entreprise': 6, 'Figeac Aero': 6, 'Go My Code': 6, 'SAMM TEST & AUTOMATION': 6, 'SEGULA Technologies': 6, \"SUP'COM\": 6, 'Vneuron': 6, 'SOPAL': 6, 'Talan': 6, 'Association Robotique ENSI': 6, 'ADDIXO': 5, 'Comete Engineering': 5, 'Groupe SFM ': 5, 'IndÃ©pendant': 5, 'Infor': 5, 'LEONI': 5, 'Sofia Technologies': 5, 'XQuant': 5, 'COFAT Group': 5, \"Centre National de l'Informatique\": 5, 'IEEE ENSI Student Branch': 5, 'Total': 5, 'ABSHORE': 4, 'Allence Tunisie': 4, 'ArabSoft': 4, 'BFI Groupe': 4, 'CRDA Manouba ': 4, 'EPPM ': 4, 'EXCEL CONTROL': 4, 'IEEE': 4, 'INTERCOM Technologies': 4, 'Integration Objects': 4, 'LEONI TUNISIA': 4, 'LTM - Leading Technology in Mechanics ': 4, 'SNIM (SociÃ©tÃ© nationale industrielle et miniÃ¨re)': 4, 'STB Bank Ø§Ù\\x84Ø´Ø±Ù\\x83Ø© Ø§Ù\\x84ØªÙ\\x88Ù\\x86Ø³Ù\\x8aØ© Ù\\x84Ù\\x84Ø¨Ù\\x86Ù\\x83 ': 4, 'Sagemcom Tunisie': 4, 'Save Your Wardrobe': 4, 'Structures and Geotechnics (S&G)': 4, 'Tanit Lab': 4, 'setec international': 4, 'ATE (Assistance Technique et Environnement)': 4, 'CTE EL ATHIR': 4, 'DRÃ\\x84XLMAIER Group': 4, 'INNOV-ALLIANCE-TECH': 4, 'La Poste Tunisienne': 4, 'MECAHERS GROUP': 4, 'Orange': 4, 'Plasticum Tunisia': 4, 'SFM Telecom-SFM Technologies': 4, 'Ecole Polytechnique Internationale': 4, 'GÂ²FOSS ENIT': 4, \"ISIMM | Institut SupÃ©rieur d'Informatique et de MathÃ©matiques de lâ\\x80\\x99UniversitÃ© de Monastir\": 4, 'Kromberg & Schubert Tunisia': 4, 'SNA Batterie NOUR': 4, 'ATE Consulting': 4, 'CITROEN TUNISIE': 4, 'Club gÃ©nie industriel ENIT': 4, 'HAYATCOM': 4, 'Laboratoire Electronique Informatique Image (LE2I)': 4, 'Tunisia Energy Plus': 4, 'Chakira cÃ¢ble': 4, 'Huawei Technologies': 4, 'ALL Circuits': 3, 'Advanced Derivative Solutions': 3, 'Attijari bank Tunisie': 3, 'BNA - Banque Nationale Agricole': 3, 'BNP Paribas': 3, 'CAID International': 3, 'DNA Global Analytics': 3, 'Datagram': 3, 'EMDEP TestBoards': 3, 'EY': 3, 'Groupe SII': 3, 'MENAPS': 3, 'SOGECLAIR aerospace': 3, 'STEG International Services': 3, 'SociÃ©tÃ© GÃ©nÃ©rale': 3, 'Sofrecom': 3, 'UIB - Groupe SociÃ©tÃ© GÃ©nÃ©rale': 3, 'VOLTA PV': 3, 'Value': 3, 'WYNSYS': 3, 'CETA IngÃ©nierie': 3, 'ENIT Aerospace': 3, 'FOLLA IMMOBILIERE': 3, 'Freelance': 3, 'Groupe Adaming Tunisie': 3, 'MD&CI Concept Industrie': 3, 'New Concept Technology': 3, 'Servicom SA': 3, 'Afrique Travaux S.a.r.l.': 3, 'PECISS': 3, 'ENIT': 3, 'Ecole nationale supÃ©rieure des ingÃ©nieurs de Tunis - Ensit': 3, 'GKW Consult GmbH': 3, \"L'Office de l'Aviation Civile et des AÃ©roports (OACA) \": 3, 'BANQUE DE TUNISIE': 3, 'SociÃ©tÃ© Nationale ImmobiliÃ¨re de Tunisie (SNIT)': 3, '  CKS engineering': 2, \"ALCOR-DÃ©veloppeur d'avenir durable\": 2, 'Afrikanda': 2, 'Amaris Consulting': 2, 'Apps4you': 2, 'Assurances COMAR et HAYETT': 2, 'Aures auto': 2, 'Avaxia Consulting': 2, 'Aviation IT Services Africa (TUNISAIR)': 2, 'BFI GROUP': 2, 'Biware Consulting': 2, \"Bureau d'Etude IngÃ©nieur Conseil Ahmed KECHICHE\": 2, \"Bureau d'etudes Becem Haffar\": 2, 'CAMI Engineering': 2, 'CAVEO AUTOMOTIVE TUNISIA S.A.': 2, 'CAVEO AUTOMOTIVE TUNISIA S.A. (ex. COTREL)': 2, 'Caisse des DÃ©pÃ´ts et Consignations': 2, 'Capgemini Engineering': 2, 'CitroÃ«n Tunisie': 2, 'CitÃ© Nationale Sportive (MinistÃ¨re de la jeunesse et du sport)': 2, 'Commune de Medjez El Beb ': 2, 'Conseil gÃ©nÃ©ral du Gard': 2, 'Consolis  bonna ': 2, 'DINEFER Tunisie': 2, 'DRACOSS': 2, 'DRAVASSOR': 2, 'Defontaine / Rollix': 2, 'DidaMind': 2, 'EBMA': 2, 'EPPM': 2, 'EQUIBU': 2, \"Ecole Nationale des Sciences de l'Informatique\": 2, 'Ecole Polytechnique de Sousse': 2, 'Enactus Esprit ICT': 2, 'Engineerium, EMBTP, MTR': 2, 'FIS': 2, 'Focus Corporation': 2, 'Fourity': 2, 'GENOW': 2, 'GIPSA-lab': 2, 'GPRO Consulting': 2, 'GROUPEMENT C3S : COLAS Rail / SIEMENS sas / SOMATRA get / SIEMENS sa': 2, 'Gfi world': 2, 'Google Developer Student Club, ENIT': 2, 'HOTEL DIAR YASSINE': 2, 'IFFCO Group': 2, 'INRGREF': 2, 'ISET GabÃ¨s': 2, 'Jeune Chambre internationale JCI_ELFahs Zaghouan Tunisie': 2, 'Keyrus': 2, 'Laboratoires SIMED': 2, 'Le Consultant IngÃ©nierie': 2, 'Leoni Menzel Hayet Monastir': 2, 'Luxembourg Institute of Science and Technology (LIST)': 2, 'MTF IFRISOL': 2, 'Manouba Technopark - Tunisie': 2, 'Military Health System': 2, 'Monasteam': 2, 'New Access': 2, 'PENTABELL': 2, 'PLASTICUM': 2, 'Plastigray': 2, 'Precimold Inc': 2, 'PÃ´le Civil pour le DÃ©veloppement et Droits de lâ\\x80\\x99Homme â\\x80\\x93 MÃ©denine  ': 2, 'Queen cassiopeia': 2, 'RFC': 2, 'Reedz': 2, 'Rise.Up': 2, 'Rutilea, Inc.': 2, 'SCET-TUNISIE': 2, 'SFM Technology': 2, 'SGI-Consulting': 2, 'SOBIG': 2, 'SOGECLAIR': 2, 'SOGEP BÃ¢timent ': 2, 'STMicroelectronics': 2, 'ShapeTek SARL': 2, 'Smart tunisian Technoparks-S2T': 2, 'SmartUP': 2, \"SocietÃ© tunisienne d'imprimerie et de cartonnage STIC\": 2, \"SociÃ©tÃ© Afrique d'acier\": 2, 'SociÃ©tÃ© Chaabane des Travaux et AmÃ©nagements ': 2, 'SociÃ©tÃ© Zarrouki': 2, 'Socle Software': 2, 'TIC GROUP': 2, 'TMS Constractors': 2, 'Techno-Portes': 2, 'Tecost SA': 2, 'Tsunami IT': 2, 'Tunis Re': 2, 'UniversitÃ© arabe des Sciences': 2, 'VERMEG': 2, 'Valtech-it': 2, 'Zenika': 2, 'Zodiac Aerospace': 2, 'hyperbios': 2, 'iObeya': 2, 'Ã\\x89cole de technologie supÃ©rieure (Ã\\x89TS)': 2, \" Bureau d'Ã©tudes IngÃ©nieur conseil Ahmed Kechiche\": 2, ' Societe Industrielle Agro-alimentaire Moderne SIAM': 2, ' SociÃ©tÃ© Electronic Manufacturing Services (EMS)': 2, 'ADAGOS': 2, 'AETOS': 2, 'AP-HP, Assistance Publique - HÃ´pitaux de Paris': 2, 'Airbus': 2, 'Alpha Engineering Tunisia': 2, 'Brocaplus': 2, \"Bureau d'Etude IngÃ©nieur Conseil Sofiane BEN HALIMA \": 2, \"Bureau d'Ã©tude Nord-Sud \": 2, 'CMN': 2, \"Cabinet d'Etude et de Pilotage CEP\": 2, 'CliniSys': 2, \"Club Astronomie Ã\\xa0 l'ENIT\": 2, 'ConceptLab': 2, 'DEVONE': 2, 'Data Co-Lab': 2, 'Diwan International Engineering GmbH': 2, 'ELECPRO ': 2, 'ENAS Sarl - Groupe ASSAD': 2, 'ENSI': 2, 'EPPM (ENGINEERING PROCUREMENT & PROJECT MANAGEMENT)': 2, \"ESIGELEC : Ã\\x89COLE D'INGÃ\\x89NIEURS-ES GÃ\\x89NÃ\\x89RALISTES\": 2, 'EXTRA-MOULDS, SARL': 2, 'Ebsys': 2, \"Ecole Nationale d'IngÃ©nieurs de GabÃ¨s (E.N.I.G)\": 2, 'Ecole SupÃ©rieure Polytechnique de Nouakchott': 2, 'Elgazala technopark': 2, 'Enova ROBOTICS': 2, 'FivePoints The Talent Pool': 2, 'FivePoints(The Talent Pool)': 2, 'Formation DevOps Tools Engineer 700-701 ': 2, 'GET WIRELESS': 2, 'Geeks Data': 2, 'Generali': 2, 'GisAqua': 2, 'Groupe NextRoad': 2, 'Groupement de production Rades': 2, 'HLi Tunisie': 2, 'HRDatabank Tunisie': 2, 'IEEE ENIT Student Branch': 2, 'INGECOTEC (IngÃ©nierie et conseils techniques)': 2, 'IRD': 2, 'ISILOG': 2, 'Kromberg & Schubert': 2, 'LAW & BUSINESS SCHOOL': 2, 'La compagnie Tunisienne dâ\\x80\\x99Electronique EL ATHIR': 2, 'Ligue de Sud Ouest de KaratÃ© Gafsa': 2, 'Logis': 2, 'MTT': 2, 'Maintenace Partner Solutions Internationnal': 2, 'Meubles Mezghani': 2, 'Mitakus': 2, 'N3xt-Tunisie': 2, 'NOVEL-TI': 2, 'ODDO BHF TUNIS': 2, 'Online VIP Consulting': 2, 'Open Bee': 2, 'Quadran': 2, 'SONEDE GabÃ¨s': 2, 'SOTUEC International': 2, 'STN': 2, 'Sabena technics': 2, 'Sartex Group': 2, 'Sia record': 2, 'SocietÃ© Ben Saad de batiment et travaux publics': 2, 'TEAMWILL CONSULTING': 2, 'Technology Assistance Service T.A.S': 2, 'Tunisie Electronique': 2, 'Tunisie Micro Informatique': 2, 'Tunisie TÃ©lÃ©com centre de transmission numÃ©rique': 2, 'UniversitÃ© de Lorraine': 2, 'UniversitÃ© de Technologie de Troyes': 2, 'Vermeg ': 2, 'Worldline Global': 2, 'Yazaki ': 2, 'entreprise KHLIFI ET ASSOCIES': 2, 'sonede': 2, 'sotras gc': 2, \"Ã\\x89cole Nationale d'IngÃ©nieurs de Tunis\": 2, '#NOM?': 2, 'ADRI': 2, 'AIESEC': 2, 'AISA (Tunisair Group, SITA)': 2, 'ALPHA CONNECT INTERNATIONAL': 2, 'ALVA TUNISIA': 2, 'AMS ateliers de mÃ©canique du sahel ': 2, 'ASK ENGINEERING': 2, 'Andex': 2, 'Best Web Mobile': 2, \"Bureau d'Etudes Fredj Maatouk\": 2, \"Bureau d'Ã©tudes  M. Fredj MAATOUK\": 2, 'CIPEM': 2, 'CODINTEK': 2, 'CarriÃ¨res du Sud - Hamdi FrÃ¨res / ENIG': 2, 'Chakira CÃ¢ble': 2, 'Devrecipe': 2, 'Digit-U ': 2, \"Direction rÃ©gionale de l'Ã©quipement de Kairouan\": 2, 'Dynamic IPEIEM': 2, 'EMP(Engineering&Machining Precision)': 2, 'EMRHOD consulting': 2, 'ENIT ECOCAR': 2, 'ENIT Robotics Club': 2, 'ENVIRONMENTAL ASSESSMENT AND MANAGEMENT': 2, 'Enterprise Alumni': 2, 'GHT LOIRE': 2, 'Groupement DTA': 2, 'HÃ´pital Abderrahman Mami': 2, 'HÃ´pital Abderrahmane Mami': 2, 'I2E ': 2, 'ISOLMETAL': 2, 'ITAcademy': 2, 'Improve-Software': 2, 'Institut SupÃ©rieur des Technologies de lâ\\x80\\x99Information et de la Communication': 2, 'LA PRATIQUE ELECTRONIQUE': 2, 'LE MOTEUR': 2, 'LIRMM': 2, \"LOGIDAS - Editeur d'ERP\": 2, 'Laboratoire Traitement du Signal et de lâ\\x80\\x99Image (LTSI), / INSERM': 2, 'Les Couscousseries du Sud': 2, 'MIB CONCEPT': 2, 'Naas Capital': 2, 'Offenburg University': 2, 'RÃ©gie des Sondages Hydrauliques': 2, 'SAMM Test&Automation': 2, 'SCET Tunisie': 2, 'SOGEL': 2, 'SQOIN': 2, 'STDL': 2, 'STEG': 2, 'SYSATOO ': 2, 'Samsung': 2, 'Sanofi': 2, 'Squaretek': 2, 'Structures Europe Afrique': 2, 'TECHNIPLAST industrie ': 2, 'TeamDev': 2, 'Technopanels': 2, 'Tunisia Polycontrols - TPC ': 2, 'UniversitÃ© de MontrÃ©al': 2, 'VatoSmart': 2, 'Wimbee': 2, 'Xtensus': 2, 'dB.Sense': 2, 'la sociÃ©tÃ© tunisienne des filtres Misfat': 2, 'societÃ© EBA': 2, 'technopole bordj cedria': 2, 'AYMAX': 2, 'Amanah Consulting - Islamic Finance': 2, 'Asteelflash': 2, 'BCT': 2, 'BETA Engineering': 2, 'BUSINESS MANAGEMENT TN': 2, 'Bqube its': 2, 'Bureau Tunisien des Etudes BTE': 2, \"Bureau d'Ã©tudes M. Salem DELLI\": 2, 'CTN - Compagnie Tunisienne de Navigation': 2, 'Club GÃ©nie MÃ©canique - ENIT ': 2, 'Convergence.link': 2, 'Cynapsys': 2, \"Direction rÃ©gionale d'Ã©quipement, habitat et amÃ©nagement du territoire de kairouan\": 2, 'Doorba': 2, 'EMCO (Engineering, Management & Contracting)': 2, 'ENSI-Tunisie': 2, \"Ecole nationale d'ingÃ©nieurs de tunis\": 2, 'FabLab ENIT': 2, 'FacultÃ© des sciences de Monastir': 2, 'FinLight Research': 2, 'IOTA-TECHS': 2, 'Institut SupÃ©rieur des Etudes Technologiques': 2, 'Institut pasteur de Tunisie': 2, \"Institut supÃ©rieur d'administration Des entreprises de Gafsa\": 2, 'JET - Junior Enterprises of Tunisia': 2, 'La Mutuelle GÃ©nÃ©rale': 2, 'Les Laboratoires VITAL': 2, 'MEDIGRAIN SOUSSE GROUPE LA ROSE BLANCHE': 2, 'MEDITEC NMC SARL': 2, 'Mobile Service': 2, 'Network Associates': 2, 'SIMAC Tunisie': 2, 'SNCFT': 2, 'SORIBAT': 2, 'SOTACIB-KAIROUAN': 2, 'SOTETEL': 2, 'STELIA Aerospace': 2, 'Sahra Sondaj-Turquie': 2, 'Societe Industrielle Agro-alimentaire Moderne SIAM': 2, 'Ste Enameling Technology Industry â\\x80\\x93 ETI': 2, 'TIT : Tunisien Information Technologie': 2, 'TU Chemnitz': 2, 'TUNISAIR': 2, 'Tunisie Sucre': 2, 'Unilever Group': 2, 'UniversitÃ© Libre de Tunis (U.L.T.)': 2, 'Vision Solutions (Enterprise Software)': 2, 'Wellsphere': 2, 'club ASTROENIT': 2, 'machinestalk': 2, 'sociÃ©tÃ© tunisienne des filtres Misfat': 2, ' SociÃ©tÃ© PACNA Nabeul': 2, 'AEROLIA (an Airbus Group Company)': 2, 'Arab Tunisian Bank ATB': 2, 'B@Labs': 2, 'Bureau 2MB- Groupement dâ\\x80\\x99IngÃ©nieurs Conseils': 2, 'Bureau dâ\\x80\\x99Ã©tudes techniques dâ\\x80\\x99industrie et de construction (BETIC)': 2, 'CAP Technologies SA': 2, 'CMS-GIAS ': 2, 'Ceta engineering': 2, 'Corail Technologie': 2, 'ESSAI': 2, 'GLOBAL ENGENIRING ': 2, 'Helmut Schmidt UniversitÃ¤t - UniversitÃ¤t der Bundeswehr Hamburg': 2, 'ISAMM': 2, 'Inria': 2, 'Institut SupÃ©rieur des Ã\\x89tudes Technologiques de RadÃ©s': 2, 'Knowledge Expert': 2, 'MIND ENGINEERING | IT,Management & EduTech': 2, 'Manipal Institute of Technology': 2, 'Marquardt Group': 2, 'MinistÃ¨re tunisien de lâ\\x80\\x99Ã©quipement et de lâ\\x80\\x99habitat ': 2, 'Netlinks': 2, 'OMMP (Office de la Marine Marchande et des Ports)': 2, 'OXIA': 2, 'Omniacom': 2, 'SIRUS': 2, 'Seps': 2, 'Slama FrÃ¨res': 2, 'SociÃ©tÃ© Chaabane et Cie': 2, 'SpaceNet Tunisie ': 2, 'StÃ© ETELEC - GROUP ALBADR /PIRECO GROUP': 2, 'TRANSTU': 2, 'Telcotec Tunisie': 2, 'Teleperformance': 2, 'club gÃ©nie mecanique ENIT': 2, \"sociÃ©tÃ© de ciment d'enfida\": 2, 'AHEADIT Group': 2, 'Abd Nacer Slama pour les travaux publics ': 2, 'Agyla': 2, 'Ateliers MÃ©caniques du Sahel (AMS)': 2, \"Bureau d'Ã©tudes Mohamed Oueslati\": 2, 'COMETE ENGINEERING - Ecole Nationale dâ\\x80\\x99IngÃ©nieurs de Tunis': 2, \"Centre de Recherche et des Technologies de l'Energie\": 2, 'Centre de Recherche et des technologies des eaux': 2, 'Corse Composites Aeronautiques': 2, \"Direction RÃ©gional de l'Ã©quipement et de l'habitat\": 2, 'Etude et Conseil en ElectricitÃ© (ECE)': 2, 'Isetcom': 2, 'Manufacture du tabac de Kairouan MTK': 2, 'PUBLIC POWER CORPORATION': 2, 'Peugeot nabeul': 2, 'Unilever': 2, 'UniversitÃ© Centrale PrivÃ©e Tunisie': 2, 'international development consultants (partenaire de Pan Arab consulting Engineers Kuwait)': 2, 'sicad coala tunisia': 2, '360Medlink Inc': 1, '3IA Technology': 1, '3WA  ': 1, 'A3E Engineering': 1, 'ADM': 1, 'ADP': 1, 'AFRICA IngÃ©nierie': 1, 'AMZi Smart Solutions': 1, 'AROTEQ': 1, 'ATF Technologies SARL': 1, 'AVIONAV': 1, 'AXA': 1, 'Agence FonciÃ¨re Industrielle AFI (Organisme Ã©tatique-AmÃ©nagement des zones industrielles)': 1, 'Air France': 1, 'Alcazar Construction': 1, 'Allianz': 1, 'Arabesque': 1, 'Arion Technologies': 1, 'Autoliv': 1, 'BETAPI': 1, 'Banque Centrale de Tunisie': 1, 'Banque Centrale de Tunisie - Ø§Ù\\x84Ø¨Ù\\x86Ù\\x83 Ø§Ù\\x84Ù\\x85Ø±Ù\\x83Ø²Ù\\x8a Ø§Ù\\x84ØªÙ\\x88Ù\\x86Ø³Ù\\x8a': 1, 'Blent.ai': 1, \"Bureau d'Ã©trudes techniques\": 1, \"Bureau d'Ã©tudes CEP\": 1, \"Bureau d'Ã©tudes Gherri consulting\": 1, 'Business & Decision Tunisie': 1, 'CED ': 1, 'CKS Ingenieure S.A.R.L': 1, 'CMR Tunisia Ship Repairs': 1, 'COFICAB Group': 1, 'CPG': 1, 'Cair Tunisie': 1, 'Ceatec': 1, 'Christian Dior Couture': 1, 'Cognira Associates': 1, 'Convergen': 1, 'CrÃ©dit Agricole Assurances': 1, 'D-AIM': 1, 'Dataleon': 1, 'Deepera.AI': 1, 'DÃ©lice Holding': 1, 'ENGIE': 1, 'EQUANS France': 1, 'Elgazala Innovation Center': 1, 'Euro-Information': 1, 'FabSkill': 1, 'GEEGLEE': 1, 'GEMADDIS': 1, 'GEREP-Environnement': 1, 'Global Produits Ã\\x89nergÃ©tiques  (GPE)': 1, 'Groupe  SOTRAP : COMMATRA : Compagnie de matÃ©riel et des travaux ': 1, 'HermÃ¨s': 1, 'Hikma Pharmaceuticals': 1, 'IDM Systems': 1, 'IID International Information Developments': 1, 'ISET Bizerte': 1, 'ITSS GLOBAL \"Information Technology Solutions & Services\"â\\x80\\x8b': 1, 'InkyLab': 1, 'Inkyfada': 1, 'Institut SupÃ©rieur des Etudes Technologiques de Kairouan': 1, 'Investance Partners': 1, 'Ipsos': 1, 'Kaisens Data': 1, 'Karunya Institute of Technology and Sciences': 1, 'Linedata': 1, 'Linkfluence - a Meltwater company': 1, 'MINOTORE': 1, 'MS Solutions (Monetics Services Solutions)': 1, 'MS Solutions Group (Monetics Services Solutions)': 1, 'MakerLab': 1, 'Midgard Engineering': 1, \"MinistÃ¨re de l'Equipement : direction Tunis\": 1, \"MinistÃ¨re de l'Equipement, de l'Habitat et de l'Infrastructure\": 1, \"MinistÃ¨re de l'Ã\\x89ducation\": 1, \"MinistÃ¨re de l'Ã©quipement et de l'habitat\": 1, 'Montreal Behavioural Medicine Centre (MBMC)': 1, 'NEOSYS': 1, 'NEOXIA': 1, 'Naxxum': 1, 'ODOO-NEW-TEC ': 1, 'OGER INTERNATIONAL': 1, 'ONE TO ONE For Research and Polling ': 1, 'ONT Tunisie': 1, 'OVM': 1, 'PEP ENGINEERING': 1, 'PROBAT': 1, 'Piscines Magiline': 1, 'PowerOfData': 1, 'RIBAT ingÃ©nierie': 1, 'Reevalo': 1, 'Runecast Solutions': 1, 'SDZ GmbH': 1, 'SERMA International': 1, 'SETEC': 1, 'SGTP/Gabon': 1, 'SIB [numÃ©rique et santÃ©]': 1, 'SNCF RÃ©seau': 1, 'SNTGC: SociÃ©tÃ© Nouvelle des travaux de gÃ©nie Civil': 1, \"SOCIETE TUNISO-KOWEITIENNE D'EL EMAR\": 1, 'SOTES ImmobiliÃ¨re ': 1, 'SPECTRA': 1, 'STIB Tunisie': 1, 'STRU-CONCEPT INGENIERIE': 1, 'Sces': 1, 'Sers BM': 1, 'SociÃ©tÃ© Karmex': 1, 'SociÃ©tÃ© de Routes et de BÃ¢timents \"SOROUBAT \"': 1, 'Softia': 1, 'Solvay': 1, 'Sonepar France': 1, 'Streamlink ': 1, 'TEAMWILL': 1, 'Tasiast Mauritanie Ltd SA': 1, 'Technische UniversitÃ¤t Braunschweig': 1, 'Tessi France': 1, 'The Sparks Foundation': 1, 'Treetronix': 1, 'Valeo Ben Arous': 1, 'Vermeg': 1, 'Wattnow': 1, 'agile technology services': 1, \"bureau d'Ã©tudes CEPT\": 1, 'global young leaders organization ': 1, 'kopiLeft Services': 1, \"laboratoire cosim de sup'com \": 1, 'supreme colis': 1, 'yzr': 1, '  COGETEL': 1, ' bureau B2M': 1, 'AD INDUSTRIE': 1, 'AI BRIGHT': 1, 'AI Diagnosis Vision': 1, 'ALPHA10X': 1, 'AS2E AUTOMATION': 1, 'ATE': 1, 'AUNA - American University in North of Africa': 1, 'Afrique Concept AFCO': 1, 'Al Athir ': 1, 'Alcatel-Lucent Enterprise': 1, 'BTS BANK': 1, 'Banque africaine de dÃ©veloppement BAD': 1, 'BeCode.org': 1, 'Bertsch Innovation GmbH': 1, 'CERT': 1, 'CET Engineering': 1, 'CKS INGENIEURE': 1, 'CKS INGENIEURE S.A.R.L': 1, 'CRDA': 1, 'Candriam': 1, 'Centre de Formation privÃ©': 1, 'ClaraVista': 1, 'CognitiveRoots Software Solutions Pvt. Ltd.': 1, 'Comptoir General dâ\\x80\\x99Aluminium du Centre ': 1, 'ComunikCRM': 1, 'Condiag Electronics': 1, 'Coroplast Fritz MÃ¼ller GmbH & Co. KG': 1, 'CrÃ©dit Agricole CIB': 1, 'CrÃ©dit Agricole Consumer Finance': 1, 'DKS IngenieurbÃ¼ro': 1, 'DRÃ\\x84XLMAIER Group Tunisia': 1, 'DeWinter group ch': 1, 'EKK': 1, 'EL AMEN': 1, 'ENIG  ': 1, 'ERM Partners TN': 1, 'Embedded Solutions and Advanced Technology \"E.S.A.T\"': 1, 'Enactus ENIT': 1, 'Enit (CHEBAP) - Enau - UTC- ESPRIT - UniversitÃ©s privÃ©es': 1, 'Esprit RDI': 1, 'Esprit Tech': 1, \"FAZ Project :  bureau d'Ã©tudes offshore\": 1, 'FLEURET SAS': 1, 'FacultÃ© des Sciences de Tunis': 1, 'Federys Digital': 1, 'GENIE+': 1, 'GENOVIA IngÃ©nierie': 1, 'GEOMAP-IMAGIS': 1, 'GROUPE BAYOUD METAL': 1, 'Grafics': 1, 'Group-IPS': 1, 'IAESTE_TUNISIA ': 1, 'ICI / SCEP': 1, 'INSOMEA': 1, 'ITGate Group': 1, 'ITP (Groupe Alcen)': 1, 'Institut National des Sciences et Technologies de la Mer (INSTM)': 1, 'Jumia Group': 1, 'Kam Company GmbH': 1, \"L'OrÃ©al\": 1, 'LB-LARA': 1, 'Laboratoire (L.S.E. â\\x80\\x93 ENIT)': 1, 'Laboratoires Galpharma': 1, 'Laboratoires OPALIA PHARMA- RECORDATI Group': 1, 'Laser Solution et Services': 1, 'Layla confiserie': 1, 'MANIARO': 1, 'MERIDIAN Engineering': 1, 'MajestEYE': 1, 'Mantu': 1, 'Maritec': 1, 'Marquardt Tunisia': 1, 'Mersen': 1, \"MinistÃ¨re de l'Equipement - Direction GÃ©nÃ©rale des Ponts et ChaussÃ©es\": 1, 'My Money Bank': 1, 'NTT DATA Deutschland GmbH': 1, 'Natixis Asset Management': 1, 'Neopolis Development ': 1, 'Newtec': 1, 'Numeryx Tunisie': 1, 'ONE TO ONE for Research and Polling': 1, 'ONT': 1, 'Open Source Software ENSI Club': 1, 'Openvalue': 1, 'PEP Engineering': 1, 'Paypos Tunisie': 1, 'Power Sun Energy': 1, 'Quantn': 1, 'RETEL SA': 1, 'SETPAH': 1, 'SIBTEL': 1, 'STEG Tunisie': 1, 'Sagem Com Tunisie': 1, 'SiFAST': 1, 'Smart Skills': 1, 'Societe des Travaux Electromecanique (STE)': 1, 'SociÃ©tÃ© Bouzguenda frÃ¨res': 1, 'Somef': 1, 'Spark IT France': 1, 'Sparkers': 1, 'TIMELEC': 1, 'TRIMANE | Expert BI & Big Data': 1, 'Tunisie Porcelaine': 1, 'UNIBAT': 1, 'UniversitÃ© TÃ\\x89LUQ': 1, 'UniversitÃ© de Carthage': 1, 'VALEO - Comfort and Driving Assistance - Interior Controls': 1, 'VERMEG for Insurance & Finance Software': 1, 'Vistaprint': 1, 'Volkswagen Tunisie': 1, 'Vynd': 1, 'We-Settle': 1, 'Yuvo': 1, \"caisse d'epargne et de financement en afrique\": 1, 'douirti': 1, 'item Tunisie': 1, \"laboratoire tic de l'enit\": 1, \"projets fin d'etudes au sein du societÃ© Sia'am\": 1, 'secomet': 1, 'two-ride UG': 1, 'yobitrust': 1, \"(Ecole SupÃ©rieure PrivÃ©e d'IngÃ©nierie et de Technologies - ESPRIT)\": 1, '1waycom': 1, 'AFRICA SOLUTIONS': 1, 'AGENA3000': 1, \"Afric'Apps\": 1, 'Apptiv-IT - Valomnia Labs': 1, 'Arabsoft': 1, 'Axe Finance': 1, 'BI4YOU': 1, 'BUSINESS & AI': 1, 'Ben Rhouma Industries': 1, 'Bie': 1, \"Bureau d'Etudes Hamrouni Ferid\": 1, 'Bureau d\\'Ã©tudes \" Le consultant IngÃ©nierie LCI \"': 1, \"Bureau d'Ã©tudes en gÃ©nie civil\": 1, 'Business Management': 1, 'C&S Concept engeneering': 1, 'CARFIT': 1, 'CARTE ASSURANCES': 1, 'CCK (Centre de Calcul El-Khawarizmi)': 1, 'CGCP': 1, 'CUSTOS MED - Projet Startup Epilert': 1, 'Compagnie des Phosphates de Gafsa (CPG)': 1, 'Company Tunisioâ\\x80\\x93Kuwaito-Chinoise de petrole CTKCP ,  Tunisie': 1, 'DeepOR': 1, 'Developer Student Clubs Esprit University': 1, \"Direction rÃ©gional de l'Ã©quipent et de l'habitat de mahdia \": 1, 'EDC': 1, \"EGET: Entreprise gÃ©nÃ©ral d'Ã©quipement et travaux\": 1, 'EL ISKAN & GROUPE BOUCHAMAOUI': 1, 'EMC 2': 1, 'ENIT Ecocar': 1, 'ETAP': 1, 'Ecole Nationale dâ\\x80\\x99IngÃ©nieurs de Carthage ENICarthage': 1, 'Entreprise Tunisienne des ActivitÃ©s PÃ©troliÃ¨res   -ETAP-': 1, 'Entreprise Tunisienne dâ\\x80\\x99ActivitÃ©s PÃ©troliÃ¨res (ETAP)': 1, 'Epilert': 1, 'Esprit School of Business': 1, 'Esprit Technologies': 1, 'FORASOL S.A. - TUNISIE': 1, 'Faculty of Engineering and Design - Carleton University': 1, 'FormaXion': 1, 'GO GEOENGINEERING': 1, 'Galactech Studio': 1, 'Gfi Tunisie': 1, 'GlobalNet Tunisie': 1, 'Groupe CONCEPT': 1, 'Groupe Chimique Tunisien': 1, 'Groupe CrÃ©dit Agricole': 1, 'Groupe Magasin GÃ©nÃ©ral / Auchan': 1, 'Groupe PSA': 1, 'GÃ©nÃ©ral Enseignes': 1, 'Hablo': 1, 'Horizon-Data': 1, 'Hutchinson': 1, 'Info Plus': 1, 'InstaDeep Ltd': 1, 'Iset Gafsa': 1, 'JTS': 1, 'KLESIA': 1, \"L'accumulateur Tunisien Assad\": 1, 'LATÃ\\x89COÃ\\x88RE': 1, 'LAYLA Confiserie fine': 1, 'LEONI-Tunisie': 1, 'LGTB Gabon': 1, \"Laboratoire d'Informatique de Paris Nord\": 1, 'Le Consultant IngÃ©nierie ': 1, 'Leoni': 1, 'METEO FRANCE': 1, 'MPEC SARL': 1, 'Maghreb Etudes': 1, 'Malakoff Humanis': 1, 'Malt': 1, 'Marketing MÃ©diterranÃ©e Tunisie - MMT': 1, 'Mazars': 1, 'Medianet': 1, 'Mobelite': 1, 'Mozaik': 1, 'OREEDO -TUNISIE TELECOM': 1, 'Open Startup Tunisia': 1, 'PITERION Group': 1, 'PROCAN emballage mÃ©tallique': 1, 'S.E.A.B.G': 1, 'SERGAZ (Eni group)': 1, 'SIBTEL ENGINEERING': 1, 'SIMPRO': 1, 'SOCOBAT': 1, 'SONEDE district Montfleury': 1, 'SQLI SERVICES': 1, 'Shyk ': 1, 'Sirat ': 1, 'SociÃ©tÃ© El Braka de Construction MÃ©tallique': 1, 'SociÃ©tÃ© de DE BOISSONS ET DE CONFISERIE': 1, 'Swagelok': 1, 'TAGPAY Limited': 1, 'TELNET Holding': 1, 'TRANSTU - La SociÃ©tÃ© des Transports de Tunis': 1, 'TUNISAIR Technics': 1, 'TUNISIE ENGINEERING & CONSTRUCTION INDUSTRIELLE (TECI)': 1, 'Tadeco Group': 1, 'UNION Sport & Cycle': 1, 'UniversitÃ© de Monastir': 1, 'VINCI Construction': 1, 'Votorantim Cimentos Tunisie': 1, 'Wave global services tunisia': 1, 'attijari bank': 1, 'dream team': 1, 'ecole polytechnique meditÃ©ranÃ©enne': 1, 'la commune de Ras Jebal': 1, 'medianet consulting': 1, 'stagiaire Ã\\xa0 CODINTEK, Ã©leve ingÃ©nieur Ã\\xa0 supcom ': 1, ' PROCAN emballage mÃ©tallique': 1, '3S : Standard Sharing Software': 1, 'AIESEC in Tunisia': 1, 'AMS': 1, 'AMS (Atelier MÃ©canique du Sahel)': 1, 'ARDIA': 1, 'Acteol Ltd': 1, 'Africa Smart Technologie': 1, \"Agence Nationale pour la Maitrise de l'Energie S.A.\": 1, 'Agence de developpement IBTIKAR WEB': 1, 'Al Imtithal For Islamic Finance': 1, 'Alternative Concept': 1, 'Amen Bank': 1, 'Astrolab agency': 1, 'Avo Carbon France': 1, 'BTICR': 1, 'Black Dune Studio': 1, 'Boostiny': 1, \"Bureau d'Ã©tudes Sami Boudhri\": 1, 'CETIME': 1, 'CFE': 1, 'Cabinet de GÃ©nie Civil et de Pilotage': 1, 'Central Bank of Tunisia': 1, 'Clediss s.a.r.l': 1, 'CovÃ©a': 1, 'DRÃ\\x84XLMAIER Group-METS': 1, 'DSC Esprit': 1, 'Didon': 1, 'Digibusiness': 1, \"Direction RÃ©gional d'equipement de Kairouan\": 1, 'ECI Ã©volution commerce industrie , sociÃ©tÃ© spÃ©cialisÃ©e dans les travaux de construction mÃ©tallique': 1, 'EL Space': 1, 'EURELCTRIC TUNISIE': 1, 'EXTRAG TUNISIE': 1, 'ElectroMagneticWorks': 1, 'Entreprise Tunisienne des ActivitÃ©s PÃ©troliÃ¨res  - ETAP-': 1, 'Entreprise Tunisienne dâ\\x80\\x99ActivitÃ©s PÃ©troliÃ¨res  (ETAP) ': 1, 'Escalier consulting': 1, 'FacultÃ© des Sciences MathÃ©matiques, Physiques et Naturelles de Tunis': 1, 'Federys': 1, 'Finlight Research': 1, 'Fuba Printed Circuits': 1, 'GERMS Niger/DIWI Germany GmbH': 1, 'GIC Gara Informatique & Communication': 1, 'GIS TUNISIE': 1, 'GRATEC Tunisie': 1, 'Go MyCode': 1, 'High Atlas Foundation': 1, 'INDAFRI TRAVEL AGENCY': 1, 'IT GATE Group': 1, 'ITAZ ': 1, 'Institut SupÃ©rieur des Etudes Technologiques en Communications de Tunis': 1, 'JMS Flexible ': 1, \"L'EPI D'OR\": 1, 'Laboratoire des systÃ¨mes de communications-Sysâ\\x80\\x99com ENIT /Projet H2020': 1, 'Layla Confiserie': 1, 'Lumber mill': 1, 'LycÃ©e classique de SangmÃ©lima': 1, 'MENA Software Solutions': 1, 'MTT: Magharibia Technologies et Travaux': 1, 'Macopharma': 1, 'Medilsys': 1, \"MinistÃ¨re de l'Ã\\x89quipement et de l'Habitat\": 1, 'NCR Corporation': 1, 'Nokia Networks': 1, 'OceanData': 1, 'Office national de la TÃ©lÃ©diffusion': 1, 'PARENIN': 1, 'PET CRYSTAL INDUSTRIES- CASTEL GROUP': 1, 'Production International Company -PIC-': 1, 'SAFOZI - Rock Solid Cloud Infrastructure': 1, 'SIT : SociÃ©tÃ© Informatique et TÃ©lÃ©matique': 1, 'SNCF': 1, 'SONEDE ': 1, 'Setting Engineering': 1, 'Signal, Images et Technologies de lâ\\x80\\x99Information (LR-SITI-ENIT)': 1, \"SociÃ©tÃ© Italo Tunisienne d'Exploitation PÃ©troliÃ¨re\": 1, 'SociÃ©tÃ© Neifar BÃ¢timent SONEB': 1, 'SociÃ©tÃ© du RÃ©seau Ferroviaire Rapide (R.F.R.)': 1, 'Telnet Innovation Labs': 1, 'The General Insurance Committee': 1, 'Tunis International Bank': 1, 'Tunivisions Technologies': 1, 'U-Accelerator': 1, 'Yazaki Corporation': 1, 'Yobitrust': 1, 'banque de tunisie et des emirats': 1, 'excellium consulting': 1, 'i connect services': 1, 'societe de ciment': 1, \"Ã\\x89cole SupÃ©rieure de la Statistique et de l'Analyse de l'Information\": 1, ' TrustIt -Tunisie': 1, '5E for Training and e-Learning': 1, 'AD INDUSTRIES': 1, 'AFFLELOU Groupe': 1, 'APAVE': 1, 'Aloulou Consulting': 1, 'Banque Nationale Agricole': 1, 'Banque Nationale Agricole   ': 1, 'Bureau des services du BÃ¢timent': 1, \"Caisse Nationale d'Assurance Maladie \": 1, 'Centre Informatique du MinistÃ¨re des Finances': 1, \"Centre de Formation privÃ© d'Informatique et langues de Sousse\": 1, 'DITRIOT Consulting': 1, 'DRÃ\\x84XLMAIER Group-SATS': 1, 'Data Glacier': 1, 'DataEra': 1, 'Discovery Informatique SA': 1, 'DÃ©lice Danone': 1, 'ENGINEERUIM': 1, 'El AMEN': 1, 'Entreprise Gloulou': 1, 'Famytech': 1, 'Faurecia ': 1, 'General water Tunisia': 1, 'HUTCHINSON-Tunisie': 1, 'Hult Prize Foundation': 1, 'ICAR': 1, \"Institut supÃ©rieur d'informatique\": 1, 'International Information Developments': 1, 'Izdihar du Nord': 1, 'Le Mans UniversitÃ©': 1, 'Les Restos du Coeur': 1, 'MEDIANET': 1, 'MELLITI': 1, 'MINSUP': 1, 'MTT luxor group': 1, 'Mobelite Tunisie': 1, 'Mobiblanc': 1, 'Mobile support Line': 1, 'O-Learning': 1, \"Office de l'aviation civile et des aÃ©roports (OACA)\": 1, 'One Square': 1, 'PIRECO SA - Petroleum and Industrial Realization Contractors': 1, 'Pawo Partners (Consulting)': 1, 'Primatec Engineering': 1, 'Quantylix': 1, 'Rotaract': 1, 'SOGEST': 1, \"SOMATRA-GET ( direction d'Ã©tude)\": 1, 'SYSTRA': 1, 'SociÃ©tÃ© Nationale des distribution des pÃ©troles   AGIL': 1, 'Swib': 1, 'Takeoff': 1, 'UTT - UniversitÃ© de technologie de Troyes': 1, 'all-engineering': 1, \"bureau d'Ã©tudes chiheb besbes\": 1, 'entreprise jallouli des grands travaux': 1, 'AMI - Ateliers MÃ©caniques Industriels': 1, 'Arab Tunisian Bank': 1, 'AÃ©roport Monastir Habib Bourguiba': 1, 'Banque international arabe de Tunisie': 1, 'Business & Decision': 1, 'Centre national de maintenance tunisie': 1, 'Cynapsys It Hotspot': 1, 'Digital Communication': 1, 'ENSI Microsoft Club': 1, 'FacultÃ© des Sciences Monastir': 1, 'Fnac': 1, 'Grands Travaux Feriani': 1, 'IEEE ESPRIT Student Branch': 1, 'IntilaQ Tunisia': 1, 'Laboratoire des SystÃ¨mes de Communications (Sysâ\\x80\\x99Com) -ENIT': 1, \"MinistÃ¨re de l'Ã\\x89quipement, Direction GÃ©nÃ©rale des Ponts et ChaussÃ©es, Direction des Grands Travaux\": 1, 'Moi-mÃªme': 1, 'Nokia': 1, 'OWLIANCE': 1, 'Office du Commerce de la Tunisie(OCT)': 1, 'PRINT INGENIERIE ': 1, 'Plast Pack': 1, 'Polytech Nice Sophia': 1, 'Precimeca': 1, 'SOCIÃ\\x89TÃ\\x89 DES CARRIÃ\\x88RES BEN SAKHRIA ': 1, 'SociÃ©tÃ© Tunisienne des Industries de Raffinage - STIR': 1, 'SociÃ©tÃ© de DÃ©veloppement Informatique IOT': 1, 'SociÃ©tÃ© des IngÃ©nieurs pour les Affaires (SIAF)': 1, 'TC MARINES, TRAVAUX ET CONSTRUCTIONS MARINES': 1, 'TIS Circuits': 1, 'TopNet': 1, 'Tunisie Electro Technique': 1, 'UniQ Soft technology': 1, 'YncrÃ©a Hauts-de-France': 1})\n"
          ]
        }
      ]
    },
    {
      "cell_type": "code",
      "source": [
        "dictc = {}\n",
        "plt.rcParams[\"figure.figsize\"] = [30, 9]\n",
        "plt.rcParams[\"figure.autolayout\"] = True\n",
        "\n",
        "for element , count in final_count.most_common(10):\n",
        "  dictc[element[0:35]] = count\n",
        "plt.bar(dictc.keys(), dictc.values())\n",
        "plt.show()\n"
      ],
      "metadata": {
        "colab": {
          "base_uri": "https://localhost:8080/",
          "height": 297
        },
        "id": "sFtC3Zrd8_kd",
        "outputId": "f4baea5f-9f81-4c33-dc33-c5bda7c061df"
      },
      "execution_count": 87,
      "outputs": [
        {
          "output_type": "display_data",
          "data": {
            "text/plain": [
              "<Figure size 2160x648 with 1 Axes>"
            ],
            "image/png": "[encoded data removed]"
          },
          "metadata": {
            "needs_background": "light"
          }
        }
      ]
    },
    {
      "cell_type": "markdown",
      "source": [
        "**Organisation Location**"
      ],
      "metadata": {
        "id": "533ouBe-9Nd0"
      }
    },
    {
      "cell_type": "code",
      "source": [
        "orgs = ['organization_location_1','organization_location_2','organization_location_3','organization_location_4','organization_location_5']\n",
        "\n",
        "final_count = Counter()\n",
        "for org in orgs:\n",
        "  final_count = final_count + Counter(df.groupby([org]).size().to_dict())\n",
        "print(final_count)"
      ],
      "metadata": {
        "colab": {
          "base_uri": "https://localhost:8080/"
        },
        "id": "X5dfVY8p9B_J",
        "outputId": "6dd0796d-6ae7-4108-d59e-5af10a02638b"
      },
      "execution_count": 88,
      "outputs": [
        {
          "output_type": "stream",
          "name": "stdout",
          "text": [
            "Counter({'Tunisie': 325, 'Tunis, Tunisie': 205, 'Gouvernorat deÂ\\xa0Tunis, Tunisia': 141, 'Tunisia': 44, 'Gouvernorat deÂ\\xa0lâ\\x80\\x99Ariana, Tunisia': 36, 'Tunis': 32, 'Tunis, Tunisia': 31, 'Ariana, Tunisie': 28, 'Sousse, Tunisie': 28, 'Ben Arous, Tunisie': 19, 'RÃ©gion de Paris, France': 19, 'Gouvernorat de la Manouba, Tunisia': 18, 'Gouvernorat deÂ\\xa0Ben Arous, Tunisia': 18, 'Gouvernorat deÂ\\xa0Monastir, Tunisia': 17, 'Gouvernorat deÂ\\xa0Sousse, Tunisia': 14, 'Megrine, Ben Arous, Tunisie': 14, 'Ville de Paris, Ã\\x8ele-de-France, France': 14, 'Gouvernorat deÂ\\xa0Sfax, Tunisia': 13, 'Tunis Governorate, Tunisia': 12, 'Manouba, Tunisie': 11, 'Monastir, Tunisie': 11, 'tunis': 10, 'Gouvernorat deÂ\\xa0GabÃ¨s, Tunisia': 7, 'Sfax, Tunisie': 7, 'Gouvernorat deÂ\\xa0Kairouan, Tunisia': 6, 'Paris, Ã\\x8ele-de-France, France': 6, 'Gouvernorat deÂ\\xa0Bizerte, Tunisia': 6, 'Nabeul, Tunisie': 6, 'Sousse': 6, 'Ariana Governorate, Tunisia': 5, 'BÃ©ja, Tunisie': 5, 'Aix-en-Provence, Provence-Alpes-CÃ´te dâ\\x80\\x99Azur, France': 4, 'Direction RÃ©gionale Mannouba': 4, 'MÃ©grine, Gouvernorat deÂ\\xa0Ben Arous, Tunisia': 4, 'Sousse Governorate, Tunisia': 4, 'Toulouse, Occitanie, France': 4, 'El Manar, Tunis': 4, 'Enfidha, Sousse, Tunisie': 4, 'Gafsa': 4, 'Kairouan, Wilayat de Kairouan, Tunisie': 4, 'tunisie': 4, 'Â\\xa0Sfax, Tunisia': 4, 'Gouvernorat deÂ\\xa0Gafsa, Tunisia': 4, 'Soukra': 4, 'Zaghouan, Tunisie': 4, 'ENIT': 4, 'Gouvernorat deÂ\\xa0Zaghouan, Tunisia': 4, 'Allemagne': 3, 'Centre Urbain Nord, Tunis': 3, 'MontrÃ©al, QuÃ©bec, Canada': 3, 'Soukra, Gouvernorat deÂ\\xa0lâ\\x80\\x99Ariana, Tunisia': 3, 'Gabes, Tunisie': 3, 'Gouvernorat deÂ\\xa0Siliana, Tunisia': 3, 'Montreal, Quebec, Canada': 3, 'Paris Area, France': 3, 'RÃ©gion de Munich, Allemagne': 3, 'Sfax': 3, 'TUNIS': 3, 'Megrine': 3, 'Tunis,Tunisie': 3, 'charguia': 3, 'Kairouan': 3, ' Tunisie': 2, 'Ben Arous Governorate, Tunisia': 2, 'Berges du lac 01- Tunis': 2, 'Burundi': 2, 'Charguia': 2, 'Douala, Cameroun': 2, 'El Ghazala, Bizerte, Tunisie': 2, 'El Kef, Tunisie': 2, 'Emdep Tunisia BÃ¢timent El Mouhaouel Rue de lâ\\x80\\x99Ã©nergie Z.I Ben Arous 2013 Tunis': 2, 'Geneva, Switzerland': 2, 'Grenobl': 2, 'Grombalia, Nabeul, Tunisie': 2, 'Haut-OgoouÃ©, Gabon': 2, 'Ile de djerba': 2, 'Luxembourg': 2, 'Lyon, Auvergne-RhÃ´ne-Alpes, France': 2, 'Mannouba': 2, 'Manouba, Tunisie ': 2, 'Medenine, Tunisie': 2, 'Novi Sad, VoÃ¯vodine, Serbie': 2, 'RÃ©gion de MontrÃ©al, Canada': 2, 'RÃ©gion de NÃ®mes, France': 2, 'Sousse, Sousse, Tunisie': 2, 'TUNISIE': 2, 'Tunis Ville, Tunis, Tunisie': 2, 'Tunis, Tunis, Tunisie': 2, 'World': 2, 'ZouÃ©rate, Tiris Zemmour, Mauritanie': 2, 'menzah 5, Tunis, Tunisie': 2, '27 avenue Khair-Eddine Pacha, Tunis': 2, 'Ariana': 2, 'Ariana, Tunis, Tunisie': 2, 'Bizertz ': 2, 'CitÃ© sportive ': 2, 'El Kram, Tunis, Tunisie': 2, 'Hammamet, Tunisie': 2, 'Km 10, Route de Fouchana. Sidi Hassine. 1095 Tunis- Tunisie': 2, 'Km 6 dhari soliman.': 2, 'Korba, Nabeul, Tunisie': 2, 'Ksar Hellal, Monastir, Tunisie': 2, 'Mahdia, Tunisie': 2, 'Manar': 2, 'Menzah, Tunis, Tunisie': 2, 'Nancy, Grand Est, France': 2, 'Nouakchott, Mauritanie': 2, 'PÃ´le technologique el ghazala, Tunisie': 2, 'Rouen, Normandie, France': 2, 'RÃ©gion de Toulouse, France': 2, 'Saint-Denis, Ã\\x8ele-de-France, France': 2, 'Soukra, Ariana tunisie ': 2, 'Sousse ': 2, 'Technopole de la Manouba, Espace Des Entreprises Immeuble E10 RDC 2010 Manouba': 2, 'Toulouse, France': 2, 'Zone Industrielle - Ben Arous': 2, 'ben arous': 2, 'ksar said': 2, 'paris': 2, 'technopole sousse': 2, 'tunisie, soliman': 2, '10 DÃ©cembre , Manzah 4': 2, \"3, rue de l'Ã©nergie atomique (Ex rue 8609), Charguia 1, Tunis\": 2, '40, Rue du 18 janvier 1952 - 1001 Tunis RÃ©publique': 2, 'Berges du lac': 2, 'CSC Sfax': 2, 'Chalon-sur-SaÃ´ne, Bourgogne, France': 2, 'Douala': 2, 'ENSI, Cristal Lab, RAMSIS Team, ; INRIA, Paris.': 2, \"Ecole national d'ingÃ©nieur de tunis\": 2, 'Espace des entreprises TechnopÃ´le Manouba': 2, 'Gafsa, Tunisie': 2, 'GenÃ¨ve, Suisse': 2, 'Gouvernorat deÂ\\xa0Nabeul, Tunisia': 2, 'Gouvernorat deÂ\\xa0Tataouine, Tunisia': 2, 'Greece': 2, 'Hammamet': 2, 'Les Berges du Lac, Tunis, Tunisie': 2, 'Les berges du Lac, Tunis': 2, 'Mannouba Governorate, Tunisia': 2, 'Montfleury, Tunis': 2, 'Nouadhibou, Mauritanie': 2, 'Rades, Ben Arous, Tunisie': 2, 'RÃ©gion de Montpellier, France': 2, 'Soliman, Nabeul Tunisie': 2, 'Soliman, Nabeul, Tunisie': 2, 'Technopark Mannouba Tunisie': 2, 'Technopole EL Ghazella': 2, 'mannouba,jedaida': 2, 'megrine': 2, 'Belfort, Bourgogne-Franche-ComtÃ©, France': 2, 'Bizerte': 2, 'Charguia 2': 2, 'Charguiya 1 ZI': 2, 'Djerba': 2, \"Ecole Nationale d'IngÃ©nieurs de Tunis, Tunisie\": 2, 'France': 2, 'Gouvernorat deÂ\\xa0Kebili, Tunisia': 2, 'Manouba': 2, 'Medjez El Bab, Gouvernorat deÂ\\xa0BÃ©ja, Tunisia': 2, 'Mornaguia, Manouba, Tunisie': 2, 'Paris et pÃ©riphÃ©rie': 2, 'SOUSSE': 2, 'ezzahra': 2, 'ghazala technopole': 2, 'jedaida,mannouba': 2, 'manar 1 ': 2, \"Ã\\x89cole nationale d'ingÃ©nieurs de Tunis\": 2, 'Bardo, Tunis Governorate, Tunisia': 2, 'Centrale Electrique de Sousse nouvelle Etape D': 2, 'Centre Urbain Nord, Ariana': 2, 'District Nabeul': 2, 'Gouvernorat deÂ\\xa0Mahdia, Tunisie': 2, 'La Goulette ': 2, 'Lac de Tunis': 2, 'RÃ©gion de Hambourg, Allemagne': 2, 'Udupi, Karnataka, Inde': 2, 'UniversitÃ© Tunis Manar': 2, 'Zone Industriel Messadine, Sousse, Tunisie': 2, 'borj cÃ©dria tunisie': 2, 'charguia tunis, Tunisia': 2, 'choutrana': 2, 'enfidha ': 2, 'rue de hooker Belvedere ': 2, 'Akjouit, Inchiri, Mauritanie': 1, 'Bizerte, Tunisie': 1, 'Brno, South Moravia, Czechia': 1, 'Brunswick, Lower Saxony, Germany': 1, 'Cergy, Ã\\x8ele-de-France, France': 1, 'Coimbatore, Tamil Nadu, Inde': 1, 'Croix, Hauts-de-France, France': 1, 'Ez-Zahra, Ben Arous, Tunisie': 1, 'KÃ©bili, Tunisie': 1, 'Le Bardo, Tunisie': 1, 'Menzel Bourguiba, Bizerte, Tunisie': 1, 'MÃ©grine - Ben Arous - Tunisie': 1, 'MÃ©grine, Ben Arous Governorate, Tunisia': 1, 'Nanterre, Ã\\x8ele-de-France, France': 1, 'Raoued, Ariana, Tunisie': 1, 'Sagemcom, 13, RN1, Ez Zahra': 1, 'Sidi Thabet, Ariana, Tunisie': 1, 'Soliman Tunisie': 1, 'SÃ£o Paulo, Brazil': 1, 'TUNIS LAC 02': 1, 'Troyes, Grand Est, France': 1, 'Valeo DAV Tunisie    Laboratoire Valeo Ben Arous': 1, 'Wilayat de Kairouan, Tunisie': 1, 'Ã\\x8ele-de-France, France': 1, 'Ø§Ù\\x84Ù\\x83Ø±Ù\\x85, Tunis, Tunisia': 1, \"Aix-en-Provence, Provence-Alpes-CÃ´te d'Azur, France\": 1, 'Belgique': 1, 'Brussels, Brussels Region, Belgium': 1, 'EL GHAZALA, Tunisie': 1, 'Fouchana, Tunisie': 1, 'GAfsa,Tunisie': 1, 'Hammen Souuse': 1, 'Inde': 1, 'Laboratoire (L.S.E. â\\x80\\x93 ENIT)': 1, 'Levallois Perret, Paris, FRANCE': 1, 'Lille, Hauts-de-France, France': 1, 'Mannouba ': 1, 'Montrouge, Ã\\x8ele-de-France, France': 1, 'Munich , remote from tunisia': 1, 'Munich, Germany': 1, 'Nantes, Pays de la Loire, France': 1, 'Paris': 1, 'Rue Yakout Hamaoui, La Soukra, ARIANA': 1, 'RÃ©gion de Lille, France': 1, 'Service qualitÃ© DRÃ\\x84XLMAIER Sousse': 1, 'Sfax Governorate, Tunisia': 1, 'Spa, Wallonie, Belgique': 1, 'Tunis, Tunis, Tunisia': 1, 'Tunisie ': 1, 'Tunsie': 1, 'Z I NAASSEN': 1, \"l'Institut SupÃ©rieur des Technologies de l'Information et de la Communication\": 1, 'lac 2': 1, 'sidi daoued_la marsa': 1, 'Aube, Grand Est, France': 1, 'BelvÃ©dÃ¨re, Tunis, Tunis, Tunisia': 1, 'Ben Arous': 1, 'CitÃ© des sciences': 1, 'El haouaria': 1, 'GabÃ¨s Governorate, Tunisia': 1, 'Gafsa, Tunisia': 1, 'La Manouba, Tunis': 1, 'Lac 1': 1, 'Lac1': 1, 'Leoni': 1, 'Les Berges du Lac-Tunis': 1, 'Les berges du lac Tunis': 1, 'Lille Area, France': 1, 'London, England, United Kingdom': 1, 'Lviv Region, Ukraine': 1, 'Mateur, Bizerte, Tunisie': 1, 'Megrine riadh': 1, 'Mghira,Tunis': 1, 'Monastir': 1, 'Montplaisir': 1, 'Paris La DÃ©fense, Ã\\x8ele-de-France, France': 1, 'Paris, Ile-de-France, France': 1, 'Pole Technologique El Gazela': 1, 'Rwanda': 1, 'STEG': 1, 'Service Maintenance  HUTCHINSON  Sousse': 1, 'Technopole El Ghazela -Tunise': 1, 'Tunis Menzeh 4': 1, \"Villeneuve-d'Ascq, Hauts-de-France, France\": 1, 'Villetaneuse, France': 1, \"les jardins d'el manzah 2\": 1, 'sochaux': 1, 'AMS sousse': 1, 'Bardo': 1, \"DÃ©pÃ´t d'hydrocarbures RadÃ¨s, Tunisie\": 1, \"Ecole Nationle d'IngÃ©nieurs de Tunis (ENIT)\": 1, 'Egypte': 1, 'Gabes, Tunis, Tunisia': 1, 'Hellemmes, Lille': 1, 'Jardin de carthage , tunis': 1, 'Marrakesh-Safi, Maroc': 1, 'Mghira, Ben arous': 1, 'Munich Area, Germany': 1, 'Munich, BaviÃ¨re, Allemagne': 1, 'Niamey -  Niger': 1, 'PÃ´le Technologique El Ghazala, 2083 Ariana': 1, 'Rades ': 1, 'SangmÃ©lima, Cameroun': 1, 'Sfax Ouest, Gouvernorat deÂ\\xa0Sfax, Tunisia': 1, 'Slimen-Tunisie': 1, 'Tunisie _ Kairouan': 1, 'Zone Industrielle Chotrana II - Tunis': 1, 'kasserine': 1, 'lac ll': 1, 'les berges du lac 1053 tunis tunisia': 1, 'rue NeuchÃ¢tel , Lac 1': 1, 'Ain zaghaoun, Tunis': 1, 'Centre urban nord , tunis': 1, 'CrÃ©teil, Ã\\x8ele-de-France, France': 1, 'Djerba Midoun, Gouvernorat deÂ\\xa0MÃ©denine, Tunisia': 1, 'Gouvernorat du Kef, Tunisia': 1, 'La Goulette-Tunisie': 1, 'Mannouba University - Tunisia': 1, 'Munich, Allemagne': 1, 'Munich, Bavaria, Germany': 1, 'RÃ©gion de Troyes, France': 1, 'Sfax Sud, Gouvernorat deÂ\\xa0Sfax, Tunisia': 1, 'Sokra, Tunis ': 1, 'Tunisie, Ariana': 1, 'Tunisie_Sousse': 1, 'TÃ©boursouk, Gouvernorat deÂ\\xa0BÃ©ja, Tunisia': 1})\n"
          ]
        }
      ]
    },
    {
      "cell_type": "code",
      "source": [
        "dictc = {}\n",
        "plt.rcParams[\"figure.figsize\"] = [30, 9]\n",
        "plt.rcParams[\"figure.autolayout\"] = True\n",
        "\n",
        "for element , count in final_count.most_common(10):\n",
        "  dictc[element[0:35]] = count\n",
        "plt.bar(dictc.keys(), dictc.values())\n",
        "plt.show()"
      ],
      "metadata": {
        "colab": {
          "base_uri": "https://localhost:8080/",
          "height": 456
        },
        "id": "-LuIJhLq9ViE",
        "outputId": "1290513f-0e33-4682-fd43-74bc44bac37a"
      },
      "execution_count": 89,
      "outputs": [
        {
          "output_type": "stream",
          "name": "stderr",
          "text": [
            "/usr/local/lib/python3.7/dist-packages/matplotlib/backends/backend_agg.py:214: RuntimeWarning: Glyph 128 missing from current font.\n",
            "  font.set_text(s, 0.0, flags=flags)\n",
            "/usr/local/lib/python3.7/dist-packages/matplotlib/backends/backend_agg.py:214: RuntimeWarning: Glyph 153 missing from current font.\n",
            "  font.set_text(s, 0.0, flags=flags)\n",
            "/usr/local/lib/python3.7/dist-packages/matplotlib/backends/backend_agg.py:183: RuntimeWarning: Glyph 128 missing from current font.\n",
            "  font.set_text(s, 0, flags=flags)\n",
            "/usr/local/lib/python3.7/dist-packages/matplotlib/backends/backend_agg.py:183: RuntimeWarning: Glyph 153 missing from current font.\n",
            "  font.set_text(s, 0, flags=flags)\n"
          ]
        },
        {
          "output_type": "display_data",
          "data": {
            "text/plain": [
              "<Figure size 2160x648 with 1 Axes>"
            ],
            "image/png": "[encoded data removed]"
          },
          "metadata": {
            "needs_background": "light"
          }
        }
      ]
    },
    {
      "cell_type": "markdown",
      "source": [
        "**Education**"
      ],
      "metadata": {
        "id": "_piFcbNY-CQz"
      }
    },
    {
      "cell_type": "code",
      "source": [
        "orgs = ['education_1','education_2','education_3']\n",
        "\n",
        "final_count = Counter()\n",
        "for org in orgs:\n",
        "  final_count = final_count + Counter(df.groupby([org]).size().to_dict())\n",
        "print(final_count)"
      ],
      "metadata": {
        "colab": {
          "base_uri": "https://localhost:8080/"
        },
        "id": "Hhu7QG5V90nm",
        "outputId": "ffd67fc3-2a2d-4b25-c0e9-b8d28cfee958"
      },
      "execution_count": 90,
      "outputs": [
        {
          "output_type": "stream",
          "name": "stdout",
          "text": [
            "Counter({\"Ecole Nationale d'IngÃ©nieurs de Tunis\": 303, \"Ecole SupÃ©rieure PrivÃ©e d'IngÃ©nierie et de Technologies - ESPRIT\": 99, \"ENSI - Ecole Nationale des Sciences de l'Informatique\": 78, \"IPEIT - Institut PrÃ©paratoire aux Etudes d'IngÃ©nieurs de Tunis\": 45, \"Institut prÃ©paratoire aux Ã©tudes d'ingÃ©nieurs d'El Manar (IPEIEM)\": 44, \"IPEIN - Institut PrÃ©paratoire aux Ã\\x89tudes d'IngÃ©nieur de Nabeul\": 37, \"SUP'COM\": 29, \"IPEIS - Institut PrÃ©paratoire aux Ã\\x89tudes d'IngÃ©nieur de Sfax\": 25, 'FacultÃ© des Sciences MathÃ©matiques, Physiques et Naturelles de Tunis': 11, 'ENIT': 9, \"Institut PrÃ©paratoire aux Etudes d'IngÃ©nieurs de Monastir\": 8, 'Le Mans UniversitÃ©': 7, 'Ecole Nationale dâ\\x80\\x99IngÃ©nieurs de Carthage ENICarthage': 7, 'Institut SupÃ©rieur des Etudes Technologiques en Communications de Tunis': 7, 'Institut du Risque et de lâ\\x80\\x99Assurance du Mans': 6, 'IPEIB': 6, 'Preparatory Institute for Engineering Studies of Monastir (IPEIM)': 6, 'ESSTHS - Ã\\x89cole SupÃ©rieure des Sciences et de la Technologie de Hammam Sousse': 5, 'IPEIM': 5, \"Institut prÃ©paratoire aux Ã©tudes d'ingÃ©nieurs de Bizerte\": 5, \"Institut prÃ©paratoire aux Ã©tudes d'ingÃ©nieurs de Monastir\": 5, 'LycÃ©e Pilote Bourguiba Tunis': 5, \"Ecole Nationale d'IngÃ©nieurs de Tunis (ENIT)\": 4, \"Ecole SupÃ©rieure de Technologie et d'Informatique (E.S.T.I.)\": 4, 'INSAT - Institut National des Sciences AppliquÃ©es et de Technologie': 4, \"Ã\\x89cole Nationale d'ingÃ©nieurs de Sousse\": 4, \"Ecole Nationale d'IngÃ©nieurs de Sousse\": 4, 'FacultÃ© des Sciences de Monastir': 4, 'FacultÃ© des Sciences de Tunis': 4, 'IPEIN': 4, 'Institut SupÃ©rieur de Gestion de Tunis': 4, \"Institut supÃ©rieur d'informatique\": 4, \"Ecole Nationale d'IngÃ©nieurs de GabÃ¨s (E.N.I.G)\": 3, \"Ecole Nationale d'ingÃ©nieurs de Tunis\": 3, \"Sup'Com\": 3, 'UniversitÃ© Libre de Tunis (ULT)': 3, 'UniversitÃ© Paris Dauphine- PSL': 3, 'FacultÃ© des Sciences de Bizerte, UniversitÃ© de Carthage': 3, 'FacultÃ© des sciences de Tunis': 3, 'Higher Institute of Technological Studies of Rades (ISET Rades)': 3, 'LycÃ©e Carthage PrÃ©sidence': 3, 'CentraleSupÃ©lec': 2, 'ESIM (ESIER)': 2, 'Ecole Nationale des IngÃ©nieurs de TUNIS': 2, 'Ecole Nationale dâ\\x80\\x99IngÃ©nieurs de Tunis': 2, 'Ecole SupÃ©rieure de la Statistique et de lâ\\x80\\x99Analyse de lâ\\x80\\x99Information': 2, \"Ecole national d'ingÃ©nieurs de tunis ENIT\": 2, \"Ecole nationale d'ingenieur de tunis\": 2, \"Ecole nationale des sciences de l'informatique\": 2, 'Ecole nationale dâ\\x80\\x99ingÃ©nieur de Tunis': 2, \"Ecole nationale superieur d'ingenieurs de tunis\": 2, 'FST': 2, 'Faculte des sciences de Monastir': 2, 'Go My Code': 2, \"Institut PrÃ©paratoire Aux Etudes d'IngÃ©nieurs d'El Manar\": 2, \"Institut PrÃ©paratoire aux Etudes d'IngÃ©nieurs El Manar (IPEIEM)\": 2, \"Institut PrÃ©paratoire aux Etudes d'IngÃ©nieurs de Bizerte - IPEIB\": 2, 'Institut Superieur des Etudes Technologiques de Rades': 2, 'Reiki Tunisie': 2, 'SMU - South Mediterranean University (MSB- MedTech-LCI)': 2, 'UniversitÃ© Gustave Eiffel': 2, 'UniversitÃ© Sorbonne Paris Nord': 2, 'UniversitÃ© de Technologie de CompiÃ¨gne (UTC)': 2, 'UniversitÃ© de Tunis El Manar': 2, \"ecole nationale des sciences de l'informatique\": 2, 'institut supÃ©rieur des Ã©tude technologique de rades': 2, \"Ã\\x89cole Nationale d'Electronique et des TÃ©lÃ©communications de Sfax (ENET'Com)\": 2, \"Ã\\x89cole nationale supÃ©rieure d'ingÃ©nieur Ã\\xa0 Tunis\": 2, 'Columbia University': 2, 'Ecole Nationale des IngÃ©nieurs de Tunis': 2, 'Ecole SupÃ©rieure Polytechnique de Nouakchott': 2, \"Ecole SupÃ©rieure d'Economie NumÃ©rique Manouba\": 2, \"Ecole nationale d'ingÃ©nieurs de Sfax\": 2, 'FacultÃ© des Sciences Economiques et de Gestion de Tunis (FSEGT)': 2, 'FacultÃ© des Sciences Monastir': 2, 'FacultÃ© des Sciences de monastir': 2, 'IPEIEM': 2, 'IPEIK': 2, 'IPEIT': 2, 'ISET': 2, 'ISET RadÃ©s': 2, \"ISIMM | Institut SupÃ©rieur d'Informatique et de MathÃ©matiques de lâ\\x80\\x99UniversitÃ© de Monastir\": 2, 'ISSAT-Mahdia': 2, \"Institue PrÃ©paratoire aux Etudes d'IngÃ©nieurs de Tunis\": 2, \"Institue prÃ©paratoire des cycles d'ingÃ©nieur de bizerte\": 2, \"Institut PrÃ©paratoire aux Etudes d'IngÃ©nieurs de Nabeul-IPEIN\": 2, 'Institut PrÃ©paratoire aux Etudes dâ\\x80\\x99IngÃ©nieurs de Monastir (IPEIM).': 2, \"Institut PrÃ©paratoire aux Ã\\x89tudes d'IngÃ©nieurs de GabÃ¨s\": 2, 'Institut PrÃ©paratoire aux Ã\\x89tudes dâ\\x80\\x99IngÃ©nieurs de Monastir â\\x80\\x93 IPEIM': 2, \"Institut PrÃ©paratoire aux Ã©tudes d'ingÃ©nieur de Kairouan (IPEIK)\": 2, 'Institut SupÃ¨rieur des Sciences AppliquÃ©es et de Technologie de Sousse - ISSAT Sousse': 2, 'Institut SupÃ©rieur des Sciences AppliquÃ©es et de Technologie de Mahdia - ISSAT Mahdia': 2, \"Institut prÃ©paratoire aux Ã©tudes d'ingÃ©nieur de Tunis-IPEIT\": 2, \"Institut prÃ©paratoire aux Ã©tudes d'ingÃ©nieurs Monastir\": 2, \"Institut prÃ©paratoire aux Ã©tudes d'ingÃ©nieurs de Bizerte - IPEIB\": 2, \"Institut prÃ©paratoire aux Ã©tudes d'ingÃ©nieurs de Monastir.\": 2, \"Institut prÃ©paratoire aux Ã©tudes d'ingÃ©nieurs de Nabeul (IPEIN)\": 2, \"Institut prÃ©paratoire aux Ã©tudes d'ingÃ©nieurs de Sfax- IPEIS\": 2, 'Institut prÃ©paratoire aux Ã©tudes dâ\\x80\\x99ingÃ©nieurs de Monastir (IPEIM)': 2, 'Institute supÃ©rieure des sciences appliquÃ©es et technologie de Gabes': 2, 'Issat GabÃ¨s': 2, 'LycÃ©e El-Wafa, CitÃ© la Gazelle': 2, 'LycÃ©e Ibn Mandhour': 2, 'LycÃ©e Pilote Bourguiba de Tunis': 2, 'Preparatoire sfax': 2, 'TEG - Training and Engineering Group': 2, 'Technicien en Hypnose Ericksonienne': 2, 'UniversitÃ© de Monastir': 2, 'UniversitÃ© de Paris': 2, 'hadika college': 2, \"institut prÃ©paratoire aux Ã©tudes d'ingÃ©nieurs de Monastir\": 2, 'ipeiem': 2, 'iset nabeul': 2, \"lâ\\x80\\x99IPEIT (Institut prÃ©paratoire aux Ã©tudes d''ingÃ©nieurs de TUNIS)\": 2, 'universitÃ© virtuelle de Tunis': 2, 'Ã\\x89cole SupÃ©rieure des Sciences Economiques et Commerciales de Tunis': 2, 'ASSOCIATION TUNISIENNE DES FEMMES INGENIEURS': 2, 'CollÃ¨ge Manar 1 - Tunis': 2, 'Cycle prÃ©paratoire aux etudes d ingÃ©nieurs': 2, 'ELBILIA': 2, \"IPEIM - Institut PrÃ©paratoire aux Etudes d'IngÃ©nieurs de Monastir\": 2, \"IPEIN: Institut PrÃ©paratoire aux Etudes d'ingÃ©nieurs de Nabeul\": 2, 'Institut Bourguiba des Langues Vivantes': 2, 'Institut PrÃ©paratoire aux Grandes Ecoles dâ\\x80\\x99 IngÃ©nieurs Ã\\xa0 Nouakchott (IPGEI)': 2, 'Institut PrÃ©paratoire aux Grandes Ecoles dâ\\x80\\x99IngÃ©nieurs (IPGEI)': 2, \"Institut SupÃ©rieur d'Informatique El Manar\": 2, \"Institut prÃ©paratoire aux Etude d'IngÃ©nieur\": 2, \"Institut prÃ©paratoire aux Ã©tudes d'IngÃ©nieurs de Bizerte\": 2, 'Lycee cite Esalem Boumhal': 2, 'LycÃ©e 20 mars 1956 Essaida': 2, 'LycÃ©e Ali Bourguiba': 2, 'LycÃ©e Ali Zouaoui, Kairouan': 2, 'LycÃ©e Argoub Mareth Gabes': 2, 'LycÃ©e Elguettar': 2, 'LycÃ©e Ezzahrouni': 2, 'LycÃ©e Hamouda Becha Manouba': 2, 'LycÃ©e Hannibal Ariana': 2, 'LycÃ©e Hawel El Wed Belkhir': 2, 'LycÃ©e Houmt-souk Djerba': 2, 'LycÃ©e Ibn Sina Mahdia': 2, 'LycÃ©e Mohamed Ali': 2, 'LycÃ©e Mostfa Filali Nasrallah': 2, 'LycÃ©e MÃ©denine': 2, 'LycÃ©e Pilote 15 octobre 1963 de Bizerte (LPB)': 2, 'LycÃ©e Pilote de Sousse': 2, \"LycÃ©e Pilote de l'Ariana (LPA)\": 2, 'LycÃ©e Rue de Marseille': 2, 'LycÃ©e Salem Ben Hamida': 2, 'LycÃ©e Soukra': 2, 'LycÃ©e SÃ©condaire Jemmel': 2, 'LycÃ©e nouvelle medina 3': 2, 'LycÃ©e pilote de Kairouan : LPK': 2, 'LycÃ©e pilote de Nabeul': 2, 'LycÃ©e secondaire Riadh 2 (Ksar Hellal)': 2, 'Royal Military Academy, Belgium': 2, 'UniversitÃ© du QuÃ©bec en Abitibi-TÃ©miscamingue': 2, 'intelligence Ã©motionnelle': 2, 'lycÃ©e 2 mars 1934 Beja': 2, 'lycÃ©e Abou Kacem Chebbi, Tozeur': 2, 'lycÃ©e khayr eddine Ariana': 2, 'lycÃ©e said boubaker': 2, \"3iL - Ecole d'ingÃ©nieur en informatique - Limoges\": 1, 'Actinuum': 1, \"CESI Ecole d'IngÃ©nieurs\": 1, 'CY Tech': 1, 'ENSEEIHT': 1, \"ENSIIE - Ã\\x89cole Nationale SupÃ©rieure d'Informatique pour l'Industrie et l'Entreprise\": 1, \"ENSIM Ecole d'ingÃ©nieurs Le Mans UniversitÃ©\": 1, 'ESB : Esprit School of Business': 1, \"Ecole Doctorale Sciences et Techniques de l'IngÃ©nieur de l'ENIT\": 1, \"Ecole National d'IngÃ©nieurs de Tunis\": 1, \"Ecole National d'IngÃ©nieurs de Tunis ENIT\": 1, 'Ecole National des IngÃ©nieurs de Tunis': 1, 'Ecole Nationale  dâ\\x80\\x99 IngÃ©nieurs de Tunis  ENIT': 1, \"Ecole Nationale d' IngÃ©nieurs de Tunis  (ENIT)\": 1, \"Ecole Nationale d'IngÃ©nieur de Tunis ENIT\": 1, 'Ecole Nationale des IngÃ©nieurs de Tunis - Tunisie': 1, \"Ecole Nationale des Sciences de l'Informatique\": 1, 'Ecole Nationale dâ\\x80\\x99IngÃ©nieurs de Tunis (ENIT)': 1, 'Ecole Sup PrivÃ©e dâ\\x80\\x99IngÃ©nierie et des Technologies (ESPRIT)_TUNISIE': 1, 'Ecole SupÃ©rieure de Communications de Tunis': 1, 'Ecole national des IngÃ©nieurs de Tunis': 1, \"Ecole national des sciences et d'ingÃ©nieurs de tunis\": 1, 'Ecole national superieur dâ\\x80\\x99ingenieurs de Tunis': 1, \"Ecole nationale d'ingÃ©nieurs de Tunis\": 1, 'Ecole nationale des ingÃ©nieurs de Tunis': 1, 'Hochschule Schmalkalden': 1, 'IPEI EL MANAR': 1, 'IPEIT Mont-fleury/ENIT GÃ©nie Insustriel': 1, \"ISEN - Page Ã©cole - Ã\\x89cole d'ingÃ©nieurs des Hautes Technologies et du NumÃ©rique\": 1, \"ISEP - Ã©cole d'ingÃ©nieurs du numÃ©rique\": 1, 'Institut SupÃ©rieur des Sciences AppliquÃ©es et de Technologie de Kairouan â\\x80\\x93 ISSATK': 1, 'Institut SupÃ©rieure de Sciences AppliquÃ©es et de Technologie de Gabes (ISSATG)': 1, \"Institut de Statistique de l'UniversitÃ© de Paris - ISUP\": 1, 'Institut des Hautes Etudes Commerciales de Carthage': 1, 'International Training School (ITS)': 1, 'LinSoft': 1, \"Nationale d'ingÃ©nieurs de GabÃ¨s\": 1, 'UniversitÃ© Claude Bernard Lyon 1': 1, 'UniversitÃ© arabe des Sciences': 1, 'UniversitÃ© de Technologie de Troyes': 1, 'enit': 1, 'universite de douala': 1, \"Ã\\x89cole Nationale des Sciences de l'Informatique\": 1, 'Ã\\x89cole Polytechnique': 1, \"Ã\\x89cole SupÃ©rieure de la Statistique et de l'Analyse de l'Information\": 1, \"Ã©cole nationale des sciences de l'informatique (ENSI)\": 1, \"3iL - Ecole d'ingÃ©nieurs en informatique - Limoges / Rodez\": 1, 'CIFOP-IMS : cabinet dâ\\x80\\x99ingÃ©nierie informatique, de consulting et de formation professionnelle': 1, \"Cycle prÃ©paratoire aux Ã©coles d'ingÃ©nieurs\": 1, \"ENSIT:Ecole Nationale SupÃ©rieure d'ingÃ©nieurs de Tunis\": 1, 'ESPRIT': 1, 'ESSECT': 1, 'ESSTT': 1, \"Ecole Nationale d'Ingenieurs de Carthage\": 1, \"Ecole Nationale d'IngÃ©nieurs de Carthage\": 1, \"Ecole Nationale d'ingÃ©nieurs Ã\\xa0 Gabes\": 1, 'Ecole Sup des Sciences Economiques et Commerciales de Tunis (ESSEC)': 1, 'Ecole SupÃ©rieur des Technologies Informatique': 1, \"Ecole SupÃ©rieure PrivÃ©e d'IngÃ©nierie et de Technologies prÃ©pa- ESPRIT\": 1, \"Ecole prÃ©paratoires au cycle d'ingÃ©nieurs Elmanar 'IPEI Elmannar\": 1, 'Ecole supÃ©rieure des Sciences Ã©conomiques et commerciales': 1, 'Ecole supÃ©rieure des sciences et techniques de tunis': 1, 'Esprit PrÃ©pa': 1, 'FacultÃ© de mÃ©decine Ibn El Jazzar de Sousse': 1, 'FacultÃ© des sciences de bizerte': 1, 'Higher Institute of Applied Studies in Humanities of Tunis': 1, 'Higher Institute of Information and Communication Technologies': 1, \"IPEIB - Institut PrÃ©paratoire aux Etudes d'IngÃ©nieurs de Bizerte\": 1, \"IPEIEM - Institut PrÃ©paratoire aux Ã\\x89tudes d'IngÃ©nieurs El Manar\": 1, \"IPEIK-Institut PrÃ©paratoire aux Ã\\x89tudes d'ingÃ©nieurs de Kairouane\": 1, \"IPEIM - Institut PrÃ©paratoire Aux Etudes d'IngÃ©nieurs de Monastir\": 1, 'ISAMM Institut SupÃ©rieur des Arts MultimÃ©dia de la Manouba': 1, \"Institue supÃ©rieur d'informatique et des mathÃ©matiques de Monastir\": 1, \"Institut PrÃ©paratoire Aux Etudes d'IngÃ©nieurs de Tunis (IPEIT)\": 1, \"Institut PrÃ©paratoire aux Etudes d'IngÃ©nieur de Sfax\": 1, 'Institut PrÃ©paratoire aux Etudes dâ\\x80\\x99IngÃ©nieur de Sfax IPEIS': 1, \"Institut PrÃ©paratoire aux Ã\\x89tudes d'IngÃ©nieur de Nabeul\": 1, 'Institut PrÃ©paratoire aux Ã\\x89tudes dâ\\x80\\x99IngÃ©nieurs de GabÃ©s': 1, \"Institut PrÃ©paratoire aux Ã©tudes d'ingÃ©nieur de Tunis\": 1, \"Institut PrÃ©paratoire aux Ã©tudes d'ingÃ©nieurs de Monastir\": 1, 'Institut SupÃ©rieur des Arts MultimÃ©dia de la Manouba(ISAMM)': 1, 'Institut SupÃ©rieur des Etudes PrÃ©paratoires en Biologie et GÃ©ologie de La Soukra': 1, 'Institut SupÃ©rieur des Sciences AppliquÃ©es et de Technologie De Sousse': 1, 'Institut SupÃ©rieur des Sciences AppliquÃ©es et de Technologie de Kairouan - ISSATK': 1, \"Institut SupÃ©rieur des Technologies de l'Information et de la Communication - ISTIC\": 1, \"Institut SupÃ©rieur des Technologies de l'Information et des Communications-ISTIC\": 1, 'Institut SupÃ©rieur des Technologies de lâ\\x80\\x99Information et de la Communication': 1, 'Institut des Etudes Technologique de Bizerte': 1, \"Institut prÃ©paratoire aux etudes d'ingÃ©nieur Ã\\xa0 Sfax , Tunisie\": 1, \"Institut prÃ©paratoire aux Ã©tudes d'ingÃ©nieurs de Kairouan\": 1, \"Institut prÃ©paratoire aux Ã©tudes d'ingÃ©nieurs de Monastir IPEIM\": 1, \"Institut prÃ©paratoire aux Ã©tudes d'ingÃ©nieurs de Nabeul\": 1, 'Institut prÃ©paratoire aux Ã©tudes dâ\\x80\\x99ingÃ©nieurs de Bizerte': 1, \"Institut prÃ©paratoire des Ã©tudes d'ingÃ©nieurs el Manar\": 1, \"Institut supÃ©rieur de l'informatique et mathÃ©mathiques de monastir\": 1, \"Institut supÃ©rieur de technologie de l'information et de la communication\": 1, 'Institut supÃ©rieur des sciences appliquÃ©es et de technologie de Gabes (ISSATG)': 1, 'Institut supÃ©rieur des Ã©tudes technologiques en communications de Tunis': 1, 'Institut supÃ©rieur dâ\\x80\\x99informatique ISI': 1, 'Istitut Preparatoire aux Etudes Scientifiques et Techniques': 1, \"L'Institut SupÃ©rieur des Technologies de l'Information et des Communications\": 1, 'Lycee pilote de Gabes': 1, 'LycÃ©e Essaada La Marsa': 1, 'LycÃ©e Ibn Abi Dhief': 1, 'LycÃ©e Les PÃ¨res Blancs': 1, 'LycÃ©e PrivÃ© AlMessaad': 1, 'Manara High-School': 1, 'National Engineering School of Tunis (ENIT), University of Tunis El Manar': 1, 'National Institute of Applied Science and Technology - INSAT': 1, 'Tenstep': 1, 'Tunisia Polytechnic School': 1, 'UniversitÃ© Virtuelle de Tunis': 1, 'UniversitÃ© de Yaounde I': 1, 'UniversiÃ© Paris-Saclay': 1, \"ecole SupÃ©rieure des Technologies de l'Information\": 1, \"ecole prÃ©paratoire aux Ã©tudes d'ingÃ©nieur El Manar\": 1, 'essec tunis': 1, 'facultÃ© des sciences de Gafsa': 1, 'facultÃ© des sciences de tunis': 1, \"institut prÃ¨paratoire aux Ã¨tudes d'ingÃ¨nieurs de bizerte(IPEIB)\": 1, \"institut prÃ©paratoire aux etudes d'ingÃ©nieurs de GabÃ¨s\": 1, 'institut universitaire du golf de guinne (IUG/ISTA)': 1, 'isitcom': 1, 'lycÃ©e pÃ¨re blanc': 1, 'Ã\\x89cole SupÃ©rieure Polytechnique de Nouackchott': 1, 'Ã\\x89cole SupÃ©rieure des Sciences Ã\\x89conomiques et commerciales de Tunis': 1, \"Ã©cole prÃ©paratoire aux Ã©tudes d'ingÃ©nieurs de monastir\": 1, 'Bardo High School': 1, 'CollÃ¨ge Pilote Gafsa': 1, 'CollÃ¨ge SADIKI': 1, \"ENIB - Ã\\x89cole Nationale d'IngÃ©nieurs de Bizerte\": 1, 'Ecole SupÃ©rieure des Sciences et Techniques de Tunis': 1, 'Ecole nationale supÃ©rieure des ingÃ©nieurs de Tunis - Ensit': 1, 'FST:FacultÃ© des sciences de Tunis': 1, 'Habib Thameur Sfax High School': 1, 'High school Mahmoud el Mesadi, Mejez el Beb, Beja': 1, \"Higher Institute of Technological Studies in Communications of Tunis (Iset'Com)\": 1, 'Higher Secondary School, kasserine': 1, \"ISITCOM | Institut SupÃ©rieur d'Informatique et des Techniques de Communication\": 1, 'ISTIC': 1, 'Institut PrÃ©paratoire aux Etudes dâ\\x80\\x99IngÃ©nieurs El Manar': 1, 'Institut SupÃ©rieur des Etudes Technologiques RadÃ¨s': 1, \"Institut SupÃ©rieur des Technologies de l'Information et des Communications\": 1, 'Institut Universitaire de la CÃ´te': 1, \"Institut prÃ©paratoire aux grandes Ã¨coles d'ingÃ©nieurs de Nouakchott\": 1, \"Institut prÃ©paratoire aux Ã©tudes d'ingenieur de Tunis\": 1, \"Institut prÃ©paratoire aux Ã©tudes d'ingÃ©nieurs d'El Manar\": 1, \"Institut prÃ©paratoire aux Ã©tudes d'ingÃ©nieurs d'El Manar - IPEIEM - MP\": 1, 'LycÃ©e 2 Mars deguach Tozeur': 1, 'LycÃ©e 2 mars 1934 ,Tabarka, Tunisie': 1, 'LycÃ©e 2 mars la Goulette': 1, 'LycÃ©e 20 Mars 1956 Sfax': 1, 'LycÃ©e Bachir Nabheni_TUNISIE': 1, 'LycÃ©e Boumhal': 1, 'LycÃ©e Carthage Hannibal': 1, 'LycÃ©e Dar El Amen': 1, 'LycÃ©e El Agba,Tunis': 1, 'LycÃ©e Ennasr': 1, 'LycÃ©e IBN Khaldoun Jemmel': 1, 'LycÃ©e Ibn mandhour': 1, 'LycÃ©e Majida Boulila Sfax': 1, 'LycÃ©e Mourouj 6': 1, 'LycÃ©e Pilote': 1, 'LycÃ©e Pilote Menzah 8': 1, 'LycÃ©e Pilote de Gafsa': 1, 'LycÃ©e Pilote de Nabeul': 1, 'LycÃ©e PÃ©re Blanc': 1, 'LycÃ©e carthage Byrsa': 1, 'LycÃ©e el Manara Gabes': 1, 'LycÃ©e kheiredin Ariana': 1, \"LycÃ©e l'Oasis Chenini GabÃ¨s\": 1, 'LycÃ©e les pÃ¨res blancs': 1, 'LycÃ©e pilote des arts el omrane': 1, 'LycÃ©e secondaire Ajim Djerba': 1, 'LycÃ©e secondaire Nebeur': 1, 'LycÃ©e secondaire de jeunes filles BÃ©ja': 1, 'LycÃ©e technique Menzel bourguiba': 1, 'Mohamed Bouthina High School': 1, 'Pionner High School of Monastir': 1, 'Sadiki High School': 1, 'citÃ© essalem Boumhell': 1, 'institut supÃ©rieur de gestion de Tunis': 1, 'institutt universitaire du golf de guinne (IUG/ESG)': 1, 'lycÃ©e 2 mars,wardiyya Tunis.': 1, 'lycÃ©e Abou Kacem Chebbi Sfax Tunisie': 1, 'lycÃ©e Brourmet Tataouine': 1, 'lycÃ©e Mahmoud Messadi Nabeul': 1, 'lycÃ©e bolbaba Gabes': 1, 'lycÃ©e ennasr': 1, 'lycÃ©e ghardimaou': 1, 'lycÃ©e hammam lif': 1, 'lycÃ©e med ali annebi ras jbal': 1, 'lycÃ©e omrane sup': 1, 'lycÃ©e pilote Gabes': 1, 'lycÃ©e pilote bourguiba tunis': 1, 'lycÃ©e pilote de monastir': 1, 'lycÃ©e reu Elmanzah Beni khalled': 1, 'lycÃ©e technique houmet souk Djerba': 1, 'Ã\\x89cole normale supÃ©rieure de Maroua, Cameroun': 1})\n"
          ]
        }
      ]
    },
    {
      "cell_type": "code",
      "source": [
        "dictc = {}\n",
        "plt.rcParams[\"figure.figsize\"] = [30, 9]\n",
        "plt.rcParams[\"figure.autolayout\"] = True\n",
        "\n",
        "for element , count in final_count.most_common(10):\n",
        "  dictc[element[0:36]] = count\n",
        "plt.bar(dictc.keys(), dictc.values())\n",
        "plt.show()"
      ],
      "metadata": {
        "colab": {
          "base_uri": "https://localhost:8080/",
          "height": 297
        },
        "id": "6M9nsE6P-F5t",
        "outputId": "09152814-f5ba-4b93-cc5d-7713ee938a78"
      },
      "execution_count": 91,
      "outputs": [
        {
          "output_type": "display_data",
          "data": {
            "text/plain": [
              "<Figure size 2160x648 with 1 Axes>"
            ],
            "image/png": "[encoded data removed]"
          },
          "metadata": {
            "needs_background": "light"
          }
        }
      ]
    },
    {
      "cell_type": "markdown",
      "source": [
        "**Current Company Position**\n",
        "\n",
        "\n"
      ],
      "metadata": {
        "id": "KfpD1RK8-dhi"
      }
    },
    {
      "cell_type": "code",
      "source": [
        "final_count = Counter(df.groupby((df['current_company_position'].str.lower())).size().to_dict())\n",
        "final_count['élève ingénieur'] = final_count['élève ingénieur']+ final_count['elève ingénieur']\n",
        "del final_count['elève ingénieur']\n",
        "print(final_count)"
      ],
      "metadata": {
        "colab": {
          "base_uri": "https://localhost:8080/"
        },
        "id": "kKkPy48j-H22",
        "outputId": "65326832-219d-43d4-e413-a65e24571471"
      },
      "execution_count": 92,
      "outputs": [
        {
          "output_type": "stream",
          "name": "stdout",
          "text": [
            "Counter({'ingã©nieur': 49, 'data scientist': 40, 'ã\\x89lã¨ve ingã©nieur': 20, 'elã¨ve ingã©nieur': 11, 'devops engineer': 9, 'ingã©nieur en gã©nie civil': 9, 'ingã©nieur dã©veloppement': 8, 'ingã©nieur gã©nie civil': 7, 'ingã©nieur informatique': 7, 'ingã©nieur civil': 6, 'ingã©nieur structure gã©nie civil': 6, 'software engineer': 5, 'ã©lã¨ve ingã©nieur': 5, 'data engineer': 4, 'enseignant': 4, 'ingã©nieur dã©veloppement embarquã©': 4, 'stagiaire': 4, 'chef de projet': 3, 'dã©veloppeur full stack': 3, 'full stack engineer': 3, 'ingã©nieur devops': 3, 'stage ingã©nieur': 3, '.net software engineer': 2, 'assistant chef de projet gc': 2, 'chargã© de projets': 2, 'chef de production adjoint en infrastructures linã©aires et amã©nagement urbain': 2, 'chef dâ\\x80\\x99ã©quipe production': 2, 'chef service equipements biomedicaux': 2, 'consultant data scientist': 2, 'consultant technique sap': 2, 'consultante en data science': 2, 'consultante expã©rimentã©e radio': 2, 'data science engineer': 2, 'data science intern': 2, 'data scientist engineer': 2, 'data scientist intern': 2, 'docteur ingã©nieur': 2, 'dã©veloppeur java/jee': 2, 'embedded  software engineer': 2, 'end of studies internship': 2, 'enseignant contractuel': 2, 'enseignante universitaire': 2, 'etudiant ingã©nieur': 2, 'etudiante': 2, \"etudiante en master m2, next production revolution (neprev) ã\\xa0 l'enit | elã¨ve ingã©nieur\": 2, 'ingã©nieur & expert auditeur en ã\\x89nergie': 2, 'ingã©nieur application mã©canique': 2, 'ingã©nieur calcul cfd': 2, 'ingã©nieur chef de projet': 2, 'ingã©nieur dã©veloppement - projet happy': 2, 'ingã©nieur dã©veloppement logiciels': 2, 'ingã©nieur en dã©veloppement logiciel - python': 2, 'ingã©nieur en gã©nie civil responsable planification et production': 2, \"ingã©nieur en gã©nie logiciel de l'insat. ã\\x89tudiant\": 2, 'ingã©nieur en gã©nie ã©lectrique spã©cialisã©': 2, 'ingã©nieur en recherche et dã©veloppement logiciels': 2, 'ingã©nieur full stack': 2, 'ingã©nieur inspecteur': 2, 'ingã©nieur intã©gration logiciels': 2, 'ingã©nieur java ee': 2, 'ingã©nieur junior': 2, 'ingã©nieur logiciels embarquã©s': 2, 'ingã©nieur mã©canique': 2, 'ingã©nieur mã©thodes et outillages': 2, 'ingã©nieur mã©thodes et programmation cfao': 2, 'ingã©nieur principal en gã©nie civil': 2, 'ingã©nieur qa': 2, 'ingã©nieur recherche/dã©veloppement': 2, 'ingã©nieur structures': 2, 'ingã©nieur support packet switching  (ps core)': 2, 'ingã©nieur systã¨me embarquã©': 2, 'ingã©nieur systã¨me et rã©seaux | lpic-1 | ceh (ec-council)': 2, 'junior data scientist': 2, 'junior software engineer': 2, 'manouba technopark manager': 2, \"maã®tre assistant de l'enseignement supã©rieur\": 2, 'maã®tre assistante en informatique': 2, 'mechanical engineer': 2, 'membre actif': 2, 'phd student': 2, \"projet de fin d'ã©tudes\": 2, 'projet de fin dâ\\x80\\x99ã©tudes': 2, 'responsable opã©rationnel': 2, 'responsable production': 2, 'rpa developer': 2, 'rã©fã©rent technique tr69': 2, 'softwar engineer intern': 2, 'stage en ingã©nierie': 2, 'stagiaire data scientist': 2, 'undergraduate student member': 2, 'vice prã©sident': 2, 'ã\\x89tudiante ingã©nieur': 2, 'ã©tudiant ingã©nieur': 2, 'administrateur jira, ã©quipe  â« renault â»  de la direction â« engineering service â»': 1, 'ai engineer': 1, 'ai trainee researcher': 1, 'alumni': 1, 'arbitre mã©diateur international dans le domaine de gã©nie civil': 1, 'backend engineer': 1, 'business analyst': 1, 'business intelligence consultant and data scientist': 1, 'business-analyst': 1, 'chef de projet infrastructures routiã¨res': 1, 'chef de projets': 1, 'chef des projets voiries et rã©seaux divers': 1, 'civil project manager': 1, 'cloudops engineer': 1, 'cobol developer': 1, 'consultant': 1, 'consultant & ingã©nieur r&d analytics': 1, 'cyber security engineer': 1, 'data analyst | data scientist | devops': 1, 'data engineer intern': 1, 'data instructor': 1, 'data scientist - data analyst': 1, 'data scientist - data engineer': 1, 'data scientist - nlp': 1, 'data scientist - pã´le donnã©es & innovation, dgex solutions': 1, 'data scientist / data enginner': 1, 'data scientist et dã©veloppeur bi': 1, 'data scientist | mean stack developer engineer': 1, 'data scientist/data engineer': 1, 'devops & cloud engineer': 1, 'directeur des travaux': 1, 'directeur technique': 1, 'docteur ingã©nieur en ã©lectrochimie de batterie': 1, 'embedded software engineer': 1, 'embedded software engineering intern': 1, 'enseignant chercheur en gã©nie industriel': 1, 'enseignant formateur': 1, 'enseignante vacataire :  spring  et  architecture orientã© service (soa) en java': 1, 'etudiant en mastã¨re spã©cialisã© erp management et ingã©nieur': 1, 'freelance': 1, 'freelance software development expert / trainer - international': 1, 'future ingã©nieur': 1, 'graduation project internship': 1, 'ingenieur developpement api&ws': 1, 'ingã©nieur  gã©nie civil': 1, 'ingã©nieur amã©lioration continue': 1, 'ingã©nieur automaticien': 1, 'ingã©nieur calcul': 1, 'ingã©nieur calcul et simulation mã©canique automobile pour groupe stellantis': 1, \"ingã©nieur chef d'exã©cution projets\": 1, 'ingã©nieur chef projet': 1, 'ingã©nieur conception cao': 1, 'ingã©nieur conception mã©canique': 1, 'ingã©nieur contrã´le qualitã©': 1, \"ingã©nieur d'ã©tudes\": 1, 'ingã©nieur de dã©veloppement .net': 1, 'ingã©nieur de qualification hardware': 1, 'ingã©nieur dâ\\x80\\x99ã©tude et dã©veloppement': 1, 'ingã©nieur dâ\\x80\\x99ã©tudes': 1, 'ingã©nieur dâ\\x80\\x99ã©tudes de structures': 1, 'ingã©nieur dâ\\x80\\x99ã©tudes gã©nie civil': 1, 'ingã©nieur dã©veloppement c/c++': 1, 'ingã©nieur dã©veloppement junior': 1, 'ingã©nieur dã©veloppement mã©canique': 1, 'ingã©nieur dã©veloppeur .net': 1, 'ingã©nieur en dã©veloppement java/jee': 1, 'ingã©nieur et doctorant': 1, 'ingã©nieur fluide': 1, 'ingã©nieur full stack .net/angular': 1, 'ingã©nieur gã©otechnicien': 1, 'ingã©nieur gã©otechnique': 1, 'ingã©nieur hydraulique et environnement': 1, 'ingã©nieur industrialisation': 1, 'ingã©nieur java/jee': 1, \"ingã©nieur maitrise d'ouvrage\": 1, 'ingã©nieur optimisation 2g/3g': 1, 'ingã©nieur r&d': 1, 'ingã©nieur radio': 1, 'ingã©nieur rã©ferent technique en wi-fi': 1, 'ingã©nieur rã©seau': 1, 'ingã©nieur statisticien': 1, 'ingã©nieur systã¨me sã©nior': 1, 'ingã©nieur test et validation (qa)': 1, 'ingã©nieur ã©lectricitã©, recherche/dã©veloppement,maintenance': 1, 'ingã©nieur ã©lã¨ve': 1, 'ingã©nieur ã©tude et dã©veloppement': 1, 'ingã©nieure dâ\\x80\\x99ã©tudes': 1, 'internship devops engineer': 1, 'ios engineer': 1, 'looking for a new opportunities in advanced mechanical engineering': 1, 'machine learning engineer': 1, 'mechanical engineering student': 1, 'membre': 1, 'ml/dataops & ai-engineer': 1, 'mobile engineer ios': 1, 'operational excellence officer': 1, \"projet de fin d'annã©e\": 1, 'r&d software engineer': 1, 'responsable achat et logistique': 1, 'responsable qualitã©': 1, 'scientist': 1, 'software development engineer': 1, \"stage de fin d'ã©tudes de master 2\": 1, 't24 technical consultant': 1, 'ã\\x89tudiant ingã©nieur': 1, 'ã\\x89tudiante': 1, 'ã\\x89tudiante - ingã©nieur': 1, 'ù\\x85ù\\x83ù\\x84ù\\x81ø© ø¨ø§ù\\x84ù\\x85ù\\x86øªø¯ù\\x89 ø§ù\\x84ø§ù\\x82øªøµø§ø¯ù\\x8a ù\\x88ø¨ø¹ø« ø§ù\\x84ù\\x85ø´ø§ø±ù\\x8aø¹': 1, 'élève ingénieur': 0})\n"
          ]
        }
      ]
    },
    {
      "cell_type": "code",
      "source": [
        "dictc = {}\n",
        "plt.rcParams[\"figure.figsize\"] = [30, 9]\n",
        "plt.rcParams[\"figure.autolayout\"] = True\n",
        "\n",
        "for element , count in final_count.most_common(10):\n",
        "  dictc[element[0:35]] = count\n",
        "plt.bar(dictc.keys(), dictc.values())\n",
        "plt.show()"
      ],
      "metadata": {
        "colab": {
          "base_uri": "https://localhost:8080/",
          "height": 387
        },
        "id": "EbbM41N_-kMI",
        "outputId": "9e725a92-e6a8-4aa8-fccc-64f14ebcce68"
      },
      "execution_count": 93,
      "outputs": [
        {
          "output_type": "stream",
          "name": "stderr",
          "text": [
            "/usr/local/lib/python3.7/dist-packages/matplotlib/backends/backend_agg.py:214: RuntimeWarning: Glyph 137 missing from current font.\n",
            "  font.set_text(s, 0.0, flags=flags)\n",
            "/usr/local/lib/python3.7/dist-packages/matplotlib/backends/backend_agg.py:183: RuntimeWarning: Glyph 137 missing from current font.\n",
            "  font.set_text(s, 0, flags=flags)\n"
          ]
        },
        {
          "output_type": "display_data",
          "data": {
            "text/plain": [
              "<Figure size 2160x648 with 1 Axes>"
            ],
            "image/png": "[encoded data removed]"
          },
          "metadata": {
            "needs_background": "light"
          }
        }
      ]
    },
    {
      "cell_type": "markdown",
      "source": [
        "**Location**"
      ],
      "metadata": {
        "id": "gpzaEwD6_Og8"
      }
    },
    {
      "cell_type": "code",
      "source": [
        "orgs = ['location_name']\n",
        "\n",
        "final_count = Counter()\n",
        "for org in orgs:\n",
        "  final_count = final_count + Counter(df.groupby([org]).size().to_dict())\n",
        "print(final_count)\n",
        "location = {'Tunis': 0 , 'France':0}\n",
        "for key,val in  final_count.items():\n",
        "  for key_loc,val_loc in location.items():\n",
        "    if key_loc in key:\n",
        "      location[key_loc] = val_loc + val\n",
        "print(location)"
      ],
      "metadata": {
        "colab": {
          "base_uri": "https://localhost:8080/"
        },
        "id": "vYgFoL5Q-7X9",
        "outputId": "6cf49cdf-f4fa-4334-ba9b-2d02a9597409"
      },
      "execution_count": 94,
      "outputs": [
        {
          "output_type": "stream",
          "name": "stdout",
          "text": [
            "Counter({'Tunis, Tunisie': 205, 'Tunis, Tunis, Tunisie': 33, 'Ben Arous, Tunisie': 32, 'Tunisie': 22, 'Menzah, Tunis, Tunisie': 20, 'Bizerte, Tunisie': 15, 'Le Bardo, Tunisie': 12, 'Paris, Ã\\x8ele-de-France, France': 12, 'Ben Arous, Ben Arous, Tunisie': 11, 'Soukra, Ariana, Tunisie': 11, 'Ariana, Tunisie': 8, 'Grand Tunis et pÃ©riphÃ©rie': 8, 'Manouba, Tunisie': 8, 'Monastir, Tunisie': 8, 'Nabeul, Tunisie': 8, 'Hammamet, Nabeul, Tunisie': 7, 'Megrine, Ben Arous, Tunisie': 7, 'Ariana, Tunis, Tunisie': 6, 'France': 6, 'Raoued, Ariana, Tunisie': 6, 'Sousse, Tunisie': 6, 'El Ouardia, Tunis, Tunisie': 5, 'Paris et pÃ©riphÃ©rie': 5, 'BÃ©ja, Tunisie': 4, 'El Omrane SupÃ©rieur, Tunis, Tunisie': 4, 'Sfax, Tunisie': 4, 'Bou Mhel El Bassatine, Ben Arous, Tunisie': 3, 'Carthage, Tunisie': 3, 'El Mourouj, Ben Arous, Tunisie': 3, 'Gafsa, Tunisie': 3, 'Kalaa Kebira, Sousse, Tunisie': 3, 'La Nouvelle Medina, Ben Arous, Tunisie': 3, 'Medenine, Tunisie': 3, 'Ariana MÃ©dina, Ariana, Tunisie': 2, 'Bab El Bhar, Tunis, Tunisie': 2, 'Beni Kalled, Nabeul, Tunisie': 2, 'CitÃ© El Khadhra, Tunis, Tunisie': 2, 'El Fahs, Zaghouan, Tunisie': 2, 'Kairouan, Wilayat de Kairouan, Tunisie': 2, 'KalaÃ¢t El Andalous, Ariana, Tunisie': 2, 'Mornaguia, Manouba, Tunisie': 2, 'Oued Elli, Manouba, Tunisie': 2, 'Ras El Djebel, Bizerte, Tunisie': 2, 'Sidi Bouzid, Tunisie': 2, 'Siliana, Tunisie': 2, 'Tunis Ville, Tunis, Tunisie': 2, 'Arcueil, Ã\\x8ele-de-France, France': 1, 'Bobigny, Ã\\x8ele-de-France, France': 1, 'Courbevoie, Ã\\x8ele-de-France, France': 1, 'Djerba Houmet Souk, Medenine, Tunisie': 1, 'El Haouaria, Nabeul, Tunisie': 1, 'El Omrane, Tunis, Tunisie': 1, 'Ettahrir, Tunis, Tunisie': 1, 'Ez-Zahra, Ben Arous, Tunisie': 1, 'Gafsa, Tunis, Tunisie': 1, 'Grombalia, Nabeul, Tunisie': 1, 'La Goulette, Tunis, Tunisie': 1, 'Le Bardo, Tunis, Tunisie': 1, 'Lyon, Auvergne-RhÃ´ne-Alpes, France': 1, 'Mahdia, Mahdia, Tunisie': 1, 'Mahdia, Tunisie': 1, 'Mhamedia-Fouchana, Ben Arous, Tunisie': 1, 'Sakiet Ezzit, Sfax, Tunisie': 1, 'Sfax Medina, Sfax, Tunisie': 1, 'Sidi Hassine, Tunis, Tunisie': 1, 'Sousse Riadh, Sousse, Tunisie': 1, 'Sousse, Sousse, Tunisie': 1, 'Strasbourg, Grand Est, France': 1, 'SÃ©nÃ©gal': 1, 'Tinja, Bizerte, Tunisie': 1, 'Tozeur, Tunisie': 1, 'Ville de Paris, Ã\\x8ele-de-France, France': 1, 'Villemomble, Ã\\x8ele-de-France, France': 1, 'Wilayat de Kairouan, Tunisie': 1, 'Zaghouan, Tunisie': 1})\n",
            "{'Tunis': 518, 'France': 25}\n"
          ]
        }
      ]
    },
    {
      "cell_type": "code",
      "source": [
        "explode=[0,0.1]\n",
        "fig1, ax1 = plt.subplots(figsize=(8,8))\n",
        "ax1.pie(location.values(), explode=explode,labels=location.keys(), autopct='%1.1f%%',\n",
        "        shadow=True, startangle=150)\n",
        "ax1.axis('equal')  \n",
        "plt.show()"
      ],
      "metadata": {
        "colab": {
          "base_uri": "https://localhost:8080/",
          "height": 585
        },
        "id": "1u94Mpqp_MeL",
        "outputId": "a8037691-e6f9-4a0a-8eea-9092858dac5f"
      },
      "execution_count": 95,
      "outputs": [
        {
          "output_type": "display_data",
          "data": {
            "text/plain": [
              "<Figure size 576x576 with 1 Axes>"
            ],
            "image/png": "[encoded data removed]"
          },
          "metadata": {}
        }
      ]
    },
    {
      "cell_type": "markdown",
      "source": [
        "Skills"
      ],
      "metadata": {
        "id": "854QvLuZAw5x"
      }
    },
    {
      "cell_type": "code",
      "source": [
        "df['skills']"
      ],
      "metadata": {
        "colab": {
          "base_uri": "https://localhost:8080/"
        },
        "id": "0ndY5cdFBDBo",
        "outputId": "b5e20553-6eda-43f4-e944-a16fea2d5851"
      },
      "execution_count": 96,
      "outputs": [
        {
          "output_type": "execute_result",
          "data": {
            "text/plain": [
              "0      Artificial Intelligence (AI) : 2,Web Solutions...\n",
              "1      Python (langage de programmation) : 2,Deep lea...\n",
              "2      R : null,MySQL : null,Java : null,NoSQL : null...\n",
              "3      JavaScript : 1,HTML : 1,Python : 1,MySQL : 1,J...\n",
              "4                                                    NaN\n",
              "                             ...                        \n",
              "603    MATLAB : null,Python (langage de programmation...\n",
              "604    AutoCAD : null,Revit : null,Robot structural a...\n",
              "605    Microsoft Office : null,AutoCAD : null,epanet ...\n",
              "606    IngÃ©nierie : null,Gestion de projet : null,Co...\n",
              "607    Microsoft Office : null,Microsoft Word : null,...\n",
              "Name: skills, Length: 608, dtype: object"
            ]
          },
          "metadata": {},
          "execution_count": 96
        }
      ]
    },
    {
      "cell_type": "code",
      "source": [
        "df.skills = df.skills.str.replace('[1-9]','', regex = True)\n",
        "df.skills = df.skills.str.replace('null','', regex = True)\n",
        "df.skills = df.skills.str.replace(',','', regex = True)\n",
        "df['skills']"
      ],
      "metadata": {
        "colab": {
          "base_uri": "https://localhost:8080/"
        },
        "id": "B5EDKeGyA7l3",
        "outputId": "adb01d26-af4e-47f0-96dd-3b39d9da0cae"
      },
      "execution_count": 97,
      "outputs": [
        {
          "output_type": "execute_result",
          "data": {
            "text/plain": [
              "0      Artificial Intelligence (AI) : Web Solutions :...\n",
              "1      Python (langage de programmation) : Deep learn...\n",
              "2      R : MySQL : Java : NoSQL : Hadoop : PHP : Symf...\n",
              "3      JavaScript : HTML : Python : MySQL : Java : No...\n",
              "4                                                    NaN\n",
              "                             ...                        \n",
              "603        MATLAB : Python (langage de programmation) : \n",
              "604    AutoCAD : Revit : Robot structural analysis Pr...\n",
              "605    Microsoft Office : AutoCAD : epanet : swmm : S...\n",
              "606    IngÃ©nierie : Gestion de projet : Communicatio...\n",
              "607    Microsoft Office : Microsoft Word : Microsoft ...\n",
              "Name: skills, Length: 608, dtype: object"
            ]
          },
          "metadata": {},
          "execution_count": 97
        }
      ]
    },
    {
      "cell_type": "markdown",
      "source": [
        "**Duplicated Rows**"
      ],
      "metadata": {
        "id": "P03_6P9vEFF_"
      }
    },
    {
      "cell_type": "code",
      "source": [
        "all_duplicates = df[df.duplicated()]\n",
        "all_duplicates.value_counts()"
      ],
      "metadata": {
        "id": "e9_0nWsX_WWt",
        "colab": {
          "base_uri": "https://localhost:8080/"
        },
        "outputId": "49cb4ab0-ed86-45df-fdc4-d1fbffd897e9"
      },
      "execution_count": 98,
      "outputs": [
        {
          "output_type": "execute_result",
          "data": {
            "text/plain": [
              "Series([], dtype: int64)"
            ]
          },
          "metadata": {},
          "execution_count": 98
        }
      ]
    },
    {
      "cell_type": "markdown",
      "source": [
        "**Categorical Missing Values**"
      ],
      "metadata": {
        "id": "ZFgZhGWl1B7T"
      }
    },
    {
      "cell_type": "markdown",
      "source": [
        "**Organization**"
      ],
      "metadata": {
        "id": "ZqGv1UmNHfVb"
      }
    },
    {
      "cell_type": "markdown",
      "source": [
        "**Organization_start Organization_end**"
      ],
      "metadata": {
        "id": "wi4YWB131qXX"
      }
    },
    {
      "cell_type": "code",
      "source": [
        "df[['organization_start_1','organization_start_2','organization_start_4','organization_start_5','organization_start_6']].isnull().sum()\n"
      ],
      "metadata": {
        "colab": {
          "base_uri": "https://localhost:8080/"
        },
        "id": "xFJwA2ImQ93-",
        "outputId": "49d58ba5-2beb-4ede-894e-cfe8f8fa533b"
      },
      "execution_count": 99,
      "outputs": [
        {
          "output_type": "execute_result",
          "data": {
            "text/plain": [
              "organization_start_1     76\n",
              "organization_start_2    109\n",
              "organization_start_4    290\n",
              "organization_start_5    393\n",
              "organization_start_6    484\n",
              "dtype: int64"
            ]
          },
          "metadata": {},
          "execution_count": 99
        }
      ]
    },
    {
      "cell_type": "code",
      "source": [
        "df[['organization_end_1','organization_end_2','organization_end_4','organization_end_5','organization_end_6']].isnull().sum()\n"
      ],
      "metadata": {
        "colab": {
          "base_uri": "https://localhost:8080/"
        },
        "id": "bzEl2hpXUbaM",
        "outputId": "68f8c925-e6e0-4dc6-f256-21b142e6e29c"
      },
      "execution_count": 100,
      "outputs": [
        {
          "output_type": "execute_result",
          "data": {
            "text/plain": [
              "organization_end_1    394\n",
              "organization_end_2    138\n",
              "organization_end_4    292\n",
              "organization_end_5    393\n",
              "organization_end_6    484\n",
              "dtype: int64"
            ]
          },
          "metadata": {},
          "execution_count": 100
        }
      ]
    },
    {
      "cell_type": "code",
      "source": [
        "df[['organization_start_1','organization_start_2']] = df[['organization_start_1','organization_start_2']].fillna(df[['organization_start_1','organization_start_2']].max()) \n",
        "df[['organization_start_3','organization_start_4']] = df[['organization_start_3','organization_start_4']].fillna(df[['organization_start_3','organization_start_4']].max()) \n",
        "df[['organization_start_5','organization_start_6']] = df[['organization_start_5','organization_start_6']].fillna(df[['organization_start_5','organization_start_6']].max()) \n",
        "\n",
        "df[['organization_end_1','organization_end_2']] = df[['organization_end_1','organization_end_2']].fillna(value=df[['organization_end_1','organization_end_2']].max())\n",
        "df[['organization_end_3','organization_end_4']] = df[['organization_end_3','organization_end_4']].fillna(value=df[['organization_end_3','organization_end_4']].max())\n",
        "df[['organization_end_5','organization_end_6']] = df[['organization_end_5','organization_end_6']].fillna(value=df[['organization_end_5','organization_end_6']].max())\n",
        "\n"
      ],
      "metadata": {
        "id": "vd3A1JTsHfuQ"
      },
      "execution_count": 101,
      "outputs": []
    },
    {
      "cell_type": "code",
      "source": [
        "df[['organization_end_1','organization_end_2','organization_end_4','organization_end_5','organization_end_6']].isnull().sum()\n"
      ],
      "metadata": {
        "colab": {
          "base_uri": "https://localhost:8080/"
        },
        "id": "-_Fo7a3z5s2K",
        "outputId": "c4c5694b-42f1-45a0-80a9-79926ee4ce55"
      },
      "execution_count": 102,
      "outputs": [
        {
          "output_type": "execute_result",
          "data": {
            "text/plain": [
              "organization_end_1    0\n",
              "organization_end_2    0\n",
              "organization_end_4    0\n",
              "organization_end_5    0\n",
              "organization_end_6    0\n",
              "dtype: int64"
            ]
          },
          "metadata": {},
          "execution_count": 102
        }
      ]
    },
    {
      "cell_type": "code",
      "source": [
        "df[['organization_start_1','organization_start_2','organization_start_4','organization_start_5','organization_start_6']].isnull().sum()\n"
      ],
      "metadata": {
        "colab": {
          "base_uri": "https://localhost:8080/"
        },
        "id": "5Iw8ccG15wW7",
        "outputId": "81b985e8-b088-4004-b0cb-b3f1852311fc"
      },
      "execution_count": 103,
      "outputs": [
        {
          "output_type": "execute_result",
          "data": {
            "text/plain": [
              "organization_start_1    0\n",
              "organization_start_2    0\n",
              "organization_start_4    0\n",
              "organization_start_5    0\n",
              "organization_start_6    0\n",
              "dtype: int64"
            ]
          },
          "metadata": {},
          "execution_count": 103
        }
      ]
    },
    {
      "cell_type": "markdown",
      "source": [
        "Organization"
      ],
      "metadata": {
        "id": "LvoDR4xv3UZQ"
      }
    },
    {
      "cell_type": "code",
      "source": [
        "df[['organization_1','organization_2','organization_3','organization_4','organization_5','organization_6']].isnull().sum()\n"
      ],
      "metadata": {
        "colab": {
          "base_uri": "https://localhost:8080/"
        },
        "id": "jOjnVZJu6BLd",
        "outputId": "b0566b04-95b6-4836-cf4f-68c8621e43e1"
      },
      "execution_count": 104,
      "outputs": [
        {
          "output_type": "execute_result",
          "data": {
            "text/plain": [
              "organization_1     76\n",
              "organization_2    109\n",
              "organization_3    191\n",
              "organization_4    290\n",
              "organization_5    393\n",
              "organization_6    484\n",
              "dtype: int64"
            ]
          },
          "metadata": {},
          "execution_count": 104
        }
      ]
    },
    {
      "cell_type": "code",
      "source": [
        "imputer=CategoricalImputer()\n",
        "df['organization_1']=np.array(df['organization_1'],dtype=object)\n",
        "df['organization_1']=imputer.fit_transform(df['organization_1'])\n",
        "df['organization_2']=np.array(df['organization_2'],dtype=object)\n",
        "df['organization_2']=imputer.fit_transform(df['organization_2'])\n",
        "df['organization_3']=df['organization_3'].fillna(\"Unknown\")\n",
        "df['organization_4']=imputer.fit_transform(df['organization_4'])\n",
        "df['organization_4']=np.array(df['organization_4'],dtype=object)\n",
        "df['organization_5']=imputer.fit_transform(df['organization_5'])\n",
        "df['organization_5']=np.array(df['organization_5'],dtype=object)\n",
        "df['organization_6']=imputer.fit_transform(df['organization_6'])\n",
        "df['organization_6']=np.array(df['organization_6'],dtype=object)\n",
        "\n"
      ],
      "metadata": {
        "id": "2LifsSeNTime"
      },
      "execution_count": 105,
      "outputs": []
    },
    {
      "cell_type": "code",
      "source": [
        "df[['organization_1','organization_2','organization_3','organization_4','organization_5','organization_6']].isnull().sum()\n"
      ],
      "metadata": {
        "colab": {
          "base_uri": "https://localhost:8080/"
        },
        "id": "5-7vii2B-J5l",
        "outputId": "d13ca033-76a2-41a0-d989-7acf4835832a"
      },
      "execution_count": 106,
      "outputs": [
        {
          "output_type": "execute_result",
          "data": {
            "text/plain": [
              "organization_1    0\n",
              "organization_2    0\n",
              "organization_3    0\n",
              "organization_4    0\n",
              "organization_5    0\n",
              "organization_6    0\n",
              "dtype: int64"
            ]
          },
          "metadata": {},
          "execution_count": 106
        }
      ]
    },
    {
      "cell_type": "markdown",
      "source": [
        "**Organization title**"
      ],
      "metadata": {
        "id": "H7yNM0tEDx2t"
      }
    },
    {
      "cell_type": "code",
      "source": [
        "imputer=CategoricalImputer()\n",
        "df['organization_title_1']=np.array(df['organization_title_1'],dtype=object)\n",
        "df['organization_title_1']=imputer.fit_transform(df['organization_title_1'])\n",
        "\n",
        "df['organization_title_2']=np.array(df['organization_title_2'],dtype=object)\n",
        "df['organization_title_2']=imputer.fit_transform(df['organization_title_2'])\n",
        "\n",
        "df['organization_title_3']=np.array(df['organization_title_3'],dtype=object)\n",
        "df['organization_title_3']=imputer.fit_transform(df['organization_title_3'])\n",
        "\n",
        "df['organization_title_4']=np.array(df['organization_title_4'],dtype=object)\n",
        "df['organization_title_4']=imputer.fit_transform(df['organization_title_4'])\n",
        "\n",
        "df['organization_title_5']=np.array(df['organization_title_5'],dtype=object)\n",
        "df['organization_title_5']=imputer.fit_transform(df['organization_title_5'])\n",
        "\n",
        "df['organization_title_6']=np.array(df['organization_title_6'],dtype=object)\n",
        "df['organization_title_6']=imputer.fit_transform(df['organization_title_6'])\n"
      ],
      "metadata": {
        "id": "Dyt7SxUvCstG"
      },
      "execution_count": 107,
      "outputs": []
    },
    {
      "cell_type": "markdown",
      "source": [
        "**organization_description**"
      ],
      "metadata": {
        "id": "yYKmkDRwEmw9"
      }
    },
    {
      "cell_type": "code",
      "source": [
        "\n",
        "\n",
        "df['organization_description_1']=df['organization_description_1'].fillna(\"Unknown\")\n",
        "\n",
        "df['organization_description_2']=np.array(df['organization_description_2'],dtype=object)\n",
        "df['organization_description_2']=imputer.fit_transform(df['organization_description_2'])\n",
        "\n",
        "df['organization_description_3']=df['organization_description_3'].fillna(\"Unknown\")\n",
        "\n",
        "df['organization_description_4']=df['organization_description_4'].fillna(\"Unknown\")\n",
        "\n",
        "df['organization_description_5']=df['organization_description_5'].fillna(\"Unknown\")\n",
        "\n"
      ],
      "metadata": {
        "id": "G7g-N0sqElkR"
      },
      "execution_count": 108,
      "outputs": []
    },
    {
      "cell_type": "code",
      "source": [
        "df[['organization_description_1','organization_description_2','organization_description_3','organization_description_4','organization_description_5']].isnull().sum()\n"
      ],
      "metadata": {
        "colab": {
          "base_uri": "https://localhost:8080/"
        },
        "id": "bG1RC6EM7Gev",
        "outputId": "81dff79b-7276-42af-fac8-12113124c4a7"
      },
      "execution_count": 109,
      "outputs": [
        {
          "output_type": "execute_result",
          "data": {
            "text/plain": [
              "organization_description_1    0\n",
              "organization_description_2    0\n",
              "organization_description_3    0\n",
              "organization_description_4    0\n",
              "organization_description_5    0\n",
              "dtype: int64"
            ]
          },
          "metadata": {},
          "execution_count": 109
        }
      ]
    },
    {
      "cell_type": "markdown",
      "source": [
        "**organization_url**"
      ],
      "metadata": {
        "id": "xdenvFTo3Y1O"
      }
    },
    {
      "cell_type": "code",
      "source": [
        "imputer=CategoricalImputer()\n",
        "df['organization_url_1']=np.array(df['organization_url_1'],dtype=object)\n",
        "df['organization_url_1']=imputer.fit_transform(df['organization_url_1'])\n",
        "\n",
        "df['organization_url_2']=np.array(df['organization_url_2'],dtype=object)\n",
        "df['organization_url_2']=imputer.fit_transform(df['organization_url_2'])\n",
        "\n",
        "df['organization_url_3']=np.array(df['organization_url_3'],dtype=object)\n",
        "df['organization_url_3']=imputer.fit_transform(df['organization_url_3'])\n",
        "\n",
        "df['organization_url_4']=np.array(df['organization_url_4'],dtype=object)\n",
        "df['organization_url_4']=imputer.fit_transform(df['organization_url_4'])\n",
        "\n",
        "df['organization_url_5']=np.array(df['organization_url_5'],dtype=object)\n",
        "df['organization_url_5']=imputer.fit_transform(df['organization_url_5'])\n"
      ],
      "metadata": {
        "id": "YAQ0IKr43fdr"
      },
      "execution_count": 110,
      "outputs": []
    },
    {
      "cell_type": "markdown",
      "source": [
        "**organization_location**"
      ],
      "metadata": {
        "id": "VkQr9mLE4oDu"
      }
    },
    {
      "cell_type": "code",
      "source": [
        "imputer=CategoricalImputer()\n",
        "df['organization_location_1']=np.array(df['organization_location_1'],dtype=object)\n",
        "df['organization_location_1']=imputer.fit_transform(df['organization_location_1'])\n",
        "\n",
        "df['organization_location_2']=np.array(df['organization_location_2'],dtype=object)\n",
        "df['organization_location_2']=imputer.fit_transform(df['organization_location_2'])\n",
        "\n",
        "df['organization_location_3']=np.array(df['organization_location_3'],dtype=object)\n",
        "df['organization_location_3']=imputer.fit_transform(df['organization_location_3'])\n",
        "\n",
        "df['organization_location_4']=np.array(df['organization_location_4'],dtype=object)\n",
        "df['organization_location_4']=imputer.fit_transform(df['organization_location_4'])\n",
        "\n",
        "df['organization_location_5']=np.array(df['organization_location_5'],dtype=object)\n",
        "df['organization_location_5']=imputer.fit_transform(df['organization_location_5'])"
      ],
      "metadata": {
        "id": "AKBkQsur4tVs"
      },
      "execution_count": 111,
      "outputs": []
    },
    {
      "cell_type": "markdown",
      "source": [
        "Education"
      ],
      "metadata": {
        "id": "kAf1ePYl7VQy"
      }
    },
    {
      "cell_type": "code",
      "source": [
        "df[['education_degree_1','education_degree_2','education_degree_3','education_1','education_1','education_3']].isnull().sum()\n"
      ],
      "metadata": {
        "colab": {
          "base_uri": "https://localhost:8080/"
        },
        "id": "idjIg5Lo7YbG",
        "outputId": "5d944d7c-bb6b-4083-a8a3-6faca25ffec6"
      },
      "execution_count": 112,
      "outputs": [
        {
          "output_type": "execute_result",
          "data": {
            "text/plain": [
              "education_degree_1     99\n",
              "education_degree_2    207\n",
              "education_degree_3    395\n",
              "education_1            60\n",
              "education_1            60\n",
              "education_3           367\n",
              "dtype: int64"
            ]
          },
          "metadata": {},
          "execution_count": 112
        }
      ]
    },
    {
      "cell_type": "code",
      "source": [
        "imputer=CategoricalImputer()\n",
        "df['education_degree_1']=np.array(df['education_degree_1'],dtype=object)\n",
        "df['education_degree_1']=imputer.fit_transform(df['education_degree_1'])\n",
        "\n",
        "df['education_degree_2']=df['education_degree_2'].fillna(\"Unknown\")\n",
        "\n",
        "\n",
        "df['education_degree_3']=np.array(df['education_degree_3'],dtype=object)\n",
        "df['education_degree_3']=imputer.fit_transform(df['education_degree_3'])\n",
        "\n",
        "df['education_1']=np.array(df['education_1'],dtype=object)\n",
        "df['education_1']=imputer.fit_transform(df['education_1'])\n",
        "\n",
        "df['education_2']=np.array(df['education_2'],dtype=object)\n",
        "df['education_2']=imputer.fit_transform(df['education_2'])\n",
        "\n",
        "df['education_3']=df['education_3'].fillna(\"Unknown\")\n"
      ],
      "metadata": {
        "id": "FLlq6CfM7gxr"
      },
      "execution_count": 113,
      "outputs": []
    },
    {
      "cell_type": "code",
      "source": [
        "df[['education_degree_1','education_degree_2','education_degree_3','education_1','education_1','education_3']].isnull().sum()\n"
      ],
      "metadata": {
        "colab": {
          "base_uri": "https://localhost:8080/"
        },
        "id": "JzOnyRpl9MTB",
        "outputId": "ac047c13-3957-4d57-f6d3-21605e1cd1a4"
      },
      "execution_count": 114,
      "outputs": [
        {
          "output_type": "execute_result",
          "data": {
            "text/plain": [
              "education_degree_1    0\n",
              "education_degree_2    0\n",
              "education_degree_3    0\n",
              "education_1           0\n",
              "education_1           0\n",
              "education_3           0\n",
              "dtype: int64"
            ]
          },
          "metadata": {},
          "execution_count": 114
        }
      ]
    },
    {
      "cell_type": "markdown",
      "source": [
        "**Location_name**"
      ],
      "metadata": {
        "id": "HBbXXqWFQKoR"
      }
    },
    {
      "cell_type": "code",
      "source": [
        "df['location_name']=np.array(df['location_name'],dtype=object)\n",
        "df['location_name']=imputer.fit_transform(df['location_name'])"
      ],
      "metadata": {
        "id": "BqSFdTBPQOUo"
      },
      "execution_count": 115,
      "outputs": []
    },
    {
      "cell_type": "markdown",
      "source": [
        "**Address**"
      ],
      "metadata": {
        "id": "ZF2aj2DdQqI6"
      }
    },
    {
      "cell_type": "code",
      "source": [
        "df['address']=np.array(df['address'],dtype=object)\n",
        "df['address']=imputer.fit_transform(df['address'])"
      ],
      "metadata": {
        "id": "RKaq2CvlQvgM"
      },
      "execution_count": 116,
      "outputs": []
    },
    {
      "cell_type": "markdown",
      "source": [
        "**Current_company**"
      ],
      "metadata": {
        "id": "MKAI55XZR1EB"
      }
    },
    {
      "cell_type": "code",
      "source": [
        "df['current_company']=np.array(df['current_company'],dtype=object)\n",
        "df['current_company']=imputer.fit_transform(df['current_company'])"
      ],
      "metadata": {
        "id": "DV5S2OpFR4Te"
      },
      "execution_count": 117,
      "outputs": []
    },
    {
      "cell_type": "markdown",
      "source": [
        "**Current_company_position**"
      ],
      "metadata": {
        "id": "VCVtW3TiSDNi"
      }
    },
    {
      "cell_type": "code",
      "source": [
        "df['current_company_position']=np.array(df['current_company_position'],dtype=object)\n",
        "df['current_company_position']=imputer.fit_transform(df['current_company_position'])"
      ],
      "metadata": {
        "id": "3WwaAoNCSGE0"
      },
      "execution_count": 118,
      "outputs": []
    },
    {
      "cell_type": "markdown",
      "source": [
        "**Skills**"
      ],
      "metadata": {
        "id": "P9w8t4rNSVp5"
      }
    },
    {
      "cell_type": "code",
      "source": [
        "df['skills']=df['skills'].fillna(\"Unknown\")"
      ],
      "metadata": {
        "id": "2dWihw3KSYck"
      },
      "execution_count": 119,
      "outputs": []
    },
    {
      "cell_type": "code",
      "source": [
        "df.head()"
      ],
      "metadata": {
        "colab": {
          "base_uri": "https://localhost:8080/",
          "height": 647
        },
        "id": "pEjEudU8Ivg6",
        "outputId": "50e90c01-25f6-4a63-cbcd-8a00c4fbcb16"
      },
      "execution_count": 120,
      "outputs": [
        {
          "output_type": "execute_result",
          "data": {
            "text/plain": [
              "                                         profile_url             full_name  \\\n",
              "0                https://www.linkedin.com/in/baycii/  Baycii Wassim Derbel   \n",
              "1  https://www.linkedin.com/in/ichrak-houidi-4560...         Ichrak Houidi   \n",
              "2  https://www.linkedin.com/in/oussama-sassi-92a4...         Oussama Sassi   \n",
              "3  https://www.linkedin.com/in/skander-haddad-75a...        Skander Haddad   \n",
              "4  https://www.linkedin.com/in/kais-ben-youssef-a...          Kais Youssef   \n",
              "\n",
              "                                            headline  \\\n",
              "0  Computer Engineer & Data Scientist | Specializ...   \n",
              "1                    Data scientist intern at Keyrus   \n",
              "2                        Data Scientist chez RUTILEA   \n",
              "3  Data Scientist | Deeplearning.ai ambassador | ...   \n",
              "4                          Data Scientist chez ENGIE   \n",
              "\n",
              "                            location_name  \\\n",
              "0  Ville de Paris, Ãle-de-France, France   \n",
              "1                         Sousse, Tunisie   \n",
              "2                         Ariana, Tunisie   \n",
              "3                       Monastir, Tunisie   \n",
              "4           Paris, Ãle-de-France, France   \n",
              "\n",
              "                                  address     current_company  \\\n",
              "0  Ville de Paris, Ãle-de-France, France        Kaisens Data   \n",
              "1                         Sousse, Tunisie              Keyrus   \n",
              "2                         Ariana, Tunisie       Rutilea, Inc.   \n",
              "3                       Monastir, Tunisie  Enactus Esprit ICT   \n",
              "4           Paris, Ãle-de-France, France               ENGIE   \n",
              "\n",
              "  current_company_position      organization_1  \\\n",
              "0    Data Scientist Intern        Kaisens Data   \n",
              "1           Data scientist              Keyrus   \n",
              "2           Data Scientist       Rutilea, Inc.   \n",
              "3                   Alumni  Enactus Esprit ICT   \n",
              "4           Data Scientist               ENGIE   \n",
              "\n",
              "                           organization_url_1   organization_title_1  ...  \\\n",
              "0  https://www.linkedin.com/company/18450880/  Data Scientist Intern  ...   \n",
              "1     https://www.linkedin.com/company/12328/        Data scientist   ...   \n",
              "2  https://www.linkedin.com/company/76253416/         Data Scientist  ...   \n",
              "3  https://www.linkedin.com/company/18957220/                 Alumni  ...   \n",
              "4    https://www.linkedin.com/company/298246/         Data Scientist  ...   \n",
              "\n",
              "   organization_title_6  organization_start_6 organization_end_6  \\\n",
              "0             Stagiaire               2020.07            2021.06   \n",
              "1             Stagiaire               2020.07            2021.06   \n",
              "2             Stagiaire               2020.07            2021.06   \n",
              "3             Stagiaire               2020.07            2021.06   \n",
              "4             Stagiaire               2020.07            2021.06   \n",
              "\n",
              "                                         education_1  \\\n",
              "0                         UniversitÃ© Gustave Eiffel   \n",
              "1  Ecole SupÃ©rieure PrivÃ©e d'IngÃ©nierie et de ...   \n",
              "2  Ecole SupÃ©rieure PrivÃ©e d'IngÃ©nierie et de ...   \n",
              "3  Ecole SupÃ©rieure PrivÃ©e d'IngÃ©nierie et de ...   \n",
              "4                    UniversitÃ© Paris Dauphine- PSL   \n",
              "\n",
              "                                  education_degree_1  \\\n",
              "0  Master of Research, Intelligent Systems and Ap...   \n",
              "1                DiplÃ´me d'ingÃ©nieur, Data science   \n",
              "2                DiplÃ´me d'ingÃ©nieur, Data Science   \n",
              "3                  Master's degree, Computer Science   \n",
              "4               Master 1, MathÃ©matiques appliquÃ©es   \n",
              "\n",
              "                                         education_2  \\\n",
              "0  Ecole SupÃ©rieure PrivÃ©e d'IngÃ©nierie et de ...   \n",
              "1                                            isitcom   \n",
              "2             Ecole Nationale d'IngÃ©nieurs de Tunis   \n",
              "3                                 Manara High-School   \n",
              "4  Ecole SupÃ©rieure PrivÃ©e d'IngÃ©nierie et de ...   \n",
              "\n",
              "                                  education_degree_2  \\\n",
              "0  National diploma of Engineer certified by CTI,...   \n",
              "1                                            Unknown   \n",
              "2                                            Unknown   \n",
              "3                   High School Diploma, Mathematics   \n",
              "4      CPGE MathÃ©matiques Physiques, MathÃ©matiques   \n",
              "\n",
              "                education_3                education_degree_3  \\\n",
              "0             LycÃ©e Ennasr  High School Diploma, Mathematics   \n",
              "1                   Unknown     BaccalaurÃ©at, MathÃ©matiques   \n",
              "2                   Unknown     BaccalaurÃ©at, MathÃ©matiques   \n",
              "3                   Unknown     BaccalaurÃ©at, MathÃ©matiques   \n",
              "4  LycÃ©e les pÃ¨res blancs     BaccalaurÃ©at, MathÃ©matiques   \n",
              "\n",
              "                                              skills  \n",
              "0  Artificial Intelligence (AI) : Web Solutions :...  \n",
              "1  Python (langage de programmation) : Deep learn...  \n",
              "2  R : MySQL : Java : NoSQL : Hadoop : PHP : Symf...  \n",
              "3  JavaScript : HTML : Python : MySQL : Java : No...  \n",
              "4                                            Unknown  \n",
              "\n",
              "[5 rows x 53 columns]"
            ],
            "text/html": [
              "\n",
              "  <div id=\"df-d65e29da-4aee-46be-a9fb-06283ac59171\">\n",
              "    <div class=\"colab-df-container\">\n",
              "      <div>\n",
              "<style scoped>\n",
              "    .dataframe tbody tr th:only-of-type {\n",
              "        vertical-align: middle;\n",
              "    }\n",
              "\n",
              "    .dataframe tbody tr th {\n",
              "        vertical-align: top;\n",
              "    }\n",
              "\n",
              "    .dataframe thead th {\n",
              "        text-align: right;\n",
              "    }\n",
              "</style>\n",
              "<table border=\"1\" class=\"dataframe\">\n",
              "  <thead>\n",
              "    <tr style=\"text-align: right;\">\n",
              "      <th></th>\n",
              "      <th>profile_url</th>\n",
              "      <th>full_name</th>\n",
              "      <th>headline</th>\n",
              "      <th>location_name</th>\n",
              "      <th>address</th>\n",
              "      <th>current_company</th>\n",
              "      <th>current_company_position</th>\n",
              "      <th>organization_1</th>\n",
              "      <th>organization_url_1</th>\n",
              "      <th>organization_title_1</th>\n",
              "      <th>...</th>\n",
              "      <th>organization_title_6</th>\n",
              "      <th>organization_start_6</th>\n",
              "      <th>organization_end_6</th>\n",
              "      <th>education_1</th>\n",
              "      <th>education_degree_1</th>\n",
              "      <th>education_2</th>\n",
              "      <th>education_degree_2</th>\n",
              "      <th>education_3</th>\n",
              "      <th>education_degree_3</th>\n",
              "      <th>skills</th>\n",
              "    </tr>\n",
              "  </thead>\n",
              "  <tbody>\n",
              "    <tr>\n",
              "      <th>0</th>\n",
              "      <td>https://www.linkedin.com/in/baycii/</td>\n",
              "      <td>Baycii Wassim Derbel</td>\n",
              "      <td>Computer Engineer &amp; Data Scientist | Specializ...</td>\n",
              "      <td>Ville de Paris, Ãle-de-France, France</td>\n",
              "      <td>Ville de Paris, Ãle-de-France, France</td>\n",
              "      <td>Kaisens Data</td>\n",
              "      <td>Data Scientist Intern</td>\n",
              "      <td>Kaisens Data</td>\n",
              "      <td>https://www.linkedin.com/company/18450880/</td>\n",
              "      <td>Data Scientist Intern</td>\n",
              "      <td>...</td>\n",
              "      <td>Stagiaire</td>\n",
              "      <td>2020.07</td>\n",
              "      <td>2021.06</td>\n",
              "      <td>UniversitÃ© Gustave Eiffel</td>\n",
              "      <td>Master of Research, Intelligent Systems and Ap...</td>\n",
              "      <td>Ecole SupÃ©rieure PrivÃ©e d'IngÃ©nierie et de ...</td>\n",
              "      <td>National diploma of Engineer certified by CTI,...</td>\n",
              "      <td>LycÃ©e Ennasr</td>\n",
              "      <td>High School Diploma, Mathematics</td>\n",
              "      <td>Artificial Intelligence (AI) : Web Solutions :...</td>\n",
              "    </tr>\n",
              "    <tr>\n",
              "      <th>1</th>\n",
              "      <td>https://www.linkedin.com/in/ichrak-houidi-4560...</td>\n",
              "      <td>Ichrak Houidi</td>\n",
              "      <td>Data scientist intern at Keyrus</td>\n",
              "      <td>Sousse, Tunisie</td>\n",
              "      <td>Sousse, Tunisie</td>\n",
              "      <td>Keyrus</td>\n",
              "      <td>Data scientist</td>\n",
              "      <td>Keyrus</td>\n",
              "      <td>https://www.linkedin.com/company/12328/</td>\n",
              "      <td>Data scientist</td>\n",
              "      <td>...</td>\n",
              "      <td>Stagiaire</td>\n",
              "      <td>2020.07</td>\n",
              "      <td>2021.06</td>\n",
              "      <td>Ecole SupÃ©rieure PrivÃ©e d'IngÃ©nierie et de ...</td>\n",
              "      <td>DiplÃ´me d'ingÃ©nieur, Data science</td>\n",
              "      <td>isitcom</td>\n",
              "      <td>Unknown</td>\n",
              "      <td>Unknown</td>\n",
              "      <td>BaccalaurÃ©at, MathÃ©matiques</td>\n",
              "      <td>Python (langage de programmation) : Deep learn...</td>\n",
              "    </tr>\n",
              "    <tr>\n",
              "      <th>2</th>\n",
              "      <td>https://www.linkedin.com/in/oussama-sassi-92a4...</td>\n",
              "      <td>Oussama Sassi</td>\n",
              "      <td>Data Scientist chez RUTILEA</td>\n",
              "      <td>Ariana, Tunisie</td>\n",
              "      <td>Ariana, Tunisie</td>\n",
              "      <td>Rutilea, Inc.</td>\n",
              "      <td>Data Scientist</td>\n",
              "      <td>Rutilea, Inc.</td>\n",
              "      <td>https://www.linkedin.com/company/76253416/</td>\n",
              "      <td>Data Scientist</td>\n",
              "      <td>...</td>\n",
              "      <td>Stagiaire</td>\n",
              "      <td>2020.07</td>\n",
              "      <td>2021.06</td>\n",
              "      <td>Ecole SupÃ©rieure PrivÃ©e d'IngÃ©nierie et de ...</td>\n",
              "      <td>DiplÃ´me d'ingÃ©nieur, Data Science</td>\n",
              "      <td>Ecole Nationale d'IngÃ©nieurs de Tunis</td>\n",
              "      <td>Unknown</td>\n",
              "      <td>Unknown</td>\n",
              "      <td>BaccalaurÃ©at, MathÃ©matiques</td>\n",
              "      <td>R : MySQL : Java : NoSQL : Hadoop : PHP : Symf...</td>\n",
              "    </tr>\n",
              "    <tr>\n",
              "      <th>3</th>\n",
              "      <td>https://www.linkedin.com/in/skander-haddad-75a...</td>\n",
              "      <td>Skander Haddad</td>\n",
              "      <td>Data Scientist | Deeplearning.ai ambassador | ...</td>\n",
              "      <td>Monastir, Tunisie</td>\n",
              "      <td>Monastir, Tunisie</td>\n",
              "      <td>Enactus Esprit ICT</td>\n",
              "      <td>Alumni</td>\n",
              "      <td>Enactus Esprit ICT</td>\n",
              "      <td>https://www.linkedin.com/company/18957220/</td>\n",
              "      <td>Alumni</td>\n",
              "      <td>...</td>\n",
              "      <td>Stagiaire</td>\n",
              "      <td>2020.07</td>\n",
              "      <td>2021.06</td>\n",
              "      <td>Ecole SupÃ©rieure PrivÃ©e d'IngÃ©nierie et de ...</td>\n",
              "      <td>Master's degree, Computer Science</td>\n",
              "      <td>Manara High-School</td>\n",
              "      <td>High School Diploma, Mathematics</td>\n",
              "      <td>Unknown</td>\n",
              "      <td>BaccalaurÃ©at, MathÃ©matiques</td>\n",
              "      <td>JavaScript : HTML : Python : MySQL : Java : No...</td>\n",
              "    </tr>\n",
              "    <tr>\n",
              "      <th>4</th>\n",
              "      <td>https://www.linkedin.com/in/kais-ben-youssef-a...</td>\n",
              "      <td>Kais Youssef</td>\n",
              "      <td>Data Scientist chez ENGIE</td>\n",
              "      <td>Paris, Ãle-de-France, France</td>\n",
              "      <td>Paris, Ãle-de-France, France</td>\n",
              "      <td>ENGIE</td>\n",
              "      <td>Data Scientist</td>\n",
              "      <td>ENGIE</td>\n",
              "      <td>https://www.linkedin.com/company/298246/</td>\n",
              "      <td>Data Scientist</td>\n",
              "      <td>...</td>\n",
              "      <td>Stagiaire</td>\n",
              "      <td>2020.07</td>\n",
              "      <td>2021.06</td>\n",
              "      <td>UniversitÃ© Paris Dauphine- PSL</td>\n",
              "      <td>Master 1, MathÃ©matiques appliquÃ©es</td>\n",
              "      <td>Ecole SupÃ©rieure PrivÃ©e d'IngÃ©nierie et de ...</td>\n",
              "      <td>CPGE MathÃ©matiques Physiques, MathÃ©matiques</td>\n",
              "      <td>LycÃ©e les pÃ¨res blancs</td>\n",
              "      <td>BaccalaurÃ©at, MathÃ©matiques</td>\n",
              "      <td>Unknown</td>\n",
              "    </tr>\n",
              "  </tbody>\n",
              "</table>\n",
              "<p>5 rows × 53 columns</p>\n",
              "</div>\n",
              "      <button class=\"colab-df-convert\" onclick=\"convertToInteractive('df-d65e29da-4aee-46be-a9fb-06283ac59171')\"\n",
              "              title=\"Convert this dataframe to an interactive table.\"\n",
              "              style=\"display:none;\">\n",
              "        \n",
              "  <svg xmlns=\"http://www.w3.org/2000/svg\" height=\"24px\"viewBox=\"0 0 24 24\"\n",
              "       width=\"24px\">\n",
              "    <path d=\"M0 0h24v24H0V0z\" fill=\"none\"/>\n",
              "    <path d=\"M18.56 5.44l.94 2.06.94-2.06 2.06-.94-2.06-.94-.94-2.06-.94 2.06-2.06.94zm-11 1L8.5 8.5l.94-2.06 2.06-.94-2.06-.94L8.5 2.5l-.94 2.06-2.06.94zm10 10l.94 2.06.94-2.06 2.06-.94-2.06-.94-.94-2.06-.94 2.06-2.06.94z\"/><path d=\"M17.41 7.96l-1.37-1.37c-.4-.4-.92-.59-1.43-.59-.52 0-1.04.2-1.43.59L10.3 9.45l-7.72 7.72c-.78.78-.78 2.05 0 2.83L4 21.41c.39.39.9.59 1.41.59.51 0 1.02-.2 1.41-.59l7.78-7.78 2.81-2.81c.8-.78.8-2.07 0-2.86zM5.41 20L4 18.59l7.72-7.72 1.47 1.35L5.41 20z\"/>\n",
              "  </svg>\n",
              "      </button>\n",
              "      \n",
              "  <style>\n",
              "    .colab-df-container {\n",
              "      display:flex;\n",
              "      flex-wrap:wrap;\n",
              "      gap: 12px;\n",
              "    }\n",
              "\n",
              "    .colab-df-convert {\n",
              "      background-color: #E8F0FE;\n",
              "      border: none;\n",
              "      border-radius: 50%;\n",
              "      cursor: pointer;\n",
              "      display: none;\n",
              "      fill: #1967D2;\n",
              "      height: 32px;\n",
              "      padding: 0 0 0 0;\n",
              "      width: 32px;\n",
              "    }\n",
              "\n",
              "    .colab-df-convert:hover {\n",
              "      background-color: #E2EBFA;\n",
              "      box-shadow: 0px 1px 2px rgba(60, 64, 67, 0.3), 0px 1px 3px 1px rgba(60, 64, 67, 0.15);\n",
              "      fill: #174EA6;\n",
              "    }\n",
              "\n",
              "    [theme=dark] .colab-df-convert {\n",
              "      background-color: #3B4455;\n",
              "      fill: #D2E3FC;\n",
              "    }\n",
              "\n",
              "    [theme=dark] .colab-df-convert:hover {\n",
              "      background-color: #434B5C;\n",
              "      box-shadow: 0px 1px 3px 1px rgba(0, 0, 0, 0.15);\n",
              "      filter: drop-shadow(0px 1px 2px rgba(0, 0, 0, 0.3));\n",
              "      fill: #FFFFFF;\n",
              "    }\n",
              "  </style>\n",
              "\n",
              "      <script>\n",
              "        const buttonEl =\n",
              "          document.querySelector('#df-d65e29da-4aee-46be-a9fb-06283ac59171 button.colab-df-convert');\n",
              "        buttonEl.style.display =\n",
              "          google.colab.kernel.accessAllowed ? 'block' : 'none';\n",
              "\n",
              "        async function convertToInteractive(key) {\n",
              "          const element = document.querySelector('#df-d65e29da-4aee-46be-a9fb-06283ac59171');\n",
              "          const dataTable =\n",
              "            await google.colab.kernel.invokeFunction('convertToInteractive',\n",
              "                                                     [key], {});\n",
              "          if (!dataTable) return;\n",
              "\n",
              "          const docLinkHtml = 'Like what you see? Visit the ' +\n",
              "            '<a target=\"_blank\" href=https://colab.research.google.com/notebooks/data_table.ipynb>data table notebook</a>'\n",
              "            + ' to learn more about interactive tables.';\n",
              "          element.innerHTML = '';\n",
              "          dataTable['output_type'] = 'display_data';\n",
              "          await google.colab.output.renderOutput(dataTable, element);\n",
              "          const docLink = document.createElement('div');\n",
              "          docLink.innerHTML = docLinkHtml;\n",
              "          element.appendChild(docLink);\n",
              "        }\n",
              "      </script>\n",
              "    </div>\n",
              "  </div>\n",
              "  "
            ]
          },
          "metadata": {},
          "execution_count": 120
        }
      ]
    },
    {
      "cell_type": "code",
      "source": [
        "plt.figure(figsize=(15,10))\n",
        "sns.heatmap(df.isna(),cbar=False)"
      ],
      "metadata": {
        "colab": {
          "base_uri": "https://localhost:8080/",
          "height": 661
        },
        "id": "Mm9YUKjDPxJ1",
        "outputId": "cd49fb77-c38a-431e-a60b-e5b45bd85006"
      },
      "execution_count": 121,
      "outputs": [
        {
          "output_type": "execute_result",
          "data": {
            "text/plain": [
              "<matplotlib.axes._subplots.AxesSubplot at 0x7f56b1ea6490>"
            ]
          },
          "metadata": {},
          "execution_count": 121
        },
        {
          "output_type": "display_data",
          "data": {
            "text/plain": [
              "<Figure size 1080x720 with 1 Axes>"
            ],
            "image/png": "[encoded data removed]"
          },
          "metadata": {
            "needs_background": "light"
          }
        }
      ]
    },
    {
      "cell_type": "code",
      "source": [
        "!pip install xlsxwriter"
      ],
      "metadata": {
        "colab": {
          "base_uri": "https://localhost:8080/"
        },
        "id": "RgR3oerQAUjN",
        "outputId": "96de7919-9eb7-4e09-bde0-67aee47b66ca"
      },
      "execution_count": 122,
      "outputs": [
        {
          "output_type": "stream",
          "name": "stdout",
          "text": [
            "Requirement already satisfied: xlsxwriter in /usr/local/lib/python3.7/dist-packages (3.0.3)\n"
          ]
        }
      ]
    },
    {
      "cell_type": "code",
      "source": [
        "#df.to_excel(\"../data.xlsx\", engine='xlsxwriter',index = False)\n",
        "df.to_csv(\"../data.csv\")"
      ],
      "metadata": {
        "id": "XhiD9oS8-r9j"
      },
      "execution_count": 123,
      "outputs": []
    },
    {
      "cell_type": "markdown",
      "source": [
        "### Preparing data for content based recommandation system model"
      ],
      "metadata": {
        "id": "HCw3TJlJaEDe"
      }
    },
    {
      "cell_type": "markdown",
      "source": [
        "I wanted my data to be ready for a content based recommendation model and content based recommendation models need information about items or users to find similarity. So my first approach consisted of using the headline section to find similar internship listings. For this, I would have to convert the 'headline' section for each internship profile, using bag of words from NLP, into vectors. I would then get a matrix where the rows would consist of internship profiles and the columns would be different words. The values in this matrix would be the number of times each word appears in details section of each internship profile. This would be called a user-item matrix. This way, if we multiplied this matrix with its transpose, we would get to know how similar two internship profiles are"
      ],
      "metadata": {
        "id": "5SxMIC7uZlrs"
      }
    },
    {
      "cell_type": "markdown",
      "source": [
        "We have decided to use the following features for creating filters in the app:\n",
        "\n",
        "-skills\n",
        "\n",
        "-headline"
      ],
      "metadata": {
        "id": "sdO2dHveYz5Y"
      }
    },
    {
      "cell_type": "markdown",
      "source": [
        "\n",
        "Tokenize : Tokenizing here means splitting a sentence into words. Running the above step ensures that tokenizing won’t return ‘.’ or number as words. Thus, we will have only English words as tokens.\n",
        "strip() method on the tokens will remove any extra trailing or leading space. This way wherever, for example, ‘internship’ appears in the text it won’t appear as ‘internship ’ or ‘ internship’ "
      ],
      "metadata": {
        "id": "KvqggSgf1vFs"
      }
    },
    {
      "cell_type": "code",
      "source": [
        "def tokenize(sentences):\n",
        "    '''\n",
        "    tokenizes a bunch of sentences after normalizing them and returns stemmed tokens.\n",
        "    \n",
        "    INPUT:\n",
        "    sentences - a paragraph that need to be tokenized\n",
        "    \n",
        "    OUTPUT:\n",
        "    tokens - list of stemmed tokens\n",
        "    \n",
        "    '''\n",
        "    # normalizing, tokenizing, lemmatizing \n",
        "    sentences = re.sub('\\W',' ',sentences) \n",
        "    sentences = re.sub('[0-9]',' ',sentences)\n",
        "\n",
        "    tokens = word_tokenize(sentences)\n",
        "    tokens = [i.strip() for i in tokens]\n",
        "    \n",
        "    stemmer = PorterStemmer()\n",
        "    tokens = [stemmer.stem(i) for i in tokens]\n",
        "    return tokens"
      ],
      "metadata": {
        "id": "J0he3kNL1b-i"
      },
      "execution_count": 124,
      "outputs": []
    },
    {
      "cell_type": "markdown",
      "source": [
        "### Tfidf"
      ],
      "metadata": {
        "id": "x6YgGxk6Yl97"
      }
    },
    {
      "cell_type": "code",
      "source": [
        "def similarity_matrix(df):\n",
        "    '''\n",
        "    returns a similarity matrix, in the form of a dataframe, between different persons by using the \n",
        "    headline section of df.\n",
        "    \n",
        "    INPUT:\n",
        "    df - dataframe with 'd' as one of the columns\n",
        "    \n",
        "    OUTPUT:\n",
        "    sim - similarity matrix(dataframe) with perosn fullname  \n",
        "    \n",
        "    '''\n",
        "    headline = df['headline']\n",
        "    vect = CountVectorizer(tokenizer= tokenize, stop_words = 'english')\n",
        "    tfidf = TfidfTransformer()\n",
        "    \n",
        "    mat = tfidf.fit_transform(vect.fit_transform(headline).toarray()).toarray()\n",
        "    sim = np.dot(mat, mat.T)\n",
        "    sim = pd.DataFrame(sim, columns=df.full_name)\n",
        "    return sim"
      ],
      "metadata": {
        "id": "TM1Tvhh529wR"
      },
      "execution_count": 125,
      "outputs": []
    },
    {
      "cell_type": "code",
      "source": [
        "sim = similarity_matrix(df)"
      ],
      "metadata": {
        "colab": {
          "base_uri": "https://localhost:8080/"
        },
        "id": "twXz2hqv70Gx",
        "outputId": "f2dbed84-052e-4b67-f8b2-fe64fd6784f5"
      },
      "execution_count": 126,
      "outputs": [
        {
          "output_type": "stream",
          "name": "stderr",
          "text": [
            "/usr/local/lib/python3.7/dist-packages/sklearn/feature_extraction/text.py:401: UserWarning: Your stop_words may be inconsistent with your preprocessing. Tokenizing the stop words generated tokens ['abov', 'afterward', 'alon', 'alreadi', 'alway', 'ani', 'anoth', 'anyon', 'anyth', 'anywher', 'becam', 'becaus', 'becom', 'befor', 'besid', 'cri', 'describ', 'dure', 'els', 'elsewher', 'empti', 'everi', 'everyon', 'everyth', 'everywher', 'fifti', 'formerli', 'forti', 'ha', 'henc', 'hereaft', 'herebi', 'hi', 'howev', 'hundr', 'inde', 'latterli', 'mani', 'meanwhil', 'moreov', 'mostli', 'nobodi', 'noon', 'noth', 'nowher', 'onc', 'onli', 'otherwis', 'ourselv', 'perhap', 'pleas', 'seriou', 'sever', 'sinc', 'sincer', 'sixti', 'someon', 'someth', 'sometim', 'somewher', 'themselv', 'thenc', 'thereaft', 'therebi', 'therefor', 'thi', 'thu', 'togeth', 'twelv', 'twenti', 'veri', 'wa', 'whatev', 'whenc', 'whenev', 'wherea', 'whereaft', 'wherebi', 'wherev', 'whi', 'yourselv'] not in stop_words.\n",
            "  % sorted(inconsistent)\n"
          ]
        }
      ]
    },
    {
      "cell_type": "code",
      "source": [
        "sim.to_csv('../recommendation_matrix.csv', index = True)"
      ],
      "metadata": {
        "id": "TWEyIM-b75BP"
      },
      "execution_count": 127,
      "outputs": []
    },
    {
      "cell_type": "markdown",
      "source": [
        "## CountVectorizer"
      ],
      "metadata": {
        "id": "cVqC7Iu0ZQQN"
      }
    },
    {
      "cell_type": "code",
      "source": [
        "def similarity_matrix_wo_tfidf(df):\n",
        "    '''\n",
        "    returns a similarity matrix, in the form of a dataframe, between different persons by using the \n",
        "    headline section\n",
        "    \n",
        "    INPUT:\n",
        "    df - dataframe with 'headline' as one of the columns\n",
        "    \n",
        "    OUTPUT:\n",
        "    sim - similarity matrix(dataframe) with person fullname \n",
        "    \n",
        "    '''\n",
        "    headline = df['headline']\n",
        "    vect = CountVectorizer(tokenizer= tokenize, stop_words = 'english')\n",
        "    \n",
        "    mat = vect.fit_transform(headline).toarray()\n",
        "    sim = np.dot(mat, mat.T)\n",
        "    sim = pd.DataFrame(sim, columns=df.full_name)\n",
        "    return sim"
      ],
      "metadata": {
        "id": "CRS-4Nmd8XHc"
      },
      "execution_count": 128,
      "outputs": []
    },
    {
      "cell_type": "code",
      "source": [
        "sim_1 = similarity_matrix_wo_tfidf(df)\n",
        "sim_1.to_csv('../recommendation_matrix_wo_tfidf.csv', index = True)"
      ],
      "metadata": {
        "colab": {
          "base_uri": "https://localhost:8080/"
        },
        "id": "ZXOrOIDTZhvb",
        "outputId": "5ab63be4-1897-4d22-9c56-a2d328f521b9"
      },
      "execution_count": 129,
      "outputs": [
        {
          "output_type": "stream",
          "name": "stderr",
          "text": [
            "/usr/local/lib/python3.7/dist-packages/sklearn/feature_extraction/text.py:401: UserWarning: Your stop_words may be inconsistent with your preprocessing. Tokenizing the stop words generated tokens ['abov', 'afterward', 'alon', 'alreadi', 'alway', 'ani', 'anoth', 'anyon', 'anyth', 'anywher', 'becam', 'becaus', 'becom', 'befor', 'besid', 'cri', 'describ', 'dure', 'els', 'elsewher', 'empti', 'everi', 'everyon', 'everyth', 'everywher', 'fifti', 'formerli', 'forti', 'ha', 'henc', 'hereaft', 'herebi', 'hi', 'howev', 'hundr', 'inde', 'latterli', 'mani', 'meanwhil', 'moreov', 'mostli', 'nobodi', 'noon', 'noth', 'nowher', 'onc', 'onli', 'otherwis', 'ourselv', 'perhap', 'pleas', 'seriou', 'sever', 'sinc', 'sincer', 'sixti', 'someon', 'someth', 'sometim', 'somewher', 'themselv', 'thenc', 'thereaft', 'therebi', 'therefor', 'thi', 'thu', 'togeth', 'twelv', 'twenti', 'veri', 'wa', 'whatev', 'whenc', 'whenev', 'wherea', 'whereaft', 'wherebi', 'wherev', 'whi', 'yourselv'] not in stop_words.\n",
            "  % sorted(inconsistent)\n"
          ]
        }
      ]
    },
    {
      "cell_type": "markdown",
      "source": [
        "## lemmatizing word\n",
        "lemmatizing is the process of grouping together the inflected forms of a word so they can be analysed as a single item"
      ],
      "metadata": {
        "id": "aYeDe0CkZzXK"
      }
    },
    {
      "cell_type": "code",
      "source": [
        "def tokenize_lem(sentences):\n",
        "    '''\n",
        "    tokenizes a bunch of sentences after normalizing it and returns lemmatized tokens.\n",
        "    \n",
        "    INPUT:\n",
        "    sentences - a paragraph that needs to be tokenized\n",
        "    \n",
        "    OUTPUT:\n",
        "    tokens - list of lemmatized tokens\n",
        "    \n",
        "    '''\n",
        "    # normalizing, tokenizing, lemmatizing \n",
        "    sentences = re.sub('\\W',' ',sentences) \n",
        "    sentences = re.sub('[0-9]',' ',sentences)\n",
        "\n",
        "    tokens = word_tokenize(sentences)\n",
        "    tokens = [i.strip() for i in tokens]\n",
        "    \n",
        "    lemmatizer = WordNetLemmatizer()\n",
        "    tokens = [lemmatizer.lemmatize(i) for i in tokens]\n",
        "    return tokens"
      ],
      "metadata": {
        "id": "u6rEF6ChZroH"
      },
      "execution_count": 130,
      "outputs": []
    },
    {
      "cell_type": "code",
      "source": [
        "def similarity_matrix_w_lem(df):\n",
        "    '''\n",
        "   returns a similarity matrix, in the form of a dataframe, between different persons by using the \n",
        "    headline section\n",
        "    \n",
        "    INPUT:\n",
        "    df - dataframe with 'headline' as one of the columns\n",
        "    \n",
        "    OUTPUT:\n",
        "    sim - similarity matrix(dataframe) with person fullname \n",
        "    '''\n",
        "    headline= df['headline']\n",
        "    vect = CountVectorizer(tokenizer= tokenize_lem, stop_words = 'english')\n",
        "    tfidf = TfidfTransformer()\n",
        "    \n",
        "    mat = tfidf.fit_transform(vect.fit_transform(headline).toarray()).toarray()\n",
        "    sim = np.dot(mat, mat.T)\n",
        "    sim = pd.DataFrame(sim, columns=df.full_name)\n",
        "    return sim"
      ],
      "metadata": {
        "id": "PjwMc59aadHt"
      },
      "execution_count": 131,
      "outputs": []
    },
    {
      "cell_type": "code",
      "source": [
        "sim_2 = similarity_matrix_w_lem(df)\n",
        "sim_2.to_csv('../recommendation_matrix_w_lem.csv', index = True)"
      ],
      "metadata": {
        "colab": {
          "base_uri": "https://localhost:8080/"
        },
        "id": "LZRR5JdpaxP3",
        "outputId": "6e109d6b-235c-4ed3-80e8-e8bbe7aa99f8"
      },
      "execution_count": 132,
      "outputs": [
        {
          "output_type": "stream",
          "name": "stderr",
          "text": [
            "/usr/local/lib/python3.7/dist-packages/sklearn/feature_extraction/text.py:401: UserWarning: Your stop_words may be inconsistent with your preprocessing. Tokenizing the stop words generated tokens ['ha', 'le', 'u', 'wa'] not in stop_words.\n",
            "  % sorted(inconsistent)\n"
          ]
        }
      ]
    },
    {
      "cell_type": "markdown",
      "source": [
        "## Use lemmatization without tfidf"
      ],
      "metadata": {
        "id": "mf1oofmVbGv7"
      }
    },
    {
      "cell_type": "code",
      "source": [
        "def similarity_matrix_w_lem_wo_tfidf(df):\n",
        "    '''\n",
        "   returns a similarity matrix, in the form of a dataframe, between different persons by using the \n",
        "    headline section\n",
        "    \n",
        "    INPUT:\n",
        "    df - dataframe with 'headline' as one of the columns\n",
        "    \n",
        "    OUTPUT:\n",
        "    sim - similarity matrix(dataframe) with person fullname \n",
        "    '''\n",
        "    headline = df['headline']\n",
        "    vect = CountVectorizer(tokenizer= tokenize_lem, stop_words = 'english')\n",
        "    tfidf = TfidfTransformer()\n",
        "    \n",
        "    mat = vect.fit_transform(headline).toarray()\n",
        "    sim = np.dot(mat, mat.T)\n",
        "    sim = pd.DataFrame(sim, columns=df.full_name)\n",
        "    return sim"
      ],
      "metadata": {
        "id": "0kaMUzU8a2o7"
      },
      "execution_count": 133,
      "outputs": []
    },
    {
      "cell_type": "code",
      "source": [
        "sim_3 = similarity_matrix_w_lem_wo_tfidf(df)\n",
        "sim_3.to_csv('../recommendation_matrix_w_lem_wo_tfidf.csv', index = True)"
      ],
      "metadata": {
        "colab": {
          "base_uri": "https://localhost:8080/"
        },
        "id": "KsKu32lybt9I",
        "outputId": "1f87036a-493d-40b4-ed59-bc12f5c42627"
      },
      "execution_count": 134,
      "outputs": [
        {
          "output_type": "stream",
          "name": "stderr",
          "text": [
            "/usr/local/lib/python3.7/dist-packages/sklearn/feature_extraction/text.py:401: UserWarning: Your stop_words may be inconsistent with your preprocessing. Tokenizing the stop words generated tokens ['ha', 'le', 'u', 'wa'] not in stop_words.\n",
            "  % sorted(inconsistent)\n"
          ]
        }
      ]
    },
    {
      "cell_type": "markdown",
      "source": [
        "After forming these 3 with the headline section, we try an alternate approach and try to use the 'skills' column to form the similarity matrix. Thus, in the make_recs notebook, we will try using this too and compare it with the results of the above 3."
      ],
      "metadata": {
        "id": "jy6lcQXVdCdT"
      }
    },
    {
      "cell_type": "code",
      "source": [
        "def similarity_matrix_skills(df):\n",
        "    '''\n",
        "    returns a similarity matrix, in the form of a dataframe, between different persons by using the \n",
        "    skills section\n",
        "    \n",
        "    INPUT:\n",
        "    df - dataframe with 'skills' as one of the columns\n",
        "    \n",
        "    OUTPUT:\n",
        "    sim - similarity matrix(dataframe) with full_name \n",
        "    '''\n",
        "    skills = df['skills']\n",
        "    vect = CountVectorizer(tokenizer= tokenize, stop_words = 'english')\n",
        "    tfidf = TfidfTransformer()\n",
        "    \n",
        "    mat = vect.fit_transform(skills).toarray()\n",
        "    sim = np.dot(mat, mat.T)\n",
        "    sim = pd.DataFrame(sim, columns=df.full_name)\n",
        "    return sim"
      ],
      "metadata": {
        "id": "rPJQTXapcEPr"
      },
      "execution_count": 135,
      "outputs": []
    },
    {
      "cell_type": "code",
      "source": [
        "sim_skills=similarity_matrix_skills(df)"
      ],
      "metadata": {
        "colab": {
          "base_uri": "https://localhost:8080/"
        },
        "id": "9TophFQceLqR",
        "outputId": "59a19dd1-1403-4456-ec48-e5a671ce5c72"
      },
      "execution_count": 136,
      "outputs": [
        {
          "output_type": "stream",
          "name": "stderr",
          "text": [
            "/usr/local/lib/python3.7/dist-packages/sklearn/feature_extraction/text.py:401: UserWarning: Your stop_words may be inconsistent with your preprocessing. Tokenizing the stop words generated tokens ['abov', 'afterward', 'alon', 'alreadi', 'alway', 'ani', 'anoth', 'anyon', 'anyth', 'anywher', 'becam', 'becaus', 'becom', 'befor', 'besid', 'cri', 'describ', 'dure', 'els', 'elsewher', 'empti', 'everi', 'everyon', 'everyth', 'everywher', 'fifti', 'formerli', 'forti', 'ha', 'henc', 'hereaft', 'herebi', 'hi', 'howev', 'hundr', 'inde', 'latterli', 'mani', 'meanwhil', 'moreov', 'mostli', 'nobodi', 'noon', 'noth', 'nowher', 'onc', 'onli', 'otherwis', 'ourselv', 'perhap', 'pleas', 'seriou', 'sever', 'sinc', 'sincer', 'sixti', 'someon', 'someth', 'sometim', 'somewher', 'themselv', 'thenc', 'thereaft', 'therebi', 'therefor', 'thi', 'thu', 'togeth', 'twelv', 'twenti', 'veri', 'wa', 'whatev', 'whenc', 'whenev', 'wherea', 'whereaft', 'wherebi', 'wherev', 'whi', 'yourselv'] not in stop_words.\n",
            "  % sorted(inconsistent)\n"
          ]
        }
      ]
    },
    {
      "cell_type": "code",
      "source": [
        "sim_skills.to_csv('../recommendation_df_skills.csv', index = True)"
      ],
      "metadata": {
        "id": "wKnItnuCeS0Q"
      },
      "execution_count": 137,
      "outputs": []
    },
    {
      "cell_type": "code",
      "source": [
        ""
      ],
      "metadata": {
        "id": "AfS5AI-BbWS5"
      },
      "execution_count": null,
      "outputs": []
    }
  ]
}