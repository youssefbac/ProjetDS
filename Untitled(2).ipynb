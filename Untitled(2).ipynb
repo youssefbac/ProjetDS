{
 "cells": [
  {
   "cell_type": "code",
   "execution_count": 1,
   "metadata": {},
   "outputs": [
    {
     "name": "stdout",
     "output_type": "stream",
     "text": [
      "Requirement already satisfied: resume_parser in c:\\users\\mouad\\anaconda3\\lib\\site-packages (0.8.4)\n",
      "Requirement already satisfied: pandas>=1.1.0 in c:\\users\\mouad\\anaconda3\\lib\\site-packages (from resume_parser) (1.4.1)\n",
      "Requirement already satisfied: docx2txt>=0.8 in c:\\users\\mouad\\anaconda3\\lib\\site-packages (from resume_parser) (0.8)\n",
      "Requirement already satisfied: tika>=1.24 in c:\\users\\mouad\\anaconda3\\lib\\site-packages (from resume_parser) (1.24)\n",
      "Requirement already satisfied: stemming>=1.0.1 in c:\\users\\mouad\\anaconda3\\lib\\site-packages (from resume_parser) (1.0.1)\n",
      "Requirement already satisfied: nltk>=3.5 in c:\\users\\mouad\\anaconda3\\lib\\site-packages (from resume_parser) (3.5)\n",
      "Requirement already satisfied: pdfminer.six>=20200517 in c:\\users\\mouad\\anaconda3\\lib\\site-packages (from resume_parser) (20211012)\n",
      "Requirement already satisfied: phonenumbers>=8.12.7 in c:\\users\\mouad\\anaconda3\\lib\\site-packages (from resume_parser) (8.12.44)\n",
      "Requirement already satisfied: numpy>=1.19.1 in c:\\users\\mouad\\anaconda3\\lib\\site-packages (from resume_parser) (1.22.2)\n",
      "Requirement already satisfied: spacy>=2.3.2 in c:\\users\\mouad\\anaconda3\\lib\\site-packages (from resume_parser) (2.3.5)\n",
      "Requirement already satisfied: pdfplumber>=0.5.23 in c:\\users\\mouad\\anaconda3\\lib\\site-packages (from resume_parser) (0.6.0)\n",
      "Requirement already satisfied: python-dateutil>=2.8.1 in c:\\users\\mouad\\anaconda3\\lib\\site-packages (from pandas>=1.1.0->resume_parser) (2.8.1)\n",
      "Requirement already satisfied: pytz>=2020.1 in c:\\users\\mouad\\anaconda3\\lib\\site-packages (from pandas>=1.1.0->resume_parser) (2020.1)\n",
      "Requirement already satisfied: requests in c:\\users\\mouad\\anaconda3\\lib\\site-packages (from tika>=1.24->resume_parser) (2.24.0)\n",
      "Requirement already satisfied: setuptools in c:\\users\\mouad\\anaconda3\\lib\\site-packages (from tika>=1.24->resume_parser) (49.2.0.post20200714)\n",
      "Requirement already satisfied: click in c:\\users\\mouad\\anaconda3\\lib\\site-packages (from nltk>=3.5->resume_parser) (7.1.2)\n",
      "Requirement already satisfied: regex in c:\\users\\mouad\\anaconda3\\lib\\site-packages (from nltk>=3.5->resume_parser) (2020.6.8)\n",
      "Requirement already satisfied: joblib in c:\\users\\mouad\\anaconda3\\lib\\site-packages (from nltk>=3.5->resume_parser) (0.16.0)\n",
      "Requirement already satisfied: tqdm in c:\\users\\mouad\\anaconda3\\lib\\site-packages (from nltk>=3.5->resume_parser) (4.47.0)Note: you may need to restart the kernel to use updated packages.\n",
      "Requirement already satisfied: chardet; python_version > \"3.0\" in c:\\users\\mouad\\anaconda3\\lib\\site-packages (from pdfminer.six>=20200517->resume_parser) (3.0.4)\n",
      "Requirement already satisfied: cryptography in c:\\users\\mouad\\anaconda3\\lib\\site-packages (from pdfminer.six>=20200517->resume_parser) (2.9.2)\n",
      "\n",
      "Requirement already satisfied: srsly<1.1.0,>=1.0.2 in c:\\users\\mouad\\anaconda3\\lib\\site-packages (from spacy>=2.3.2->resume_parser) (1.0.5)\n",
      "Requirement already satisfied: preshed<3.1.0,>=3.0.2 in c:\\users\\mouad\\anaconda3\\lib\\site-packages (from spacy>=2.3.2->resume_parser) (3.0.6)\n",
      "Requirement already satisfied: thinc<7.5.0,>=7.4.1 in c:\\users\\mouad\\anaconda3\\lib\\site-packages (from spacy>=2.3.2->resume_parser) (7.4.5)\n",
      "Requirement already satisfied: blis<0.8.0,>=0.4.0 in c:\\users\\mouad\\anaconda3\\lib\\site-packages (from spacy>=2.3.2->resume_parser) (0.7.6)\n",
      "Requirement already satisfied: murmurhash<1.1.0,>=0.28.0 in c:\\users\\mouad\\anaconda3\\lib\\site-packages (from spacy>=2.3.2->resume_parser) (1.0.6)\n",
      "Requirement already satisfied: cymem<2.1.0,>=2.0.2 in c:\\users\\mouad\\anaconda3\\lib\\site-packages (from spacy>=2.3.2->resume_parser) (2.0.6)\n",
      "Requirement already satisfied: wasabi<1.1.0,>=0.4.0 in c:\\users\\mouad\\anaconda3\\lib\\site-packages (from spacy>=2.3.2->resume_parser) (0.9.0)\n",
      "Requirement already satisfied: catalogue<1.1.0,>=0.0.7 in c:\\users\\mouad\\anaconda3\\lib\\site-packages (from spacy>=2.3.2->resume_parser) (1.0.0)\n",
      "Requirement already satisfied: plac<1.2.0,>=0.9.6 in c:\\users\\mouad\\anaconda3\\lib\\site-packages (from spacy>=2.3.2->resume_parser) (1.1.3)\n",
      "Requirement already satisfied: Pillow>=8.4 in c:\\users\\mouad\\anaconda3\\lib\\site-packages (from pdfplumber>=0.5.23->resume_parser) (9.0.1)\n",
      "Requirement already satisfied: Wand>=0.6.7 in c:\\users\\mouad\\anaconda3\\lib\\site-packages (from pdfplumber>=0.5.23->resume_parser) (0.6.7)\n",
      "Requirement already satisfied: six>=1.5 in c:\\users\\mouad\\anaconda3\\lib\\site-packages (from python-dateutil>=2.8.1->pandas>=1.1.0->resume_parser) (1.15.0)\n",
      "Requirement already satisfied: certifi>=2017.4.17 in c:\\users\\mouad\\anaconda3\\lib\\site-packages (from requests->tika>=1.24->resume_parser) (2020.6.20)\n",
      "Requirement already satisfied: idna<3,>=2.5 in c:\\users\\mouad\\anaconda3\\lib\\site-packages (from requests->tika>=1.24->resume_parser) (2.10)\n",
      "Requirement already satisfied: urllib3!=1.25.0,!=1.25.1,<1.26,>=1.21.1 in c:\\users\\mouad\\anaconda3\\lib\\site-packages (from requests->tika>=1.24->resume_parser) (1.25.9)\n",
      "Requirement already satisfied: cffi!=1.11.3,>=1.8 in c:\\users\\mouad\\anaconda3\\lib\\site-packages (from cryptography->pdfminer.six>=20200517->resume_parser) (1.14.0)\n",
      "Requirement already satisfied: pycparser in c:\\users\\mouad\\anaconda3\\lib\\site-packages (from cffi!=1.11.3,>=1.8->cryptography->pdfminer.six>=20200517->resume_parser) (2.20)\n"
     ]
    }
   ],
   "source": [
    "pip install resume_parser"
   ]
  },
  {
   "cell_type": "code",
   "execution_count": 2,
   "metadata": {},
   "outputs": [
    {
     "name": "stdout",
     "output_type": "stream",
     "text": [
      "Requirement already satisfied: pyresparser in c:\\users\\mouad\\anaconda3\\lib\\site-packages (1.0.6)\n",
      "Requirement already satisfied: preshed>=2.0.1 in c:\\users\\mouad\\anaconda3\\lib\\site-packages (from pyresparser) (3.0.6)\n",
      "Requirement already satisfied: cymem>=2.0.2 in c:\\users\\mouad\\anaconda3\\lib\\site-packages (from pyresparser) (2.0.6)\n",
      "Requirement already satisfied: wasabi>=0.2.2 in c:\\users\\mouad\\anaconda3\\lib\\site-packages (from pyresparser) (0.9.0)\n",
      "Requirement already satisfied: idna>=2.8 in c:\\users\\mouad\\anaconda3\\lib\\site-packages (from pyresparser) (2.10)\n",
      "Requirement already satisfied: requests>=2.22.0 in c:\\users\\mouad\\anaconda3\\lib\\site-packages (from pyresparser) (2.24.0)\n",
      "Requirement already satisfied: pytz>=2019.1 in c:\\users\\mouad\\anaconda3\\lib\\site-packages (from pyresparser) (2020.1)\n",
      "Requirement already satisfied: pdfminer.six>=20181108 in c:\\users\\mouad\\anaconda3\\lib\\site-packages (from pyresparser) (20211012)\n",
      "Requirement already satisfied: docx2txt>=0.7 in c:\\users\\mouad\\anaconda3\\lib\\site-packages (from pyresparser) (0.8)\n",
      "Requirement already satisfied: pandas>=0.24.2 in c:\\users\\mouad\\anaconda3\\lib\\site-packages (from pyresparser) (1.4.1)\n",
      "Requirement already satisfied: numpy>=1.16.4 in c:\\users\\mouad\\anaconda3\\lib\\site-packages (from pyresparser) (1.22.2)\n",
      "Requirement already satisfied: urllib3>=1.25.3 in c:\\users\\mouad\\anaconda3\\lib\\site-packages (from pyresparser) (1.25.9)\n",
      "Requirement already satisfied: pycryptodome>=3.8.2 in c:\\users\\mouad\\anaconda3\\lib\\site-packages (from pyresparser) (3.14.1)\n",
      "Requirement already satisfied: certifi>=2019.6.16 in c:\\users\\mouad\\anaconda3\\lib\\site-packages (from pyresparser) (2020.6.20)\n",
      "Requirement already satisfied: spacy>=2.1.4 in c:\\users\\mouad\\anaconda3\\lib\\site-packages (from pyresparser) (2.3.5)\n",
      "Requirement already satisfied: python-dateutil>=2.8.0 in c:\\users\\mouad\\anaconda3\\lib\\site-packages (from pyresparser) (2.8.1)\n",
      "Requirement already satisfied: srsly>=0.0.7 in c:\\users\\mouad\\anaconda3\\lib\\site-packages (from pyresparser) (1.0.5)\n",
      "Requirement already satisfied: jsonschema>=3.0.1 in c:\\users\\mouad\\anaconda3\\lib\\site-packages (from pyresparser) (3.2.0)\n",
      "Requirement already satisfied: blis>=0.2.4 in c:\\users\\mouad\\anaconda3\\lib\\site-packages (from pyresparser) (0.7.6)\n",
      "Requirement already satisfied: chardet>=3.0.4 in c:\\users\\mouad\\anaconda3\\lib\\site-packages (from pyresparser) (3.0.4)\n",
      "Requirement already satisfied: tqdm>=4.32.2 in c:\\users\\mouad\\anaconda3\\lib\\site-packages (from pyresparser) (4.47.0)\n",
      "Requirement already satisfied: sortedcontainers>=2.1.0 in c:\\users\\mouad\\anaconda3\\lib\\site-packages (from pyresparser) (2.2.2)\n",
      "Requirement already satisfied: pyrsistent>=0.15.2 in c:\\users\\mouad\\anaconda3\\lib\\site-packages (from pyresparser) (0.16.0)\n",
      "Requirement already satisfied: thinc>=7.0.4 in c:\\users\\mouad\\anaconda3\\lib\\site-packages (from pyresparser) (7.4.5)\n",
      "Requirement already satisfied: nltk>=3.4.3 in c:\\users\\mouad\\anaconda3\\lib\\site-packages (from pyresparser) (3.5)\n",
      "Requirement already satisfied: attrs>=19.1.0 in c:\\users\\mouad\\anaconda3\\lib\\site-packages (from pyresparser) (19.3.0)\n",
      "Requirement already satisfied: six>=1.12.0 in c:\\users\\mouad\\anaconda3\\lib\\site-packages (from pyresparser) (1.15.0)\n",
      "Requirement already satisfied: murmurhash<1.1.0,>=0.28.0 in c:\\users\\mouad\\anaconda3\\lib\\site-packages (from preshed>=2.0.1->pyresparser) (1.0.6)\n",
      "Requirement already satisfied: cryptography in c:\\users\\mouad\\anaconda3\\lib\\site-packages (from pdfminer.six>=20181108->pyresparser) (2.9.2)\n",
      "Requirement already satisfied: catalogue<1.1.0,>=0.0.7 in c:\\users\\mouad\\anaconda3\\lib\\site-packages (from spacy>=2.1.4->pyresparser) (1.0.0)\n",
      "Requirement already satisfied: plac<1.2.0,>=0.9.6 in c:\\users\\mouad\\anaconda3\\lib\\site-packages (from spacy>=2.1.4->pyresparser) (1.1.3)\n",
      "Requirement already satisfied: setuptools in c:\\users\\mouad\\anaconda3\\lib\\site-packages (from spacy>=2.1.4->pyresparser) (49.2.0.post20200714)\n",
      "Requirement already satisfied: regex in c:\\users\\mouad\\anaconda3\\lib\\site-packages (from nltk>=3.4.3->pyresparser) (2020.6.8)\n",
      "Requirement already satisfied: click in c:\\users\\mouad\\anaconda3\\lib\\site-packages (from nltk>=3.4.3->pyresparser) (7.1.2)\n",
      "Requirement already satisfied: joblib in c:\\users\\mouad\\anaconda3\\lib\\site-packages (from nltk>=3.4.3->pyresparser) (0.16.0)\n",
      "Requirement already satisfied: cffi!=1.11.3,>=1.8 in c:\\users\\mouad\\anaconda3\\lib\\site-packages (from cryptography->pdfminer.six>=20181108->pyresparser) (1.14.0)\n",
      "Requirement already satisfied: pycparser in c:\\users\\mouad\\anaconda3\\lib\\site-packages (from cffi!=1.11.3,>=1.8->cryptography->pdfminer.six>=20181108->pyresparser) (2.20)\n",
      "Note: you may need to restart the kernel to use updated packages.\n"
     ]
    }
   ],
   "source": [
    "pip install pyresparser"
   ]
  },
  {
   "cell_type": "code",
   "execution_count": 3,
   "metadata": {},
   "outputs": [
    {
     "name": "stdout",
     "output_type": "stream",
     "text": [
      "Requirement already satisfied: nltk in c:\\users\\mouad\\anaconda3\\lib\\site-packages (3.5)\n",
      "Requirement already satisfied: joblib in c:\\users\\mouad\\anaconda3\\lib\\site-packages (from nltk) (0.16.0)\n",
      "Requirement already satisfied: click in c:\\users\\mouad\\anaconda3\\lib\\site-packages (from nltk) (7.1.2)\n",
      "Requirement already satisfied: regex in c:\\users\\mouad\\anaconda3\\lib\\site-packages (from nltk) (2020.6.8)\n",
      "Requirement already satisfied: tqdm in c:\\users\\mouad\\anaconda3\\lib\\site-packages (from nltk) (4.47.0)\n",
      "Note: you may need to restart the kernel to use updated packages.\n"
     ]
    }
   ],
   "source": [
    "pip install nltk"
   ]
  },
  {
   "cell_type": "code",
   "execution_count": 4,
   "metadata": {},
   "outputs": [
    {
     "name": "stdout",
     "output_type": "stream",
     "text": [
      "Requirement already satisfied: spacy==2.3.5 in c:\\users\\mouad\\anaconda3\\lib\\site-packages (2.3.5)\n",
      "Requirement already satisfied: srsly<1.1.0,>=1.0.2 in c:\\users\\mouad\\anaconda3\\lib\\site-packages (from spacy==2.3.5) (1.0.5)\n",
      "Requirement already satisfied: setuptools in c:\\users\\mouad\\anaconda3\\lib\\site-packages (from spacy==2.3.5) (49.2.0.post20200714)\n",
      "Requirement already satisfied: catalogue<1.1.0,>=0.0.7 in c:\\users\\mouad\\anaconda3\\lib\\site-packages (from spacy==2.3.5) (1.0.0)\n",
      "Requirement already satisfied: preshed<3.1.0,>=3.0.2 in c:\\users\\mouad\\anaconda3\\lib\\site-packages (from spacy==2.3.5) (3.0.6)\n",
      "Requirement already satisfied: cymem<2.1.0,>=2.0.2 in c:\\users\\mouad\\anaconda3\\lib\\site-packages (from spacy==2.3.5) (2.0.6)\n",
      "Requirement already satisfied: plac<1.2.0,>=0.9.6 in c:\\users\\mouad\\anaconda3\\lib\\site-packages (from spacy==2.3.5) (1.1.3)\n",
      "Requirement already satisfied: thinc<7.5.0,>=7.4.1 in c:\\users\\mouad\\anaconda3\\lib\\site-packages (from spacy==2.3.5) (7.4.5)\n",
      "Requirement already satisfied: numpy>=1.15.0 in c:\\users\\mouad\\anaconda3\\lib\\site-packages (from spacy==2.3.5) (1.22.2)\n",
      "Requirement already satisfied: murmurhash<1.1.0,>=0.28.0 in c:\\users\\mouad\\anaconda3\\lib\\site-packages (from spacy==2.3.5) (1.0.6)\n",
      "Requirement already satisfied: blis<0.8.0,>=0.4.0 in c:\\users\\mouad\\anaconda3\\lib\\site-packages (from spacy==2.3.5) (0.7.6)\n",
      "Requirement already satisfied: tqdm<5.0.0,>=4.38.0 in c:\\users\\mouad\\anaconda3\\lib\\site-packages (from spacy==2.3.5) (4.47.0)\n",
      "Requirement already satisfied: wasabi<1.1.0,>=0.4.0 in c:\\users\\mouad\\anaconda3\\lib\\site-packages (from spacy==2.3.5) (0.9.0)\n",
      "Requirement already satisfied: requests<3.0.0,>=2.13.0 in c:\\users\\mouad\\anaconda3\\lib\\site-packages (from spacy==2.3.5) (2.24.0)\n",
      "Requirement already satisfied: idna<3,>=2.5 in c:\\users\\mouad\\anaconda3\\lib\\site-packages (from requests<3.0.0,>=2.13.0->spacy==2.3.5) (2.10)\n",
      "Requirement already satisfied: urllib3!=1.25.0,!=1.25.1,<1.26,>=1.21.1 in c:\\users\\mouad\\anaconda3\\lib\\site-packages (from requests<3.0.0,>=2.13.0->spacy==2.3.5) (1.25.9)\n",
      "Requirement already satisfied: chardet<4,>=3.0.2 in c:\\users\\mouad\\anaconda3\\lib\\site-packages (from requests<3.0.0,>=2.13.0->spacy==2.3.5) (3.0.4)\n",
      "Requirement already satisfied: certifi>=2017.4.17 in c:\\users\\mouad\\anaconda3\\lib\\site-packages (from requests<3.0.0,>=2.13.0->spacy==2.3.5) (2020.6.20)\n",
      "Note: you may need to restart the kernel to use updated packages.\n"
     ]
    }
   ],
   "source": [
    "pip install spacy==2.3.5"
   ]
  },
  {
   "cell_type": "code",
   "execution_count": 5,
   "metadata": {},
   "outputs": [
    {
     "name": "stdout",
     "output_type": "stream",
     "text": [
      "Collecting https://github.com/explosion/spacy-models/releases/download/en_core_web_sm-2.3.1/en_core_web_sm-2.3.1.tar.gz\n",
      "  Downloading https://github.com/explosion/spacy-models/releases/download/en_core_web_sm-2.3.1/en_core_web_sm-2.3.1.tar.gz (12.0 MB)\n",
      "Requirement already satisfied (use --upgrade to upgrade): en-core-web-sm==2.3.1 from https://github.com/explosion/spacy-models/releases/download/en_core_web_sm-2.3.1/en_core_web_sm-2.3.1.tar.gz in c:\\users\\mouad\\anaconda3\\lib\\site-packages\n",
      "Requirement already satisfied: spacy<2.4.0,>=2.3.0 in c:\\users\\mouad\\anaconda3\\lib\\site-packages (from en-core-web-sm==2.3.1) (2.3.5)\n",
      "Requirement already satisfied: numpy>=1.15.0 in c:\\users\\mouad\\anaconda3\\lib\\site-packages (from spacy<2.4.0,>=2.3.0->en-core-web-sm==2.3.1) (1.22.2)\n",
      "Requirement already satisfied: setuptools in c:\\users\\mouad\\anaconda3\\lib\\site-packages (from spacy<2.4.0,>=2.3.0->en-core-web-sm==2.3.1) (49.2.0.post20200714)\n",
      "Requirement already satisfied: wasabi<1.1.0,>=0.4.0 in c:\\users\\mouad\\anaconda3\\lib\\site-packages (from spacy<2.4.0,>=2.3.0->en-core-web-sm==2.3.1) (0.9.0)\n",
      "Requirement already satisfied: thinc<7.5.0,>=7.4.1 in c:\\users\\mouad\\anaconda3\\lib\\site-packages (from spacy<2.4.0,>=2.3.0->en-core-web-sm==2.3.1) (7.4.5)\n",
      "Requirement already satisfied: catalogue<1.1.0,>=0.0.7 in c:\\users\\mouad\\anaconda3\\lib\\site-packages (from spacy<2.4.0,>=2.3.0->en-core-web-sm==2.3.1) (1.0.0)\n",
      "Requirement already satisfied: plac<1.2.0,>=0.9.6 in c:\\users\\mouad\\anaconda3\\lib\\site-packages (from spacy<2.4.0,>=2.3.0->en-core-web-sm==2.3.1) (1.1.3)\n",
      "Note: you may need to restart the kernel to use updated packages.Requirement already satisfied: srsly<1.1.0,>=1.0.2 in c:\\users\\mouad\\anaconda3\\lib\\site-packages (from spacy<2.4.0,>=2.3.0->en-core-web-sm==2.3.1) (1.0.5)\n",
      "Requirement already satisfied: blis<0.8.0,>=0.4.0 in c:\\users\\mouad\\anaconda3\\lib\\site-packages (from spacy<2.4.0,>=2.3.0->en-core-web-sm==2.3.1) (0.7.6)\n",
      "\n",
      "Requirement already satisfied: preshed<3.1.0,>=3.0.2 in c:\\users\\mouad\\anaconda3\\lib\\site-packages (from spacy<2.4.0,>=2.3.0->en-core-web-sm==2.3.1) (3.0.6)\n",
      "Requirement already satisfied: murmurhash<1.1.0,>=0.28.0 in c:\\users\\mouad\\anaconda3\\lib\\site-packages (from spacy<2.4.0,>=2.3.0->en-core-web-sm==2.3.1) (1.0.6)\n",
      "Requirement already satisfied: requests<3.0.0,>=2.13.0 in c:\\users\\mouad\\anaconda3\\lib\\site-packages (from spacy<2.4.0,>=2.3.0->en-core-web-sm==2.3.1) (2.24.0)\n",
      "Requirement already satisfied: tqdm<5.0.0,>=4.38.0 in c:\\users\\mouad\\anaconda3\\lib\\site-packages (from spacy<2.4.0,>=2.3.0->en-core-web-sm==2.3.1) (4.47.0)\n",
      "Requirement already satisfied: cymem<2.1.0,>=2.0.2 in c:\\users\\mouad\\anaconda3\\lib\\site-packages (from spacy<2.4.0,>=2.3.0->en-core-web-sm==2.3.1) (2.0.6)\n",
      "Requirement already satisfied: chardet<4,>=3.0.2 in c:\\users\\mouad\\anaconda3\\lib\\site-packages (from requests<3.0.0,>=2.13.0->spacy<2.4.0,>=2.3.0->en-core-web-sm==2.3.1) (3.0.4)\n",
      "Requirement already satisfied: certifi>=2017.4.17 in c:\\users\\mouad\\anaconda3\\lib\\site-packages (from requests<3.0.0,>=2.13.0->spacy<2.4.0,>=2.3.0->en-core-web-sm==2.3.1) (2020.6.20)\n",
      "Requirement already satisfied: idna<3,>=2.5 in c:\\users\\mouad\\anaconda3\\lib\\site-packages (from requests<3.0.0,>=2.13.0->spacy<2.4.0,>=2.3.0->en-core-web-sm==2.3.1) (2.10)\n",
      "Requirement already satisfied: urllib3!=1.25.0,!=1.25.1,<1.26,>=1.21.1 in c:\\users\\mouad\\anaconda3\\lib\\site-packages (from requests<3.0.0,>=2.13.0->spacy<2.4.0,>=2.3.0->en-core-web-sm==2.3.1) (1.25.9)\n",
      "Building wheels for collected packages: en-core-web-sm\n",
      "  Building wheel for en-core-web-sm (setup.py): started\n",
      "  Building wheel for en-core-web-sm (setup.py): finished with status 'done'\n",
      "  Created wheel for en-core-web-sm: filename=en_core_web_sm-2.3.1-py3-none-any.whl size=12047114 sha256=c7ffed0aba89c508ea1b4c5ff6f3e1545ed85f12c618562e0926d8757c7afbe4\n",
      "  Stored in directory: c:\\users\\mouad\\appdata\\local\\pip\\cache\\wheels\\ee\\4d\\f7\\563214122be1540b5f9197b52cb3ddb9c4a8070808b22d5a84\n",
      "Successfully built en-core-web-sm\n"
     ]
    }
   ],
   "source": [
    "pip install https://github.com/explosion/spacy-models/releases/download/en_core_web_sm-2.3.1/en_core_web_sm-2.3.1.tar.gz"
   ]
  },
  {
   "cell_type": "code",
   "execution_count": 6,
   "metadata": {},
   "outputs": [
    {
     "name": "stderr",
     "output_type": "stream",
     "text": [
      "[nltk_data] Downloading package stopwords to\n",
      "[nltk_data]     C:\\Users\\mouad\\AppData\\Roaming\\nltk_data...\n",
      "[nltk_data]   Package stopwords is already up-to-date!\n"
     ]
    },
    {
     "data": {
      "text/plain": [
       "True"
      ]
     },
     "execution_count": 6,
     "metadata": {},
     "output_type": "execute_result"
    }
   ],
   "source": [
    "import nltk\n",
    "nltk.download('stopwords')"
   ]
  },
  {
   "cell_type": "code",
   "execution_count": 7,
   "metadata": {},
   "outputs": [
    {
     "name": "stderr",
     "output_type": "stream",
     "text": [
      "C:\\Users\\mouad\\anaconda3\\lib\\site-packages\\spacy\\util.py:275: UserWarning: [W031] Model 'en_training' (0.0.0) requires spaCy v2.2 and is incompatible with the current spaCy version (2.3.5). This may lead to unexpected results or runtime errors. To resolve this, download a newer compatible model or retrain your custom model with the current spaCy version. For more details and available updates, run: python -m spacy validate\n",
      "  warnings.warn(warn_msg)\n"
     ]
    },
    {
     "data": {
      "text/plain": [
       "<spacy.lang.en.English at 0x22dec20ad90>"
      ]
     },
     "execution_count": 7,
     "metadata": {},
     "output_type": "execute_result"
    }
   ],
   "source": [
    "from resume_parser import resumeparse # Library 1\n",
    "from pyresparser import ResumeParser #Library 2\n",
    "import os\n",
    "import spacy\n",
    "spacy.load('en_core_web_sm')"
   ]
  },
  {
   "cell_type": "code",
   "execution_count": 17,
   "metadata": {},
   "outputs": [
    {
     "name": "stderr",
     "output_type": "stream",
     "text": [
      "C:\\Users\\mouad\\anaconda3\\lib\\site-packages\\spacy\\util.py:275: UserWarning: [W031] Model 'en_training' (0.0.0) requires spaCy v2.1 and is incompatible with the current spaCy version (2.3.5). This may lead to unexpected results or runtime errors. To resolve this, download a newer compatible model or retrain your custom model with the current spaCy version. For more details and available updates, run: python -m spacy validate\n",
      "  warnings.warn(warn_msg)\n",
      "C:\\Users\\mouad\\anaconda3\\lib\\site-packages\\spacy\\util.py:275: UserWarning: [W031] Model 'en_training' (0.0.0) requires spaCy v2.1 and is incompatible with the current spaCy version (2.3.5). This may lead to unexpected results or runtime errors. To resolve this, download a newer compatible model or retrain your custom model with the current spaCy version. For more details and available updates, run: python -m spacy validate\n",
      "  warnings.warn(warn_msg)\n",
      "C:\\Users\\mouad\\anaconda3\\lib\\site-packages\\spacy\\util.py:275: UserWarning: [W031] Model 'en_training' (0.0.0) requires spaCy v2.1 and is incompatible with the current spaCy version (2.3.5). This may lead to unexpected results or runtime errors. To resolve this, download a newer compatible model or retrain your custom model with the current spaCy version. For more details and available updates, run: python -m spacy validate\n",
      "  warnings.warn(warn_msg)\n",
      "C:\\Users\\mouad\\anaconda3\\lib\\site-packages\\spacy\\util.py:275: UserWarning: [W031] Model 'en_training' (0.0.0) requires spaCy v2.1 and is incompatible with the current spaCy version (2.3.5). This may lead to unexpected results or runtime errors. To resolve this, download a newer compatible model or retrain your custom model with the current spaCy version. For more details and available updates, run: python -m spacy validate\n",
      "  warnings.warn(warn_msg)\n",
      "C:\\Users\\mouad\\anaconda3\\lib\\site-packages\\spacy\\util.py:275: UserWarning: [W031] Model 'en_training' (0.0.0) requires spaCy v2.1 and is incompatible with the current spaCy version (2.3.5). This may lead to unexpected results or runtime errors. To resolve this, download a newer compatible model or retrain your custom model with the current spaCy version. For more details and available updates, run: python -m spacy validate\n",
      "  warnings.warn(warn_msg)\n",
      "C:\\Users\\mouad\\anaconda3\\lib\\site-packages\\spacy\\util.py:275: UserWarning: [W031] Model 'en_training' (0.0.0) requires spaCy v2.1 and is incompatible with the current spaCy version (2.3.5). This may lead to unexpected results or runtime errors. To resolve this, download a newer compatible model or retrain your custom model with the current spaCy version. For more details and available updates, run: python -m spacy validate\n",
      "  warnings.warn(warn_msg)\n",
      "C:\\Users\\mouad\\anaconda3\\lib\\site-packages\\spacy\\util.py:275: UserWarning: [W031] Model 'en_training' (0.0.0) requires spaCy v2.1 and is incompatible with the current spaCy version (2.3.5). This may lead to unexpected results or runtime errors. To resolve this, download a newer compatible model or retrain your custom model with the current spaCy version. For more details and available updates, run: python -m spacy validate\n",
      "  warnings.warn(warn_msg)\n",
      "C:\\Users\\mouad\\anaconda3\\lib\\site-packages\\spacy\\util.py:275: UserWarning: [W031] Model 'en_training' (0.0.0) requires spaCy v2.1 and is incompatible with the current spaCy version (2.3.5). This may lead to unexpected results or runtime errors. To resolve this, download a newer compatible model or retrain your custom model with the current spaCy version. For more details and available updates, run: python -m spacy validate\n",
      "  warnings.warn(warn_msg)\n",
      "C:\\Users\\mouad\\anaconda3\\lib\\site-packages\\spacy\\util.py:275: UserWarning: [W031] Model 'en_training' (0.0.0) requires spaCy v2.1 and is incompatible with the current spaCy version (2.3.5). This may lead to unexpected results or runtime errors. To resolve this, download a newer compatible model or retrain your custom model with the current spaCy version. For more details and available updates, run: python -m spacy validate\n",
      "  warnings.warn(warn_msg)\n",
      "C:\\Users\\mouad\\anaconda3\\lib\\site-packages\\spacy\\util.py:275: UserWarning: [W031] Model 'en_training' (0.0.0) requires spaCy v2.1 and is incompatible with the current spaCy version (2.3.5). This may lead to unexpected results or runtime errors. To resolve this, download a newer compatible model or retrain your custom model with the current spaCy version. For more details and available updates, run: python -m spacy validate\n",
      "  warnings.warn(warn_msg)\n",
      "C:\\Users\\mouad\\anaconda3\\lib\\site-packages\\spacy\\util.py:275: UserWarning: [W031] Model 'en_training' (0.0.0) requires spaCy v2.1 and is incompatible with the current spaCy version (2.3.5). This may lead to unexpected results or runtime errors. To resolve this, download a newer compatible model or retrain your custom model with the current spaCy version. For more details and available updates, run: python -m spacy validate\n",
      "  warnings.warn(warn_msg)\n"
     ]
    }
   ],
   "source": [
    "dir_list = os.listdir(r'C:\\Users\\mouad\\Desktop\\datasets')\n",
    "#print(dir_list)\n",
    "\n",
    "res_list = []\n",
    "paths = r'C:\\Users\\mouad\\Desktop\\datasets'\n",
    "c = 0\n",
    "for i in dir_list:\n",
    "    c = c + 1\n",
    "    if c == 5000:\n",
    "        break\n",
    "    pfinal = os.path.join(paths, i)\n",
    "    data = ResumeParser(pfinal).get_extracted_data()\n",
    "    res_list.append(data)"
   ]
  },
  {
   "cell_type": "code",
   "execution_count": 18,
   "metadata": {},
   "outputs": [
    {
     "name": "stdout",
     "output_type": "stream",
     "text": [
      "11\n"
     ]
    }
   ],
   "source": [
    "print(len(res_list))"
   ]
  },
  {
   "cell_type": "code",
   "execution_count": 19,
   "metadata": {},
   "outputs": [],
   "source": [
    "import pandas as pd\n",
    "df= pd.DataFrame(res_list)"
   ]
  },
  {
   "cell_type": "code",
   "execution_count": 20,
   "metadata": {},
   "outputs": [
    {
     "data": {
      "text/html": [
       "<div>\n",
       "<style scoped>\n",
       "    .dataframe tbody tr th:only-of-type {\n",
       "        vertical-align: middle;\n",
       "    }\n",
       "\n",
       "    .dataframe tbody tr th {\n",
       "        vertical-align: top;\n",
       "    }\n",
       "\n",
       "    .dataframe thead th {\n",
       "        text-align: right;\n",
       "    }\n",
       "</style>\n",
       "<table border=\"1\" class=\"dataframe\">\n",
       "  <thead>\n",
       "    <tr style=\"text-align: right;\">\n",
       "      <th></th>\n",
       "      <th>name</th>\n",
       "      <th>email</th>\n",
       "      <th>mobile_number</th>\n",
       "      <th>skills</th>\n",
       "      <th>college_name</th>\n",
       "      <th>degree</th>\n",
       "      <th>designation</th>\n",
       "      <th>experience</th>\n",
       "      <th>company_names</th>\n",
       "      <th>no_of_pages</th>\n",
       "      <th>total_experience</th>\n",
       "    </tr>\n",
       "  </thead>\n",
       "  <tbody>\n",
       "    <tr>\n",
       "      <th>0</th>\n",
       "      <td>BELGAIED MOUADH</td>\n",
       "      <td>mouadh.belgaied@esprit.tn</td>\n",
       "      <td>216 5244561</td>\n",
       "      <td>[R, C, P, Html]</td>\n",
       "      <td>None</td>\n",
       "      <td>None</td>\n",
       "      <td>None</td>\n",
       "      <td>None</td>\n",
       "      <td>None</td>\n",
       "      <td>1</td>\n",
       "      <td>0.00</td>\n",
       "    </tr>\n",
       "    <tr>\n",
       "      <th>1</th>\n",
       "      <td>DUSTIN WEST</td>\n",
       "      <td>email@email.com</td>\n",
       "      <td>3056478349</td>\n",
       "      <td>[Reports, Accounting, Travel, Tax, Electronics...</td>\n",
       "      <td>None</td>\n",
       "      <td>None</td>\n",
       "      <td>[Technical Assistant at Algorax, Technical Ass...</td>\n",
       "      <td>None</td>\n",
       "      <td>None</td>\n",
       "      <td>2</td>\n",
       "      <td>0.00</td>\n",
       "    </tr>\n",
       "    <tr>\n",
       "      <th>2</th>\n",
       "      <td>MICHELLE LOPEZ</td>\n",
       "      <td>EMAIL@</td>\n",
       "      <td>754-3010</td>\n",
       "      <td>[Merchandising, Process, Drafting, Cad, Produc...</td>\n",
       "      <td>None</td>\n",
       "      <td>[Degree in Fashion Design at, Bachelor of Arts...</td>\n",
       "      <td>None</td>\n",
       "      <td>[Launched product lines for Chanel and Gucci.,...</td>\n",
       "      <td>None</td>\n",
       "      <td>3</td>\n",
       "      <td>0.00</td>\n",
       "    </tr>\n",
       "    <tr>\n",
       "      <th>3</th>\n",
       "      <td>Jason Miller</td>\n",
       "      <td>email@email.com</td>\n",
       "      <td>3868683442</td>\n",
       "      <td>[Warehouse, Operations, Technical, Supply chai...</td>\n",
       "      <td>None</td>\n",
       "      <td>None</td>\n",
       "      <td>None</td>\n",
       "      <td>None</td>\n",
       "      <td>None</td>\n",
       "      <td>2</td>\n",
       "      <td>0.00</td>\n",
       "    </tr>\n",
       "    <tr>\n",
       "      <th>4</th>\n",
       "      <td>S Contact</td>\n",
       "      <td>email@email.com</td>\n",
       "      <td>3868683442</td>\n",
       "      <td>[Invoicing, Hospitality, Visual, P, Marketing,...</td>\n",
       "      <td>None</td>\n",
       "      <td>None</td>\n",
       "      <td>[Event Coordinator, Sales and marketing, Pract...</td>\n",
       "      <td>[fruitful execution. Skilled at motivating lar...</td>\n",
       "      <td>[J U N E, E M P LOY M E N T]</td>\n",
       "      <td>2</td>\n",
       "      <td>0.00</td>\n",
       "    </tr>\n",
       "    <tr>\n",
       "      <th>5</th>\n",
       "      <td>ROBERT COOPER</td>\n",
       "      <td>email@email.com</td>\n",
       "      <td>3868683442</td>\n",
       "      <td>[Access, Security, Reports, Repairs, Troublesh...</td>\n",
       "      <td>None</td>\n",
       "      <td>None</td>\n",
       "      <td>None</td>\n",
       "      <td>[guarding VIP individuals in the military and ...</td>\n",
       "      <td>None</td>\n",
       "      <td>2</td>\n",
       "      <td>3.50</td>\n",
       "    </tr>\n",
       "    <tr>\n",
       "      <th>6</th>\n",
       "      <td>Resume Templates</td>\n",
       "      <td>email@email.com</td>\n",
       "      <td>3868683442</td>\n",
       "      <td>[Contracts, Agile, Engineering, Logistics, Pro...</td>\n",
       "      <td>None</td>\n",
       "      <td>[Masters in Industrial Engineering]</td>\n",
       "      <td>[Sales Engineer]</td>\n",
       "      <td>[contributing to the 30% growth of income for ...</td>\n",
       "      <td>[1515 Pacific Ave, Los Angeles,]</td>\n",
       "      <td>2</td>\n",
       "      <td>0.00</td>\n",
       "    </tr>\n",
       "    <tr>\n",
       "      <th>7</th>\n",
       "      <td>Kristen Connelly</td>\n",
       "      <td>email@email.com</td>\n",
       "      <td>3868683442</td>\n",
       "      <td>[Advertising, Presentations, Visual, P, Acquis...</td>\n",
       "      <td>None</td>\n",
       "      <td>[BA in Film and Television, B I R T H]</td>\n",
       "      <td>[Video Production Assistant]</td>\n",
       "      <td>None</td>\n",
       "      <td>None</td>\n",
       "      <td>1</td>\n",
       "      <td>0.00</td>\n",
       "    </tr>\n",
       "    <tr>\n",
       "      <th>8</th>\n",
       "      <td>Mandy Campbell</td>\n",
       "      <td>email@email.com</td>\n",
       "      <td>3868683442</td>\n",
       "      <td>[Statistics, P, Cpr, Marketing, Health, Fitnes...</td>\n",
       "      <td>None</td>\n",
       "      <td>None</td>\n",
       "      <td>None</td>\n",
       "      <td>[Assisted one client to decrease chronic A1C b...</td>\n",
       "      <td>None</td>\n",
       "      <td>2</td>\n",
       "      <td>2.50</td>\n",
       "    </tr>\n",
       "    <tr>\n",
       "      <th>9</th>\n",
       "      <td>Esther Scott</td>\n",
       "      <td>email@email.com</td>\n",
       "      <td>3868683442</td>\n",
       "      <td>[Hospitality, Budgeting, P, Accounting, Websit...</td>\n",
       "      <td>None</td>\n",
       "      <td>None</td>\n",
       "      <td>None</td>\n",
       "      <td>[and Tourism industries. Possesses expertise i...</td>\n",
       "      <td>None</td>\n",
       "      <td>1</td>\n",
       "      <td>0.00</td>\n",
       "    </tr>\n",
       "    <tr>\n",
       "      <th>10</th>\n",
       "      <td>MICHELLE JEWETT</td>\n",
       "      <td>email@email.com</td>\n",
       "      <td>754-3010</td>\n",
       "      <td>[Analytics, Advertising, Access, Reports, Bank...</td>\n",
       "      <td>None</td>\n",
       "      <td>None</td>\n",
       "      <td>None</td>\n",
       "      <td>[social media channel set up and blogging has ...</td>\n",
       "      <td>None</td>\n",
       "      <td>2</td>\n",
       "      <td>2.25</td>\n",
       "    </tr>\n",
       "  </tbody>\n",
       "</table>\n",
       "</div>"
      ],
      "text/plain": [
       "                name                      email mobile_number  \\\n",
       "0    BELGAIED MOUADH  mouadh.belgaied@esprit.tn   216 5244561   \n",
       "1        DUSTIN WEST            email@email.com    3056478349   \n",
       "2     MICHELLE LOPEZ                     EMAIL@      754-3010   \n",
       "3       Jason Miller            email@email.com    3868683442   \n",
       "4          S Contact            email@email.com    3868683442   \n",
       "5      ROBERT COOPER            email@email.com    3868683442   \n",
       "6   Resume Templates            email@email.com    3868683442   \n",
       "7   Kristen Connelly            email@email.com    3868683442   \n",
       "8     Mandy Campbell            email@email.com    3868683442   \n",
       "9       Esther Scott            email@email.com    3868683442   \n",
       "10   MICHELLE JEWETT            email@email.com      754-3010   \n",
       "\n",
       "                                               skills college_name  \\\n",
       "0                                     [R, C, P, Html]         None   \n",
       "1   [Reports, Accounting, Travel, Tax, Electronics...         None   \n",
       "2   [Merchandising, Process, Drafting, Cad, Produc...         None   \n",
       "3   [Warehouse, Operations, Technical, Supply chai...         None   \n",
       "4   [Invoicing, Hospitality, Visual, P, Marketing,...         None   \n",
       "5   [Access, Security, Reports, Repairs, Troublesh...         None   \n",
       "6   [Contracts, Agile, Engineering, Logistics, Pro...         None   \n",
       "7   [Advertising, Presentations, Visual, P, Acquis...         None   \n",
       "8   [Statistics, P, Cpr, Marketing, Health, Fitnes...         None   \n",
       "9   [Hospitality, Budgeting, P, Accounting, Websit...         None   \n",
       "10  [Analytics, Advertising, Access, Reports, Bank...         None   \n",
       "\n",
       "                                               degree  \\\n",
       "0                                                None   \n",
       "1                                                None   \n",
       "2   [Degree in Fashion Design at, Bachelor of Arts...   \n",
       "3                                                None   \n",
       "4                                                None   \n",
       "5                                                None   \n",
       "6                 [Masters in Industrial Engineering]   \n",
       "7              [BA in Film and Television, B I R T H]   \n",
       "8                                                None   \n",
       "9                                                None   \n",
       "10                                               None   \n",
       "\n",
       "                                          designation  \\\n",
       "0                                                None   \n",
       "1   [Technical Assistant at Algorax, Technical Ass...   \n",
       "2                                                None   \n",
       "3                                                None   \n",
       "4   [Event Coordinator, Sales and marketing, Pract...   \n",
       "5                                                None   \n",
       "6                                    [Sales Engineer]   \n",
       "7                        [Video Production Assistant]   \n",
       "8                                                None   \n",
       "9                                                None   \n",
       "10                                               None   \n",
       "\n",
       "                                           experience  \\\n",
       "0                                                None   \n",
       "1                                                None   \n",
       "2   [Launched product lines for Chanel and Gucci.,...   \n",
       "3                                                None   \n",
       "4   [fruitful execution. Skilled at motivating lar...   \n",
       "5   [guarding VIP individuals in the military and ...   \n",
       "6   [contributing to the 30% growth of income for ...   \n",
       "7                                                None   \n",
       "8   [Assisted one client to decrease chronic A1C b...   \n",
       "9   [and Tourism industries. Possesses expertise i...   \n",
       "10  [social media channel set up and blogging has ...   \n",
       "\n",
       "                       company_names  no_of_pages  total_experience  \n",
       "0                               None            1              0.00  \n",
       "1                               None            2              0.00  \n",
       "2                               None            3              0.00  \n",
       "3                               None            2              0.00  \n",
       "4       [J U N E, E M P LOY M E N T]            2              0.00  \n",
       "5                               None            2              3.50  \n",
       "6   [1515 Pacific Ave, Los Angeles,]            2              0.00  \n",
       "7                               None            1              0.00  \n",
       "8                               None            2              2.50  \n",
       "9                               None            1              0.00  \n",
       "10                              None            2              2.25  "
      ]
     },
     "execution_count": 20,
     "metadata": {},
     "output_type": "execute_result"
    }
   ],
   "source": [
    "df"
   ]
  },
  {
   "cell_type": "code",
   "execution_count": 12,
   "metadata": {},
   "outputs": [],
   "source": [
    "#df.to_csv('test1.csv')"
   ]
  },
  {
   "cell_type": "code",
   "execution_count": null,
   "metadata": {},
   "outputs": [],
   "source": []
  }
 ],
 "metadata": {
  "kernelspec": {
   "display_name": "Python 3",
   "language": "python",
   "name": "python3"
  },
  "language_info": {
   "codemirror_mode": {
    "name": "ipython",
    "version": 3
   },
   "file_extension": ".py",
   "mimetype": "text/x-python",
   "name": "python",
   "nbconvert_exporter": "python",
   "pygments_lexer": "ipython3",
   "version": "3.8.3"
  }
 },
 "nbformat": 4,
 "nbformat_minor": 4
}
